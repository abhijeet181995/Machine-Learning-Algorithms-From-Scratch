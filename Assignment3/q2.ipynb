{
  "nbformat": 4,
  "nbformat_minor": 0,
  "metadata": {
    "colab": {
      "name": "Assignment3(2).ipynb",
      "provenance": [],
      "collapsed_sections": []
    },
    "kernelspec": {
      "display_name": "Python 3",
      "name": "python3"
    },
    "language_info": {
      "name": "python"
    },
    "widgets": {
      "application/vnd.jupyter.widget-state+json": {
        "e3a2db56be1b44b5ac8f572a2d2792f9": {
          "model_module": "@jupyter-widgets/controls",
          "model_name": "HBoxModel",
          "state": {
            "_view_name": "HBoxView",
            "_dom_classes": [],
            "_model_name": "HBoxModel",
            "_view_module": "@jupyter-widgets/controls",
            "_model_module_version": "1.5.0",
            "_view_count": null,
            "_view_module_version": "1.5.0",
            "box_style": "",
            "layout": "IPY_MODEL_3ba491abf31e4a00959f61947e7aa4fd",
            "_model_module": "@jupyter-widgets/controls",
            "children": [
              "IPY_MODEL_38c8d50373df4537ba58210bc9ff144b",
              "IPY_MODEL_74c741b3567344f299facb6f486fff38"
            ]
          }
        },
        "3ba491abf31e4a00959f61947e7aa4fd": {
          "model_module": "@jupyter-widgets/base",
          "model_name": "LayoutModel",
          "state": {
            "_view_name": "LayoutView",
            "grid_template_rows": null,
            "right": null,
            "justify_content": null,
            "_view_module": "@jupyter-widgets/base",
            "overflow": null,
            "_model_module_version": "1.2.0",
            "_view_count": null,
            "flex_flow": null,
            "width": null,
            "min_width": null,
            "border": null,
            "align_items": null,
            "bottom": null,
            "_model_module": "@jupyter-widgets/base",
            "top": null,
            "grid_column": null,
            "overflow_y": null,
            "overflow_x": null,
            "grid_auto_flow": null,
            "grid_area": null,
            "grid_template_columns": null,
            "flex": null,
            "_model_name": "LayoutModel",
            "justify_items": null,
            "grid_row": null,
            "max_height": null,
            "align_content": null,
            "visibility": null,
            "align_self": null,
            "height": null,
            "min_height": null,
            "padding": null,
            "grid_auto_rows": null,
            "grid_gap": null,
            "max_width": null,
            "order": null,
            "_view_module_version": "1.2.0",
            "grid_template_areas": null,
            "object_position": null,
            "object_fit": null,
            "grid_auto_columns": null,
            "margin": null,
            "display": null,
            "left": null
          }
        },
        "38c8d50373df4537ba58210bc9ff144b": {
          "model_module": "@jupyter-widgets/controls",
          "model_name": "FloatProgressModel",
          "state": {
            "_view_name": "ProgressView",
            "style": "IPY_MODEL_e8f51e3fef4c4d2c92ef78ab3dbefe74",
            "_dom_classes": [],
            "description": "",
            "_model_name": "FloatProgressModel",
            "bar_style": "success",
            "max": 9912422,
            "_view_module": "@jupyter-widgets/controls",
            "_model_module_version": "1.5.0",
            "value": 9912422,
            "_view_count": null,
            "_view_module_version": "1.5.0",
            "orientation": "horizontal",
            "min": 0,
            "description_tooltip": null,
            "_model_module": "@jupyter-widgets/controls",
            "layout": "IPY_MODEL_e4728a5d025e4c16b1685635f80a67f7"
          }
        },
        "74c741b3567344f299facb6f486fff38": {
          "model_module": "@jupyter-widgets/controls",
          "model_name": "HTMLModel",
          "state": {
            "_view_name": "HTMLView",
            "style": "IPY_MODEL_236d8e758aa04b158d056b4c2e36d256",
            "_dom_classes": [],
            "description": "",
            "_model_name": "HTMLModel",
            "placeholder": "​",
            "_view_module": "@jupyter-widgets/controls",
            "_model_module_version": "1.5.0",
            "value": " 9913344/? [00:00&lt;00:00, 28856912.12it/s]",
            "_view_count": null,
            "_view_module_version": "1.5.0",
            "description_tooltip": null,
            "_model_module": "@jupyter-widgets/controls",
            "layout": "IPY_MODEL_8a9d46cc6d5640a9bf5572fa2b24f135"
          }
        },
        "e8f51e3fef4c4d2c92ef78ab3dbefe74": {
          "model_module": "@jupyter-widgets/controls",
          "model_name": "ProgressStyleModel",
          "state": {
            "_view_name": "StyleView",
            "_model_name": "ProgressStyleModel",
            "description_width": "initial",
            "_view_module": "@jupyter-widgets/base",
            "_model_module_version": "1.5.0",
            "_view_count": null,
            "_view_module_version": "1.2.0",
            "bar_color": null,
            "_model_module": "@jupyter-widgets/controls"
          }
        },
        "e4728a5d025e4c16b1685635f80a67f7": {
          "model_module": "@jupyter-widgets/base",
          "model_name": "LayoutModel",
          "state": {
            "_view_name": "LayoutView",
            "grid_template_rows": null,
            "right": null,
            "justify_content": null,
            "_view_module": "@jupyter-widgets/base",
            "overflow": null,
            "_model_module_version": "1.2.0",
            "_view_count": null,
            "flex_flow": null,
            "width": null,
            "min_width": null,
            "border": null,
            "align_items": null,
            "bottom": null,
            "_model_module": "@jupyter-widgets/base",
            "top": null,
            "grid_column": null,
            "overflow_y": null,
            "overflow_x": null,
            "grid_auto_flow": null,
            "grid_area": null,
            "grid_template_columns": null,
            "flex": null,
            "_model_name": "LayoutModel",
            "justify_items": null,
            "grid_row": null,
            "max_height": null,
            "align_content": null,
            "visibility": null,
            "align_self": null,
            "height": null,
            "min_height": null,
            "padding": null,
            "grid_auto_rows": null,
            "grid_gap": null,
            "max_width": null,
            "order": null,
            "_view_module_version": "1.2.0",
            "grid_template_areas": null,
            "object_position": null,
            "object_fit": null,
            "grid_auto_columns": null,
            "margin": null,
            "display": null,
            "left": null
          }
        },
        "236d8e758aa04b158d056b4c2e36d256": {
          "model_module": "@jupyter-widgets/controls",
          "model_name": "DescriptionStyleModel",
          "state": {
            "_view_name": "StyleView",
            "_model_name": "DescriptionStyleModel",
            "description_width": "",
            "_view_module": "@jupyter-widgets/base",
            "_model_module_version": "1.5.0",
            "_view_count": null,
            "_view_module_version": "1.2.0",
            "_model_module": "@jupyter-widgets/controls"
          }
        },
        "8a9d46cc6d5640a9bf5572fa2b24f135": {
          "model_module": "@jupyter-widgets/base",
          "model_name": "LayoutModel",
          "state": {
            "_view_name": "LayoutView",
            "grid_template_rows": null,
            "right": null,
            "justify_content": null,
            "_view_module": "@jupyter-widgets/base",
            "overflow": null,
            "_model_module_version": "1.2.0",
            "_view_count": null,
            "flex_flow": null,
            "width": null,
            "min_width": null,
            "border": null,
            "align_items": null,
            "bottom": null,
            "_model_module": "@jupyter-widgets/base",
            "top": null,
            "grid_column": null,
            "overflow_y": null,
            "overflow_x": null,
            "grid_auto_flow": null,
            "grid_area": null,
            "grid_template_columns": null,
            "flex": null,
            "_model_name": "LayoutModel",
            "justify_items": null,
            "grid_row": null,
            "max_height": null,
            "align_content": null,
            "visibility": null,
            "align_self": null,
            "height": null,
            "min_height": null,
            "padding": null,
            "grid_auto_rows": null,
            "grid_gap": null,
            "max_width": null,
            "order": null,
            "_view_module_version": "1.2.0",
            "grid_template_areas": null,
            "object_position": null,
            "object_fit": null,
            "grid_auto_columns": null,
            "margin": null,
            "display": null,
            "left": null
          }
        },
        "ad2b80774d9a4fa19a2d5c08b046aed5": {
          "model_module": "@jupyter-widgets/controls",
          "model_name": "HBoxModel",
          "state": {
            "_view_name": "HBoxView",
            "_dom_classes": [],
            "_model_name": "HBoxModel",
            "_view_module": "@jupyter-widgets/controls",
            "_model_module_version": "1.5.0",
            "_view_count": null,
            "_view_module_version": "1.5.0",
            "box_style": "",
            "layout": "IPY_MODEL_f522b2b4c282403bb6666b526bb2983b",
            "_model_module": "@jupyter-widgets/controls",
            "children": [
              "IPY_MODEL_1938d2c7472043ce87f449d0209d4e6a",
              "IPY_MODEL_63c486f61c2249d3abe2b60b935ed6a4"
            ]
          }
        },
        "f522b2b4c282403bb6666b526bb2983b": {
          "model_module": "@jupyter-widgets/base",
          "model_name": "LayoutModel",
          "state": {
            "_view_name": "LayoutView",
            "grid_template_rows": null,
            "right": null,
            "justify_content": null,
            "_view_module": "@jupyter-widgets/base",
            "overflow": null,
            "_model_module_version": "1.2.0",
            "_view_count": null,
            "flex_flow": null,
            "width": null,
            "min_width": null,
            "border": null,
            "align_items": null,
            "bottom": null,
            "_model_module": "@jupyter-widgets/base",
            "top": null,
            "grid_column": null,
            "overflow_y": null,
            "overflow_x": null,
            "grid_auto_flow": null,
            "grid_area": null,
            "grid_template_columns": null,
            "flex": null,
            "_model_name": "LayoutModel",
            "justify_items": null,
            "grid_row": null,
            "max_height": null,
            "align_content": null,
            "visibility": null,
            "align_self": null,
            "height": null,
            "min_height": null,
            "padding": null,
            "grid_auto_rows": null,
            "grid_gap": null,
            "max_width": null,
            "order": null,
            "_view_module_version": "1.2.0",
            "grid_template_areas": null,
            "object_position": null,
            "object_fit": null,
            "grid_auto_columns": null,
            "margin": null,
            "display": null,
            "left": null
          }
        },
        "1938d2c7472043ce87f449d0209d4e6a": {
          "model_module": "@jupyter-widgets/controls",
          "model_name": "FloatProgressModel",
          "state": {
            "_view_name": "ProgressView",
            "style": "IPY_MODEL_9c8904e9774c4b4e9ad57bac10d3b664",
            "_dom_classes": [],
            "description": "",
            "_model_name": "FloatProgressModel",
            "bar_style": "success",
            "max": 28881,
            "_view_module": "@jupyter-widgets/controls",
            "_model_module_version": "1.5.0",
            "value": 28881,
            "_view_count": null,
            "_view_module_version": "1.5.0",
            "orientation": "horizontal",
            "min": 0,
            "description_tooltip": null,
            "_model_module": "@jupyter-widgets/controls",
            "layout": "IPY_MODEL_64f620e930874b98b2da0eceb8689302"
          }
        },
        "63c486f61c2249d3abe2b60b935ed6a4": {
          "model_module": "@jupyter-widgets/controls",
          "model_name": "HTMLModel",
          "state": {
            "_view_name": "HTMLView",
            "style": "IPY_MODEL_323dfff618644b408728b9bc45c62af0",
            "_dom_classes": [],
            "description": "",
            "_model_name": "HTMLModel",
            "placeholder": "​",
            "_view_module": "@jupyter-widgets/controls",
            "_model_module_version": "1.5.0",
            "value": " 29696/? [00:00&lt;00:00, 395397.14it/s]",
            "_view_count": null,
            "_view_module_version": "1.5.0",
            "description_tooltip": null,
            "_model_module": "@jupyter-widgets/controls",
            "layout": "IPY_MODEL_03f723bfa894440b8ac3ba9e522f7273"
          }
        },
        "9c8904e9774c4b4e9ad57bac10d3b664": {
          "model_module": "@jupyter-widgets/controls",
          "model_name": "ProgressStyleModel",
          "state": {
            "_view_name": "StyleView",
            "_model_name": "ProgressStyleModel",
            "description_width": "initial",
            "_view_module": "@jupyter-widgets/base",
            "_model_module_version": "1.5.0",
            "_view_count": null,
            "_view_module_version": "1.2.0",
            "bar_color": null,
            "_model_module": "@jupyter-widgets/controls"
          }
        },
        "64f620e930874b98b2da0eceb8689302": {
          "model_module": "@jupyter-widgets/base",
          "model_name": "LayoutModel",
          "state": {
            "_view_name": "LayoutView",
            "grid_template_rows": null,
            "right": null,
            "justify_content": null,
            "_view_module": "@jupyter-widgets/base",
            "overflow": null,
            "_model_module_version": "1.2.0",
            "_view_count": null,
            "flex_flow": null,
            "width": null,
            "min_width": null,
            "border": null,
            "align_items": null,
            "bottom": null,
            "_model_module": "@jupyter-widgets/base",
            "top": null,
            "grid_column": null,
            "overflow_y": null,
            "overflow_x": null,
            "grid_auto_flow": null,
            "grid_area": null,
            "grid_template_columns": null,
            "flex": null,
            "_model_name": "LayoutModel",
            "justify_items": null,
            "grid_row": null,
            "max_height": null,
            "align_content": null,
            "visibility": null,
            "align_self": null,
            "height": null,
            "min_height": null,
            "padding": null,
            "grid_auto_rows": null,
            "grid_gap": null,
            "max_width": null,
            "order": null,
            "_view_module_version": "1.2.0",
            "grid_template_areas": null,
            "object_position": null,
            "object_fit": null,
            "grid_auto_columns": null,
            "margin": null,
            "display": null,
            "left": null
          }
        },
        "323dfff618644b408728b9bc45c62af0": {
          "model_module": "@jupyter-widgets/controls",
          "model_name": "DescriptionStyleModel",
          "state": {
            "_view_name": "StyleView",
            "_model_name": "DescriptionStyleModel",
            "description_width": "",
            "_view_module": "@jupyter-widgets/base",
            "_model_module_version": "1.5.0",
            "_view_count": null,
            "_view_module_version": "1.2.0",
            "_model_module": "@jupyter-widgets/controls"
          }
        },
        "03f723bfa894440b8ac3ba9e522f7273": {
          "model_module": "@jupyter-widgets/base",
          "model_name": "LayoutModel",
          "state": {
            "_view_name": "LayoutView",
            "grid_template_rows": null,
            "right": null,
            "justify_content": null,
            "_view_module": "@jupyter-widgets/base",
            "overflow": null,
            "_model_module_version": "1.2.0",
            "_view_count": null,
            "flex_flow": null,
            "width": null,
            "min_width": null,
            "border": null,
            "align_items": null,
            "bottom": null,
            "_model_module": "@jupyter-widgets/base",
            "top": null,
            "grid_column": null,
            "overflow_y": null,
            "overflow_x": null,
            "grid_auto_flow": null,
            "grid_area": null,
            "grid_template_columns": null,
            "flex": null,
            "_model_name": "LayoutModel",
            "justify_items": null,
            "grid_row": null,
            "max_height": null,
            "align_content": null,
            "visibility": null,
            "align_self": null,
            "height": null,
            "min_height": null,
            "padding": null,
            "grid_auto_rows": null,
            "grid_gap": null,
            "max_width": null,
            "order": null,
            "_view_module_version": "1.2.0",
            "grid_template_areas": null,
            "object_position": null,
            "object_fit": null,
            "grid_auto_columns": null,
            "margin": null,
            "display": null,
            "left": null
          }
        },
        "b0af551d1ac749ba9f13a45b25ffd967": {
          "model_module": "@jupyter-widgets/controls",
          "model_name": "HBoxModel",
          "state": {
            "_view_name": "HBoxView",
            "_dom_classes": [],
            "_model_name": "HBoxModel",
            "_view_module": "@jupyter-widgets/controls",
            "_model_module_version": "1.5.0",
            "_view_count": null,
            "_view_module_version": "1.5.0",
            "box_style": "",
            "layout": "IPY_MODEL_ea274a56ab7d4a3698c5d0c1f0559d79",
            "_model_module": "@jupyter-widgets/controls",
            "children": [
              "IPY_MODEL_5906248e861a4532a27a9d83bc0f218e",
              "IPY_MODEL_82d82426cb5e489689b7583ba1a0d236"
            ]
          }
        },
        "ea274a56ab7d4a3698c5d0c1f0559d79": {
          "model_module": "@jupyter-widgets/base",
          "model_name": "LayoutModel",
          "state": {
            "_view_name": "LayoutView",
            "grid_template_rows": null,
            "right": null,
            "justify_content": null,
            "_view_module": "@jupyter-widgets/base",
            "overflow": null,
            "_model_module_version": "1.2.0",
            "_view_count": null,
            "flex_flow": null,
            "width": null,
            "min_width": null,
            "border": null,
            "align_items": null,
            "bottom": null,
            "_model_module": "@jupyter-widgets/base",
            "top": null,
            "grid_column": null,
            "overflow_y": null,
            "overflow_x": null,
            "grid_auto_flow": null,
            "grid_area": null,
            "grid_template_columns": null,
            "flex": null,
            "_model_name": "LayoutModel",
            "justify_items": null,
            "grid_row": null,
            "max_height": null,
            "align_content": null,
            "visibility": null,
            "align_self": null,
            "height": null,
            "min_height": null,
            "padding": null,
            "grid_auto_rows": null,
            "grid_gap": null,
            "max_width": null,
            "order": null,
            "_view_module_version": "1.2.0",
            "grid_template_areas": null,
            "object_position": null,
            "object_fit": null,
            "grid_auto_columns": null,
            "margin": null,
            "display": null,
            "left": null
          }
        },
        "5906248e861a4532a27a9d83bc0f218e": {
          "model_module": "@jupyter-widgets/controls",
          "model_name": "FloatProgressModel",
          "state": {
            "_view_name": "ProgressView",
            "style": "IPY_MODEL_81d468d5b5164601802a2c94d6d583f3",
            "_dom_classes": [],
            "description": "",
            "_model_name": "FloatProgressModel",
            "bar_style": "success",
            "max": 1648877,
            "_view_module": "@jupyter-widgets/controls",
            "_model_module_version": "1.5.0",
            "value": 1648877,
            "_view_count": null,
            "_view_module_version": "1.5.0",
            "orientation": "horizontal",
            "min": 0,
            "description_tooltip": null,
            "_model_module": "@jupyter-widgets/controls",
            "layout": "IPY_MODEL_42c7ff4038f149cb86f85466b470d1ac"
          }
        },
        "82d82426cb5e489689b7583ba1a0d236": {
          "model_module": "@jupyter-widgets/controls",
          "model_name": "HTMLModel",
          "state": {
            "_view_name": "HTMLView",
            "style": "IPY_MODEL_8233685ef1084c3b8183c2ff5491d50c",
            "_dom_classes": [],
            "description": "",
            "_model_name": "HTMLModel",
            "placeholder": "​",
            "_view_module": "@jupyter-widgets/controls",
            "_model_module_version": "1.5.0",
            "value": " 1649664/? [00:21&lt;00:00, 75261.23it/s]",
            "_view_count": null,
            "_view_module_version": "1.5.0",
            "description_tooltip": null,
            "_model_module": "@jupyter-widgets/controls",
            "layout": "IPY_MODEL_a054ad92f62f4be8a33f4fddd59c7488"
          }
        },
        "81d468d5b5164601802a2c94d6d583f3": {
          "model_module": "@jupyter-widgets/controls",
          "model_name": "ProgressStyleModel",
          "state": {
            "_view_name": "StyleView",
            "_model_name": "ProgressStyleModel",
            "description_width": "initial",
            "_view_module": "@jupyter-widgets/base",
            "_model_module_version": "1.5.0",
            "_view_count": null,
            "_view_module_version": "1.2.0",
            "bar_color": null,
            "_model_module": "@jupyter-widgets/controls"
          }
        },
        "42c7ff4038f149cb86f85466b470d1ac": {
          "model_module": "@jupyter-widgets/base",
          "model_name": "LayoutModel",
          "state": {
            "_view_name": "LayoutView",
            "grid_template_rows": null,
            "right": null,
            "justify_content": null,
            "_view_module": "@jupyter-widgets/base",
            "overflow": null,
            "_model_module_version": "1.2.0",
            "_view_count": null,
            "flex_flow": null,
            "width": null,
            "min_width": null,
            "border": null,
            "align_items": null,
            "bottom": null,
            "_model_module": "@jupyter-widgets/base",
            "top": null,
            "grid_column": null,
            "overflow_y": null,
            "overflow_x": null,
            "grid_auto_flow": null,
            "grid_area": null,
            "grid_template_columns": null,
            "flex": null,
            "_model_name": "LayoutModel",
            "justify_items": null,
            "grid_row": null,
            "max_height": null,
            "align_content": null,
            "visibility": null,
            "align_self": null,
            "height": null,
            "min_height": null,
            "padding": null,
            "grid_auto_rows": null,
            "grid_gap": null,
            "max_width": null,
            "order": null,
            "_view_module_version": "1.2.0",
            "grid_template_areas": null,
            "object_position": null,
            "object_fit": null,
            "grid_auto_columns": null,
            "margin": null,
            "display": null,
            "left": null
          }
        },
        "8233685ef1084c3b8183c2ff5491d50c": {
          "model_module": "@jupyter-widgets/controls",
          "model_name": "DescriptionStyleModel",
          "state": {
            "_view_name": "StyleView",
            "_model_name": "DescriptionStyleModel",
            "description_width": "",
            "_view_module": "@jupyter-widgets/base",
            "_model_module_version": "1.5.0",
            "_view_count": null,
            "_view_module_version": "1.2.0",
            "_model_module": "@jupyter-widgets/controls"
          }
        },
        "a054ad92f62f4be8a33f4fddd59c7488": {
          "model_module": "@jupyter-widgets/base",
          "model_name": "LayoutModel",
          "state": {
            "_view_name": "LayoutView",
            "grid_template_rows": null,
            "right": null,
            "justify_content": null,
            "_view_module": "@jupyter-widgets/base",
            "overflow": null,
            "_model_module_version": "1.2.0",
            "_view_count": null,
            "flex_flow": null,
            "width": null,
            "min_width": null,
            "border": null,
            "align_items": null,
            "bottom": null,
            "_model_module": "@jupyter-widgets/base",
            "top": null,
            "grid_column": null,
            "overflow_y": null,
            "overflow_x": null,
            "grid_auto_flow": null,
            "grid_area": null,
            "grid_template_columns": null,
            "flex": null,
            "_model_name": "LayoutModel",
            "justify_items": null,
            "grid_row": null,
            "max_height": null,
            "align_content": null,
            "visibility": null,
            "align_self": null,
            "height": null,
            "min_height": null,
            "padding": null,
            "grid_auto_rows": null,
            "grid_gap": null,
            "max_width": null,
            "order": null,
            "_view_module_version": "1.2.0",
            "grid_template_areas": null,
            "object_position": null,
            "object_fit": null,
            "grid_auto_columns": null,
            "margin": null,
            "display": null,
            "left": null
          }
        },
        "6319a67b1eb64406b13381baea228b43": {
          "model_module": "@jupyter-widgets/controls",
          "model_name": "HBoxModel",
          "state": {
            "_view_name": "HBoxView",
            "_dom_classes": [],
            "_model_name": "HBoxModel",
            "_view_module": "@jupyter-widgets/controls",
            "_model_module_version": "1.5.0",
            "_view_count": null,
            "_view_module_version": "1.5.0",
            "box_style": "",
            "layout": "IPY_MODEL_104986a6b3494895a6c3ddd6e8774bc3",
            "_model_module": "@jupyter-widgets/controls",
            "children": [
              "IPY_MODEL_05675690072f47c191892603587e6422",
              "IPY_MODEL_a7e65abeb14e4391952d03c6a5fa8dd6"
            ]
          }
        },
        "104986a6b3494895a6c3ddd6e8774bc3": {
          "model_module": "@jupyter-widgets/base",
          "model_name": "LayoutModel",
          "state": {
            "_view_name": "LayoutView",
            "grid_template_rows": null,
            "right": null,
            "justify_content": null,
            "_view_module": "@jupyter-widgets/base",
            "overflow": null,
            "_model_module_version": "1.2.0",
            "_view_count": null,
            "flex_flow": null,
            "width": null,
            "min_width": null,
            "border": null,
            "align_items": null,
            "bottom": null,
            "_model_module": "@jupyter-widgets/base",
            "top": null,
            "grid_column": null,
            "overflow_y": null,
            "overflow_x": null,
            "grid_auto_flow": null,
            "grid_area": null,
            "grid_template_columns": null,
            "flex": null,
            "_model_name": "LayoutModel",
            "justify_items": null,
            "grid_row": null,
            "max_height": null,
            "align_content": null,
            "visibility": null,
            "align_self": null,
            "height": null,
            "min_height": null,
            "padding": null,
            "grid_auto_rows": null,
            "grid_gap": null,
            "max_width": null,
            "order": null,
            "_view_module_version": "1.2.0",
            "grid_template_areas": null,
            "object_position": null,
            "object_fit": null,
            "grid_auto_columns": null,
            "margin": null,
            "display": null,
            "left": null
          }
        },
        "05675690072f47c191892603587e6422": {
          "model_module": "@jupyter-widgets/controls",
          "model_name": "FloatProgressModel",
          "state": {
            "_view_name": "ProgressView",
            "style": "IPY_MODEL_1e0ce7a2f38f458aa8a6558db17068dd",
            "_dom_classes": [],
            "description": "",
            "_model_name": "FloatProgressModel",
            "bar_style": "success",
            "max": 4542,
            "_view_module": "@jupyter-widgets/controls",
            "_model_module_version": "1.5.0",
            "value": 4542,
            "_view_count": null,
            "_view_module_version": "1.5.0",
            "orientation": "horizontal",
            "min": 0,
            "description_tooltip": null,
            "_model_module": "@jupyter-widgets/controls",
            "layout": "IPY_MODEL_ab1bd719e70545c4a881d594f9121122"
          }
        },
        "a7e65abeb14e4391952d03c6a5fa8dd6": {
          "model_module": "@jupyter-widgets/controls",
          "model_name": "HTMLModel",
          "state": {
            "_view_name": "HTMLView",
            "style": "IPY_MODEL_efc0598f5e8e44caa755f6034e3bfa67",
            "_dom_classes": [],
            "description": "",
            "_model_name": "HTMLModel",
            "placeholder": "​",
            "_view_module": "@jupyter-widgets/controls",
            "_model_module_version": "1.5.0",
            "value": " 5120/? [00:21&lt;00:00, 242.15it/s]",
            "_view_count": null,
            "_view_module_version": "1.5.0",
            "description_tooltip": null,
            "_model_module": "@jupyter-widgets/controls",
            "layout": "IPY_MODEL_6d41ca335353457eb86fed82b34bc03b"
          }
        },
        "1e0ce7a2f38f458aa8a6558db17068dd": {
          "model_module": "@jupyter-widgets/controls",
          "model_name": "ProgressStyleModel",
          "state": {
            "_view_name": "StyleView",
            "_model_name": "ProgressStyleModel",
            "description_width": "initial",
            "_view_module": "@jupyter-widgets/base",
            "_model_module_version": "1.5.0",
            "_view_count": null,
            "_view_module_version": "1.2.0",
            "bar_color": null,
            "_model_module": "@jupyter-widgets/controls"
          }
        },
        "ab1bd719e70545c4a881d594f9121122": {
          "model_module": "@jupyter-widgets/base",
          "model_name": "LayoutModel",
          "state": {
            "_view_name": "LayoutView",
            "grid_template_rows": null,
            "right": null,
            "justify_content": null,
            "_view_module": "@jupyter-widgets/base",
            "overflow": null,
            "_model_module_version": "1.2.0",
            "_view_count": null,
            "flex_flow": null,
            "width": null,
            "min_width": null,
            "border": null,
            "align_items": null,
            "bottom": null,
            "_model_module": "@jupyter-widgets/base",
            "top": null,
            "grid_column": null,
            "overflow_y": null,
            "overflow_x": null,
            "grid_auto_flow": null,
            "grid_area": null,
            "grid_template_columns": null,
            "flex": null,
            "_model_name": "LayoutModel",
            "justify_items": null,
            "grid_row": null,
            "max_height": null,
            "align_content": null,
            "visibility": null,
            "align_self": null,
            "height": null,
            "min_height": null,
            "padding": null,
            "grid_auto_rows": null,
            "grid_gap": null,
            "max_width": null,
            "order": null,
            "_view_module_version": "1.2.0",
            "grid_template_areas": null,
            "object_position": null,
            "object_fit": null,
            "grid_auto_columns": null,
            "margin": null,
            "display": null,
            "left": null
          }
        },
        "efc0598f5e8e44caa755f6034e3bfa67": {
          "model_module": "@jupyter-widgets/controls",
          "model_name": "DescriptionStyleModel",
          "state": {
            "_view_name": "StyleView",
            "_model_name": "DescriptionStyleModel",
            "description_width": "",
            "_view_module": "@jupyter-widgets/base",
            "_model_module_version": "1.5.0",
            "_view_count": null,
            "_view_module_version": "1.2.0",
            "_model_module": "@jupyter-widgets/controls"
          }
        },
        "6d41ca335353457eb86fed82b34bc03b": {
          "model_module": "@jupyter-widgets/base",
          "model_name": "LayoutModel",
          "state": {
            "_view_name": "LayoutView",
            "grid_template_rows": null,
            "right": null,
            "justify_content": null,
            "_view_module": "@jupyter-widgets/base",
            "overflow": null,
            "_model_module_version": "1.2.0",
            "_view_count": null,
            "flex_flow": null,
            "width": null,
            "min_width": null,
            "border": null,
            "align_items": null,
            "bottom": null,
            "_model_module": "@jupyter-widgets/base",
            "top": null,
            "grid_column": null,
            "overflow_y": null,
            "overflow_x": null,
            "grid_auto_flow": null,
            "grid_area": null,
            "grid_template_columns": null,
            "flex": null,
            "_model_name": "LayoutModel",
            "justify_items": null,
            "grid_row": null,
            "max_height": null,
            "align_content": null,
            "visibility": null,
            "align_self": null,
            "height": null,
            "min_height": null,
            "padding": null,
            "grid_auto_rows": null,
            "grid_gap": null,
            "max_width": null,
            "order": null,
            "_view_module_version": "1.2.0",
            "grid_template_areas": null,
            "object_position": null,
            "object_fit": null,
            "grid_auto_columns": null,
            "margin": null,
            "display": null,
            "left": null
          }
        }
      }
    }
  },
  "cells": [
    {
      "cell_type": "code",
      "metadata": {
        "id": "fGGg9w3UPaYU"
      },
      "source": [
        "import torch\n",
        "import torchvision\n",
        "import torch.nn as nn\n",
        "import torch.nn.functional as F\n",
        "import torchvision.transforms as transforms\n",
        "import torch.optim as optim\n",
        "import matplotlib.pyplot as plt"
      ],
      "execution_count": null,
      "outputs": []
    },
    {
      "cell_type": "code",
      "metadata": {
        "id": "H9LejJaN57mx",
        "colab": {
          "base_uri": "https://localhost:8080/",
          "height": 854,
          "referenced_widgets": [
            "e3a2db56be1b44b5ac8f572a2d2792f9",
            "3ba491abf31e4a00959f61947e7aa4fd",
            "38c8d50373df4537ba58210bc9ff144b",
            "74c741b3567344f299facb6f486fff38",
            "e8f51e3fef4c4d2c92ef78ab3dbefe74",
            "e4728a5d025e4c16b1685635f80a67f7",
            "236d8e758aa04b158d056b4c2e36d256",
            "8a9d46cc6d5640a9bf5572fa2b24f135",
            "ad2b80774d9a4fa19a2d5c08b046aed5",
            "f522b2b4c282403bb6666b526bb2983b",
            "1938d2c7472043ce87f449d0209d4e6a",
            "63c486f61c2249d3abe2b60b935ed6a4",
            "9c8904e9774c4b4e9ad57bac10d3b664",
            "64f620e930874b98b2da0eceb8689302",
            "323dfff618644b408728b9bc45c62af0",
            "03f723bfa894440b8ac3ba9e522f7273",
            "b0af551d1ac749ba9f13a45b25ffd967",
            "ea274a56ab7d4a3698c5d0c1f0559d79",
            "5906248e861a4532a27a9d83bc0f218e",
            "82d82426cb5e489689b7583ba1a0d236",
            "81d468d5b5164601802a2c94d6d583f3",
            "42c7ff4038f149cb86f85466b470d1ac",
            "8233685ef1084c3b8183c2ff5491d50c",
            "a054ad92f62f4be8a33f4fddd59c7488",
            "6319a67b1eb64406b13381baea228b43",
            "104986a6b3494895a6c3ddd6e8774bc3",
            "05675690072f47c191892603587e6422",
            "a7e65abeb14e4391952d03c6a5fa8dd6",
            "1e0ce7a2f38f458aa8a6558db17068dd",
            "ab1bd719e70545c4a881d594f9121122",
            "efc0598f5e8e44caa755f6034e3bfa67",
            "6d41ca335353457eb86fed82b34bc03b"
          ]
        },
        "outputId": "29dbd825-47ad-4f7d-b84e-b3f6b1e018bb"
      },
      "source": [
        "transform = transforms.Compose([transforms.ToTensor()])\n",
        "\n",
        "train_dataset = torchvision.datasets.MNIST(\n",
        "    root=\"~/torch_datasets\", train=True, transform=transform, download=True\n",
        ")\n",
        "\n",
        "test_dataset = torchvision.datasets.MNIST(\n",
        "    root=\"~/torch_datasets\", train=False, transform=transform, download=True\n",
        ")\n",
        "\n",
        "train_loader = torch.utils.data.DataLoader(\n",
        "    train_dataset, batch_size=64, shuffle=True, num_workers=2, pin_memory=True\n",
        ")\n",
        "\n",
        "test_loader = torch.utils.data.DataLoader(\n",
        "    test_dataset, batch_size=32, shuffle=False, num_workers=2\n",
        ")"
      ],
      "execution_count": null,
      "outputs": [
        {
          "output_type": "stream",
          "text": [
            "Downloading http://yann.lecun.com/exdb/mnist/train-images-idx3-ubyte.gz\n",
            "Downloading http://yann.lecun.com/exdb/mnist/train-images-idx3-ubyte.gz to /root/torch_datasets/MNIST/raw/train-images-idx3-ubyte.gz\n",
            "Failed to download (trying next):\n",
            "HTTP Error 503: Service Unavailable\n",
            "\n",
            "Downloading https://ossci-datasets.s3.amazonaws.com/mnist/train-images-idx3-ubyte.gz\n",
            "Downloading https://ossci-datasets.s3.amazonaws.com/mnist/train-images-idx3-ubyte.gz to /root/torch_datasets/MNIST/raw/train-images-idx3-ubyte.gz\n"
          ],
          "name": "stdout"
        },
        {
          "output_type": "display_data",
          "data": {
            "application/vnd.jupyter.widget-view+json": {
              "model_id": "e3a2db56be1b44b5ac8f572a2d2792f9",
              "version_minor": 0,
              "version_major": 2
            },
            "text/plain": [
              "HBox(children=(FloatProgress(value=0.0, max=9912422.0), HTML(value='')))"
            ]
          },
          "metadata": {
            "tags": []
          }
        },
        {
          "output_type": "stream",
          "text": [
            "\n",
            "Extracting /root/torch_datasets/MNIST/raw/train-images-idx3-ubyte.gz to /root/torch_datasets/MNIST/raw\n",
            "\n",
            "Downloading http://yann.lecun.com/exdb/mnist/train-labels-idx1-ubyte.gz\n",
            "Failed to download (trying next):\n",
            "HTTP Error 503: Service Unavailable\n",
            "\n",
            "Downloading https://ossci-datasets.s3.amazonaws.com/mnist/train-labels-idx1-ubyte.gz\n",
            "Downloading https://ossci-datasets.s3.amazonaws.com/mnist/train-labels-idx1-ubyte.gz to /root/torch_datasets/MNIST/raw/train-labels-idx1-ubyte.gz\n"
          ],
          "name": "stdout"
        },
        {
          "output_type": "display_data",
          "data": {
            "application/vnd.jupyter.widget-view+json": {
              "model_id": "ad2b80774d9a4fa19a2d5c08b046aed5",
              "version_minor": 0,
              "version_major": 2
            },
            "text/plain": [
              "HBox(children=(FloatProgress(value=0.0, max=28881.0), HTML(value='')))"
            ]
          },
          "metadata": {
            "tags": []
          }
        },
        {
          "output_type": "stream",
          "text": [
            "\n",
            "Extracting /root/torch_datasets/MNIST/raw/train-labels-idx1-ubyte.gz to /root/torch_datasets/MNIST/raw\n",
            "\n",
            "Downloading http://yann.lecun.com/exdb/mnist/t10k-images-idx3-ubyte.gz\n",
            "Failed to download (trying next):\n",
            "HTTP Error 503: Service Unavailable\n",
            "\n",
            "Downloading https://ossci-datasets.s3.amazonaws.com/mnist/t10k-images-idx3-ubyte.gz\n",
            "Downloading https://ossci-datasets.s3.amazonaws.com/mnist/t10k-images-idx3-ubyte.gz to /root/torch_datasets/MNIST/raw/t10k-images-idx3-ubyte.gz\n"
          ],
          "name": "stdout"
        },
        {
          "output_type": "display_data",
          "data": {
            "application/vnd.jupyter.widget-view+json": {
              "model_id": "b0af551d1ac749ba9f13a45b25ffd967",
              "version_minor": 0,
              "version_major": 2
            },
            "text/plain": [
              "HBox(children=(FloatProgress(value=0.0, max=1648877.0), HTML(value='')))"
            ]
          },
          "metadata": {
            "tags": []
          }
        },
        {
          "output_type": "stream",
          "text": [
            "\n",
            "Extracting /root/torch_datasets/MNIST/raw/t10k-images-idx3-ubyte.gz to /root/torch_datasets/MNIST/raw\n",
            "\n",
            "Downloading http://yann.lecun.com/exdb/mnist/t10k-labels-idx1-ubyte.gz\n",
            "Failed to download (trying next):\n",
            "HTTP Error 503: Service Unavailable\n",
            "\n",
            "Downloading https://ossci-datasets.s3.amazonaws.com/mnist/t10k-labels-idx1-ubyte.gz\n",
            "Downloading https://ossci-datasets.s3.amazonaws.com/mnist/t10k-labels-idx1-ubyte.gz to /root/torch_datasets/MNIST/raw/t10k-labels-idx1-ubyte.gz\n"
          ],
          "name": "stdout"
        },
        {
          "output_type": "display_data",
          "data": {
            "application/vnd.jupyter.widget-view+json": {
              "model_id": "6319a67b1eb64406b13381baea228b43",
              "version_minor": 0,
              "version_major": 2
            },
            "text/plain": [
              "HBox(children=(FloatProgress(value=0.0, max=4542.0), HTML(value='')))"
            ]
          },
          "metadata": {
            "tags": []
          }
        },
        {
          "output_type": "stream",
          "text": [
            "\n",
            "Extracting /root/torch_datasets/MNIST/raw/t10k-labels-idx1-ubyte.gz to /root/torch_datasets/MNIST/raw\n",
            "\n",
            "Processing...\n",
            "Done!\n"
          ],
          "name": "stdout"
        },
        {
          "output_type": "stream",
          "text": [
            "/usr/local/lib/python3.7/dist-packages/torchvision/datasets/mnist.py:502: UserWarning: The given NumPy array is not writeable, and PyTorch does not support non-writeable tensors. This means you can write to the underlying (supposedly non-writeable) NumPy array using the tensor. You may want to copy the array to protect its data or make it writeable before converting it to a tensor. This type of warning will be suppressed for the rest of this program. (Triggered internally at  /pytorch/torch/csrc/utils/tensor_numpy.cpp:143.)\n",
            "  return torch.from_numpy(parsed.astype(m[2], copy=False)).view(*s)\n"
          ],
          "name": "stderr"
        }
      ]
    },
    {
      "cell_type": "code",
      "metadata": {
        "colab": {
          "base_uri": "https://localhost:8080/"
        },
        "id": "-qiR3gUBRILd",
        "outputId": "f2371ccf-5d4b-4622-d08f-718a5f0b002d"
      },
      "source": [
        "itr = iter(train_loader)\n",
        "images , labels = itr.next()\n",
        "print(images[0],labels[0],images[0].shape)"
      ],
      "execution_count": null,
      "outputs": [
        {
          "output_type": "stream",
          "text": [
            "tensor([[[0.0000, 0.0000, 0.0000, 0.0000, 0.0000, 0.0000, 0.0000, 0.0000,\n",
            "          0.0000, 0.0000, 0.0000, 0.0000, 0.0000, 0.0000, 0.0000, 0.0000,\n",
            "          0.0000, 0.0000, 0.0000, 0.0000, 0.0000, 0.0000, 0.0000, 0.0000,\n",
            "          0.0000, 0.0000, 0.0000, 0.0000],\n",
            "         [0.0000, 0.0000, 0.0000, 0.0000, 0.0000, 0.0000, 0.0000, 0.0000,\n",
            "          0.0000, 0.0000, 0.0000, 0.0000, 0.0000, 0.0000, 0.0000, 0.0000,\n",
            "          0.0000, 0.0000, 0.0000, 0.0000, 0.0000, 0.0000, 0.0000, 0.0000,\n",
            "          0.0000, 0.0000, 0.0000, 0.0000],\n",
            "         [0.0000, 0.0000, 0.0000, 0.0000, 0.0000, 0.0000, 0.0000, 0.0000,\n",
            "          0.0000, 0.0000, 0.0000, 0.0000, 0.0000, 0.0000, 0.0000, 0.0000,\n",
            "          0.0000, 0.0000, 0.0000, 0.0000, 0.0000, 0.0000, 0.0000, 0.0000,\n",
            "          0.0000, 0.0000, 0.0000, 0.0000],\n",
            "         [0.0000, 0.0000, 0.0000, 0.0000, 0.0000, 0.0000, 0.0000, 0.0000,\n",
            "          0.0000, 0.0000, 0.0000, 0.0000, 0.0000, 0.0000, 0.0000, 0.0000,\n",
            "          0.0000, 0.0000, 0.0000, 0.0000, 0.0000, 0.0000, 0.0000, 0.0000,\n",
            "          0.0000, 0.0000, 0.0000, 0.0000],\n",
            "         [0.0000, 0.0000, 0.0000, 0.0000, 0.0000, 0.0000, 0.0000, 0.0000,\n",
            "          0.0000, 0.3569, 0.8980, 1.0000, 0.7255, 0.2392, 0.1490, 0.1490,\n",
            "          0.1490, 0.0078, 0.0000, 0.0000, 0.0000, 0.0000, 0.0000, 0.0000,\n",
            "          0.0000, 0.0000, 0.0000, 0.0000],\n",
            "         [0.0000, 0.0000, 0.0000, 0.0000, 0.0000, 0.0000, 0.0000, 0.0000,\n",
            "          0.0196, 0.7765, 0.9922, 0.9922, 0.9922, 0.9922, 0.9922, 0.9922,\n",
            "          0.9922, 0.6863, 0.0980, 0.0000, 0.0000, 0.0000, 0.0000, 0.0000,\n",
            "          0.0000, 0.0000, 0.0000, 0.0000],\n",
            "         [0.0000, 0.0000, 0.0000, 0.0000, 0.0000, 0.0000, 0.0000, 0.0000,\n",
            "          0.0000, 0.3412, 0.5451, 0.5451, 0.5451, 0.5451, 0.5451, 0.8275,\n",
            "          0.9725, 0.9922, 0.8000, 0.0863, 0.0000, 0.0000, 0.0000, 0.0000,\n",
            "          0.0000, 0.0000, 0.0000, 0.0000],\n",
            "         [0.0000, 0.0000, 0.0000, 0.0000, 0.0000, 0.0000, 0.0000, 0.0000,\n",
            "          0.0000, 0.0000, 0.0000, 0.0000, 0.0000, 0.0000, 0.0000, 0.0000,\n",
            "          0.0000, 0.4314, 0.9412, 0.8314, 0.0863, 0.0000, 0.0000, 0.0000,\n",
            "          0.0000, 0.0000, 0.0000, 0.0000],\n",
            "         [0.0000, 0.0000, 0.0000, 0.0000, 0.0000, 0.0000, 0.0000, 0.0000,\n",
            "          0.0000, 0.0000, 0.0000, 0.0000, 0.0000, 0.0000, 0.0000, 0.0000,\n",
            "          0.0000, 0.0000, 0.5412, 0.9922, 0.4431, 0.0000, 0.0000, 0.0000,\n",
            "          0.0000, 0.0000, 0.0000, 0.0000],\n",
            "         [0.0000, 0.0000, 0.0000, 0.0000, 0.0000, 0.0000, 0.0000, 0.0000,\n",
            "          0.0000, 0.0000, 0.0000, 0.0000, 0.0000, 0.0000, 0.0000, 0.0000,\n",
            "          0.0000, 0.0000, 0.4588, 0.9922, 0.2431, 0.0000, 0.0000, 0.0000,\n",
            "          0.0000, 0.0000, 0.0000, 0.0000],\n",
            "         [0.0000, 0.0000, 0.0000, 0.0000, 0.0000, 0.0000, 0.0000, 0.0000,\n",
            "          0.0000, 0.0000, 0.0000, 0.0000, 0.0000, 0.0000, 0.0000, 0.0000,\n",
            "          0.0000, 0.0000, 0.6784, 0.9922, 0.0196, 0.0000, 0.0000, 0.0000,\n",
            "          0.0000, 0.0000, 0.0000, 0.0000],\n",
            "         [0.0000, 0.0000, 0.0000, 0.0000, 0.0000, 0.0000, 0.0000, 0.0000,\n",
            "          0.0000, 0.0000, 0.0000, 0.0000, 0.0000, 0.0000, 0.0000, 0.0000,\n",
            "          0.0000, 0.2275, 0.9216, 0.6824, 0.0078, 0.0000, 0.0000, 0.0000,\n",
            "          0.0000, 0.0000, 0.0000, 0.0000],\n",
            "         [0.0000, 0.0000, 0.0000, 0.0000, 0.0000, 0.0000, 0.0000, 0.0000,\n",
            "          0.0000, 0.0000, 0.0000, 0.0000, 0.0000, 0.0000, 0.0000, 0.0000,\n",
            "          0.0275, 0.9216, 0.9922, 0.3843, 0.0000, 0.0000, 0.0000, 0.0000,\n",
            "          0.0000, 0.0000, 0.0000, 0.0000],\n",
            "         [0.0000, 0.0000, 0.0000, 0.0000, 0.0000, 0.0000, 0.0000, 0.0000,\n",
            "          0.0000, 0.0000, 0.0000, 0.0000, 0.0000, 0.0000, 0.0000, 0.0510,\n",
            "          0.6941, 0.9922, 0.7373, 0.0627, 0.0000, 0.0000, 0.0000, 0.0000,\n",
            "          0.0000, 0.0000, 0.0000, 0.0000],\n",
            "         [0.0000, 0.0000, 0.0000, 0.0000, 0.0000, 0.0000, 0.0000, 0.0000,\n",
            "          0.0000, 0.0000, 0.0000, 0.0000, 0.0000, 0.0000, 0.0000, 0.2353,\n",
            "          0.9922, 0.9569, 0.2039, 0.0000, 0.0000, 0.0000, 0.0000, 0.0000,\n",
            "          0.0000, 0.0000, 0.0000, 0.0000],\n",
            "         [0.0000, 0.0000, 0.0000, 0.0000, 0.0000, 0.0000, 0.0000, 0.0000,\n",
            "          0.0000, 0.0000, 0.0000, 0.0000, 0.0000, 0.2235, 0.6902, 0.8039,\n",
            "          0.9608, 0.2706, 0.0000, 0.0000, 0.0000, 0.0000, 0.0000, 0.0000,\n",
            "          0.0000, 0.0000, 0.0000, 0.0000],\n",
            "         [0.0000, 0.0000, 0.0000, 0.0000, 0.0000, 0.0000, 0.0000, 0.0000,\n",
            "          0.0000, 0.0000, 0.0000, 0.0000, 0.2431, 0.9216, 0.9922, 0.9373,\n",
            "          0.2902, 0.0000, 0.0000, 0.0980, 0.1059, 0.0000, 0.0000, 0.0000,\n",
            "          0.0000, 0.0000, 0.0000, 0.0000],\n",
            "         [0.0000, 0.0000, 0.0000, 0.0000, 0.0000, 0.0000, 0.0000, 0.0000,\n",
            "          0.0000, 0.0000, 0.0000, 0.0549, 0.9255, 0.9922, 0.9608, 0.2902,\n",
            "          0.0000, 0.0431, 0.4941, 0.8824, 0.4431, 0.0000, 0.0000, 0.0000,\n",
            "          0.0000, 0.0000, 0.0000, 0.0000],\n",
            "         [0.0000, 0.0000, 0.0000, 0.0000, 0.0000, 0.0000, 0.0000, 0.0000,\n",
            "          0.0000, 0.0000, 0.2275, 0.9216, 0.9922, 0.9098, 0.2706, 0.0275,\n",
            "          0.4549, 0.9451, 0.9922, 0.9922, 0.4431, 0.0000, 0.0000, 0.0000,\n",
            "          0.0000, 0.0000, 0.0000, 0.0000],\n",
            "         [0.0000, 0.0000, 0.0000, 0.0000, 0.0000, 0.0000, 0.0000, 0.0000,\n",
            "          0.0000, 0.2431, 0.9216, 0.9922, 0.9922, 0.5647, 0.6784, 0.7529,\n",
            "          0.9922, 0.9922, 0.8196, 0.3882, 0.1412, 0.0000, 0.0000, 0.0000,\n",
            "          0.0000, 0.0000, 0.0000, 0.0000],\n",
            "         [0.0000, 0.0000, 0.0000, 0.0000, 0.0000, 0.0000, 0.0000, 0.0000,\n",
            "          0.3843, 0.9294, 0.9922, 0.9922, 0.9922, 0.9922, 0.9922, 0.9922,\n",
            "          0.6667, 0.1843, 0.0549, 0.0000, 0.0000, 0.0000, 0.0000, 0.0000,\n",
            "          0.0000, 0.0000, 0.0000, 0.0000],\n",
            "         [0.0000, 0.0000, 0.0000, 0.0000, 0.0000, 0.0039, 0.2039, 0.6863,\n",
            "          0.9922, 0.9922, 0.9922, 0.8784, 0.7765, 0.4431, 0.2275, 0.0196,\n",
            "          0.0039, 0.0000, 0.0000, 0.0000, 0.0000, 0.0000, 0.0000, 0.0000,\n",
            "          0.0000, 0.0000, 0.0000, 0.0000],\n",
            "         [0.0000, 0.0000, 0.0000, 0.0000, 0.0000, 0.4431, 0.9922, 0.9922,\n",
            "          0.7255, 0.2941, 0.2941, 0.0275, 0.0000, 0.0000, 0.0000, 0.0000,\n",
            "          0.0000, 0.0000, 0.0000, 0.0000, 0.0000, 0.0000, 0.0000, 0.0000,\n",
            "          0.0000, 0.0000, 0.0000, 0.0000],\n",
            "         [0.0000, 0.0000, 0.0000, 0.0000, 0.0000, 0.8706, 0.9216, 0.4353,\n",
            "          0.0157, 0.0000, 0.0000, 0.0000, 0.0000, 0.0000, 0.0000, 0.0000,\n",
            "          0.0000, 0.0000, 0.0000, 0.0000, 0.0000, 0.0000, 0.0000, 0.0000,\n",
            "          0.0000, 0.0000, 0.0000, 0.0000],\n",
            "         [0.0000, 0.0000, 0.0000, 0.0000, 0.0000, 0.0000, 0.0000, 0.0000,\n",
            "          0.0000, 0.0000, 0.0000, 0.0000, 0.0000, 0.0000, 0.0000, 0.0000,\n",
            "          0.0000, 0.0000, 0.0000, 0.0000, 0.0000, 0.0000, 0.0000, 0.0000,\n",
            "          0.0000, 0.0000, 0.0000, 0.0000],\n",
            "         [0.0000, 0.0000, 0.0000, 0.0000, 0.0000, 0.0000, 0.0000, 0.0000,\n",
            "          0.0000, 0.0000, 0.0000, 0.0000, 0.0000, 0.0000, 0.0000, 0.0000,\n",
            "          0.0000, 0.0000, 0.0000, 0.0000, 0.0000, 0.0000, 0.0000, 0.0000,\n",
            "          0.0000, 0.0000, 0.0000, 0.0000],\n",
            "         [0.0000, 0.0000, 0.0000, 0.0000, 0.0000, 0.0000, 0.0000, 0.0000,\n",
            "          0.0000, 0.0000, 0.0000, 0.0000, 0.0000, 0.0000, 0.0000, 0.0000,\n",
            "          0.0000, 0.0000, 0.0000, 0.0000, 0.0000, 0.0000, 0.0000, 0.0000,\n",
            "          0.0000, 0.0000, 0.0000, 0.0000],\n",
            "         [0.0000, 0.0000, 0.0000, 0.0000, 0.0000, 0.0000, 0.0000, 0.0000,\n",
            "          0.0000, 0.0000, 0.0000, 0.0000, 0.0000, 0.0000, 0.0000, 0.0000,\n",
            "          0.0000, 0.0000, 0.0000, 0.0000, 0.0000, 0.0000, 0.0000, 0.0000,\n",
            "          0.0000, 0.0000, 0.0000, 0.0000]]]) tensor(2) torch.Size([1, 28, 28])\n"
          ],
          "name": "stdout"
        }
      ]
    },
    {
      "cell_type": "code",
      "metadata": {
        "id": "1gPKiP4FuZiu"
      },
      "source": [
        "class Autoencoder_Linear(nn.Module):\n",
        "    def __init__(self,hidden_features):\n",
        "        super().__init__()        \n",
        "        self.encoder = nn.Sequential(\n",
        "            nn.Linear(28 * 28, 128), # (N, 784) -> (N, 128)\n",
        "            nn.ReLU(),\n",
        "            nn.Linear(128, 64),\n",
        "            nn.ReLU(),\n",
        "            nn.Linear(64, 12),\n",
        "            nn.ReLU(),\n",
        "            nn.Linear(12, hidden_features) # -> N, 3\n",
        "        )\n",
        "        \n",
        "        self.decoder = nn.Sequential(\n",
        "            nn.Linear(hidden_features, 12),\n",
        "            nn.ReLU(),\n",
        "            nn.Linear(12, 64),\n",
        "            nn.ReLU(),\n",
        "            nn.Linear(64, 128),\n",
        "            nn.ReLU(),\n",
        "            nn.Linear(128, 28 * 28),\n",
        "            nn.Sigmoid()\n",
        "        )\n",
        "\n",
        "    def forward(self, x):\n",
        "        encoded = self.encoder(x)\n",
        "        decoded = self.decoder(encoded)\n",
        "        return decoded"
      ],
      "execution_count": null,
      "outputs": []
    },
    {
      "cell_type": "markdown",
      "metadata": {
        "id": "qKnHEiveYNZk"
      },
      "source": [
        "# Adam Optimizer"
      ]
    },
    {
      "cell_type": "code",
      "metadata": {
        "colab": {
          "base_uri": "https://localhost:8080/",
          "height": 1000
        },
        "id": "GkDpXo61FweQ",
        "outputId": "027d8e5f-ac9a-4320-dbcd-ee250b74c6eb"
      },
      "source": [
        "lossvshiddenlayer={}\n",
        "for x in range(2,12):\n",
        "  model = Autoencoder_Linear(x)\n",
        "  # print(model)\n",
        "  optimizer = optim.Adam(model.parameters(), lr=0.001)\n",
        "  criterion = nn.MSELoss()\n",
        "  epochs = 5\n",
        "  for epoch in range(epochs):\n",
        "    loss = 0\n",
        "    for batch_features, _ in train_loader:\n",
        "      batch_features = batch_features.view(-1, 784)\n",
        "      optimizer.zero_grad()\n",
        "      outputs = model(batch_features)\n",
        "      train_loss = criterion(outputs, batch_features)\n",
        "      train_loss.backward()\n",
        "      optimizer.step()\n",
        "      loss += train_loss.item()\n",
        "    loss = loss / len(train_loader)\n",
        "    print(\"epoch : {}/{}, loss = {:.6f}\".format(epoch + 1, epochs, loss))\n",
        "  total_loss=0\n",
        "  with torch.no_grad():\n",
        "    for data in test_loader:\n",
        "      images, _ = data\n",
        "      images = images.view(-1, 784)\n",
        "      outputs = model(images)\n",
        "      test_loss = criterion(outputs, images)\n",
        "      total_loss += test_loss.item()\n",
        "    total_loss = total_loss / len(test_loader)\n",
        "    print(\"Test Reconstruction Loss={:.6f}\".format(total_loss))\n",
        "  lossvshiddenlayer[x]=total_loss\n",
        "plt.plot(*zip(*lossvshiddenlayer.items()))\n",
        "plt.show()"
      ],
      "execution_count": null,
      "outputs": [
        {
          "output_type": "stream",
          "text": [
            "epoch : 1/5, loss = 3.930647\n",
            "epoch : 2/5, loss = 3.174992\n",
            "epoch : 3/5, loss = 2.977072\n",
            "epoch : 4/5, loss = 2.844548\n",
            "epoch : 5/5, loss = 2.763700\n",
            "Test Reconstruction Loss=1.365608\n",
            "epoch : 1/5, loss = 3.749912\n",
            "epoch : 2/5, loss = 2.757578\n",
            "epoch : 3/5, loss = 2.546494\n",
            "epoch : 4/5, loss = 2.426934\n",
            "epoch : 5/5, loss = 2.353098\n",
            "Test Reconstruction Loss=1.160588\n",
            "epoch : 1/5, loss = 3.886528\n",
            "epoch : 2/5, loss = 3.046195\n",
            "epoch : 3/5, loss = 2.462985\n",
            "epoch : 4/5, loss = 2.261861\n",
            "epoch : 5/5, loss = 2.169714\n",
            "Test Reconstruction Loss=1.062279\n",
            "epoch : 1/5, loss = 3.730848\n",
            "epoch : 2/5, loss = 2.422756\n",
            "epoch : 3/5, loss = 2.093173\n",
            "epoch : 4/5, loss = 1.975319\n",
            "epoch : 5/5, loss = 1.902628\n",
            "Test Reconstruction Loss=0.922863\n",
            "epoch : 1/5, loss = 3.815325\n",
            "epoch : 2/5, loss = 2.477241\n",
            "epoch : 3/5, loss = 2.060910\n",
            "epoch : 4/5, loss = 1.854947\n",
            "epoch : 5/5, loss = 1.766686\n",
            "Test Reconstruction Loss=0.859448\n",
            "epoch : 1/5, loss = 3.776268\n",
            "epoch : 2/5, loss = 2.513635\n",
            "epoch : 3/5, loss = 2.268671\n",
            "epoch : 4/5, loss = 2.170461\n",
            "epoch : 5/5, loss = 2.106798\n",
            "Test Reconstruction Loss=1.039827\n",
            "epoch : 1/5, loss = 3.654009\n",
            "epoch : 2/5, loss = 2.328887\n",
            "epoch : 3/5, loss = 2.025048\n",
            "epoch : 4/5, loss = 1.805703\n",
            "epoch : 5/5, loss = 1.709864\n",
            "Test Reconstruction Loss=0.827455\n",
            "epoch : 1/5, loss = 3.941340\n",
            "epoch : 2/5, loss = 2.921948\n",
            "epoch : 3/5, loss = 2.411611\n",
            "epoch : 4/5, loss = 2.115713\n",
            "epoch : 5/5, loss = 1.957664\n",
            "Test Reconstruction Loss=0.954775\n",
            "epoch : 1/5, loss = 3.762035\n",
            "epoch : 2/5, loss = 2.354963\n",
            "epoch : 3/5, loss = 2.086184\n",
            "epoch : 4/5, loss = 1.989774\n",
            "epoch : 5/5, loss = 1.926821\n",
            "Test Reconstruction Loss=0.939536\n",
            "epoch : 1/5, loss = 3.713262\n",
            "epoch : 2/5, loss = 2.503353\n",
            "epoch : 3/5, loss = 2.149038\n",
            "epoch : 4/5, loss = 1.890870\n",
            "epoch : 5/5, loss = 1.770340\n",
            "Test Reconstruction Loss=0.855260\n"
          ],
          "name": "stdout"
        },
        {
          "output_type": "display_data",
          "data": {
            "image/png": "[encoded data removed]",
            "text/plain": [
              "<Figure size 432x288 with 1 Axes>"
            ]
          },
          "metadata": {
            "tags": []
          }
        }
      ]
    },
    {
      "cell_type": "markdown",
      "metadata": {
        "id": "Eeuzb58SYSPv"
      },
      "source": [
        "# SGD Optimmizer"
      ]
    },
    {
      "cell_type": "code",
      "metadata": {
        "colab": {
          "base_uri": "https://localhost:8080/",
          "height": 1000
        },
        "id": "XeaI26xLwBjz",
        "outputId": "0227fe1e-3ebe-4581-821f-64ced51a886c"
      },
      "source": [
        "lossvshiddenlayer={}\n",
        "for x in range(2,12):\n",
        "  model = Autoencoder_Linear(x)\n",
        "  optimizer = optim.SGD(model.parameters(), lr=0.1)\n",
        "  criterion = nn.MSELoss()\n",
        "  epochs = 5\n",
        "  for epoch in range(epochs):\n",
        "    loss = 0\n",
        "    for batch_features, _ in train_loader:\n",
        "      batch_features = batch_features.view(-1, 784)\n",
        "      optimizer.zero_grad()\n",
        "      outputs = model(batch_features)\n",
        "      train_loss = criterion(outputs, batch_features)\n",
        "      train_loss.backward()\n",
        "      optimizer.step()\n",
        "      loss += train_loss.item()\n",
        "    loss = loss / len(train_loader)\n",
        "    print(\"epoch : {}/{}, loss = {:.6f}\".format(epoch + 1, epochs, loss))\n",
        "  total_loss=0\n",
        "  with torch.no_grad():\n",
        "    for data in test_loader:\n",
        "      images, _ = data\n",
        "      images = images.view(-1, 784)\n",
        "      outputs = model(images)\n",
        "      test_loss = criterion(outputs, images)\n",
        "      total_loss += test_loss.item()\n",
        "    total_loss = total_loss / len(test_loader)\n",
        "    print(\"Test Reconstruction Loss={:.6f}\".format(total_loss))\n",
        "  lossvshiddenlayer[x]=total_loss\n",
        "plt.plot(*zip(*lossvshiddenlayer.items()))\n",
        "plt.show()"
      ],
      "execution_count": null,
      "outputs": [
        {
          "output_type": "stream",
          "text": [
            "epoch : 1/5, loss = 0.223305\n",
            "epoch : 2/5, loss = 0.109564\n",
            "epoch : 3/5, loss = 0.068196\n",
            "epoch : 4/5, loss = 0.067522\n",
            "epoch : 5/5, loss = 0.067194\n",
            "Test Reconstruction Loss=0.067238\n",
            "epoch : 1/5, loss = 0.224234\n",
            "epoch : 2/5, loss = 0.135197\n",
            "epoch : 3/5, loss = 0.068434\n",
            "epoch : 4/5, loss = 0.067607\n",
            "epoch : 5/5, loss = 0.067296\n",
            "Test Reconstruction Loss=0.067358\n",
            "epoch : 1/5, loss = 0.224036\n",
            "epoch : 2/5, loss = 0.129292\n",
            "epoch : 3/5, loss = 0.068285\n",
            "epoch : 4/5, loss = 0.067460\n",
            "epoch : 5/5, loss = 0.067013\n",
            "Test Reconstruction Loss=0.067014\n",
            "epoch : 1/5, loss = 0.224848\n",
            "epoch : 2/5, loss = 0.152245\n",
            "epoch : 3/5, loss = 0.068919\n",
            "epoch : 4/5, loss = 0.067392\n",
            "epoch : 5/5, loss = 0.066625\n",
            "Test Reconstruction Loss=0.066496\n",
            "epoch : 1/5, loss = 0.226851\n",
            "epoch : 2/5, loss = 0.199453\n",
            "epoch : 3/5, loss = 0.082580\n",
            "epoch : 4/5, loss = 0.068042\n",
            "epoch : 5/5, loss = 0.067556\n",
            "Test Reconstruction Loss=0.067695\n",
            "epoch : 1/5, loss = 0.225928\n",
            "epoch : 2/5, loss = 0.187651\n",
            "epoch : 3/5, loss = 0.074238\n",
            "epoch : 4/5, loss = 0.067905\n",
            "epoch : 5/5, loss = 0.067284\n",
            "Test Reconstruction Loss=0.067244\n",
            "epoch : 1/5, loss = 0.224823\n",
            "epoch : 2/5, loss = 0.148536\n",
            "epoch : 3/5, loss = 0.068850\n",
            "epoch : 4/5, loss = 0.067545\n",
            "epoch : 5/5, loss = 0.066935\n",
            "Test Reconstruction Loss=0.066841\n",
            "epoch : 1/5, loss = 0.225929\n",
            "epoch : 2/5, loss = 0.201319\n",
            "epoch : 3/5, loss = 0.084700\n",
            "epoch : 4/5, loss = 0.068143\n",
            "epoch : 5/5, loss = 0.067225\n",
            "Test Reconstruction Loss=0.067025\n",
            "epoch : 1/5, loss = 0.227229\n",
            "epoch : 2/5, loss = 0.184744\n",
            "epoch : 3/5, loss = 0.072068\n",
            "epoch : 4/5, loss = 0.067815\n",
            "epoch : 5/5, loss = 0.067394\n",
            "Test Reconstruction Loss=0.067468\n",
            "epoch : 1/5, loss = 0.226250\n",
            "epoch : 2/5, loss = 0.179378\n",
            "epoch : 3/5, loss = 0.070699\n",
            "epoch : 4/5, loss = 0.067704\n",
            "epoch : 5/5, loss = 0.066763\n",
            "Test Reconstruction Loss=0.066576\n"
          ],
          "name": "stdout"
        },
        {
          "output_type": "display_data",
          "data": {
            "image/png": "[encoded data removed]",
            "text/plain": [
              "<Figure size 432x288 with 1 Axes>"
            ]
          },
          "metadata": {
            "tags": [],
            "needs_background": "light"
          }
        }
      ]
    },
    {
      "cell_type": "markdown",
      "metadata": {
        "id": "-5O6mTkWYVnO"
      },
      "source": [
        "# SGD with Momentum"
      ]
    },
    {
      "cell_type": "code",
      "metadata": {
        "colab": {
          "base_uri": "https://localhost:8080/",
          "height": 1000
        },
        "id": "5CXQcWCXwuOL",
        "outputId": "b5c113f0-0e93-4064-d71c-4497cc277c96"
      },
      "source": [
        "lossvshiddenlayer={}\n",
        "for x in range(2,12):\n",
        "  model = Autoencoder_Linear(x)\n",
        "  # print(model)\n",
        "  optimizer = optim.SGD(model.parameters(), lr=0.01 , momentum=0.9)\n",
        "  criterion = nn.MSELoss()\n",
        "  epochs = 5\n",
        "  for epoch in range(epochs):\n",
        "    loss = 0\n",
        "    for batch_features, _ in train_loader:\n",
        "      batch_features = batch_features.view(-1, 784)\n",
        "      optimizer.zero_grad()\n",
        "      outputs = model(batch_features)\n",
        "      train_loss = criterion(outputs, batch_features)\n",
        "      train_loss.backward()\n",
        "      optimizer.step()\n",
        "      loss += train_loss.item()\n",
        "    loss = loss / len(train_loader)\n",
        "    print(\"epoch : {}/{}, loss = {:.6f}\".format(epoch + 1, epochs, loss))\n",
        "  total_loss=0\n",
        "  with torch.no_grad():\n",
        "    for data in test_loader:\n",
        "      images, _ = data\n",
        "      images = images.view(-1, 784)\n",
        "      outputs = model(images)\n",
        "      test_loss = criterion(outputs, images)\n",
        "      total_loss += test_loss.item()\n",
        "    total_loss = total_loss / len(test_loader)\n",
        "    print(\"Test Reconstruction Loss={:.6f}\".format(total_loss))\n",
        "  lossvshiddenlayer[x]=total_loss\n",
        "plt.plot(*zip(*lossvshiddenlayer.items()))\n",
        "plt.show()"
      ],
      "execution_count": null,
      "outputs": [
        {
          "output_type": "stream",
          "text": [
            "epoch : 1/5, loss = 0.217706\n",
            "epoch : 2/5, loss = 0.095415\n",
            "epoch : 3/5, loss = 0.068003\n",
            "epoch : 4/5, loss = 0.067430\n",
            "epoch : 5/5, loss = 0.067027\n",
            "Test Reconstruction Loss=0.067035\n",
            "epoch : 1/5, loss = 0.226705\n",
            "epoch : 2/5, loss = 0.149499\n",
            "epoch : 3/5, loss = 0.068895\n",
            "epoch : 4/5, loss = 0.067508\n",
            "epoch : 5/5, loss = 0.066565\n",
            "Test Reconstruction Loss=0.066386\n",
            "epoch : 1/5, loss = 0.226630\n",
            "epoch : 2/5, loss = 0.195518\n",
            "epoch : 3/5, loss = 0.076006\n",
            "epoch : 4/5, loss = 0.067956\n",
            "epoch : 5/5, loss = 0.067027\n",
            "Test Reconstruction Loss=0.066864\n",
            "epoch : 1/5, loss = 0.225837\n",
            "epoch : 2/5, loss = 0.175385\n",
            "epoch : 3/5, loss = 0.071135\n",
            "epoch : 4/5, loss = 0.067834\n",
            "epoch : 5/5, loss = 0.067501\n",
            "Test Reconstruction Loss=0.067608\n",
            "epoch : 1/5, loss = 0.223226\n",
            "epoch : 2/5, loss = 0.112769\n",
            "epoch : 3/5, loss = 0.068280\n",
            "epoch : 4/5, loss = 0.067607\n",
            "epoch : 5/5, loss = 0.067357\n",
            "Test Reconstruction Loss=0.067488\n",
            "epoch : 1/5, loss = 0.224948\n",
            "epoch : 2/5, loss = 0.145374\n",
            "epoch : 3/5, loss = 0.068946\n",
            "epoch : 4/5, loss = 0.067630\n",
            "epoch : 5/5, loss = 0.066686\n",
            "Test Reconstruction Loss=0.066485\n",
            "epoch : 1/5, loss = 0.227487\n",
            "epoch : 2/5, loss = 0.199121\n",
            "epoch : 3/5, loss = 0.078975\n",
            "epoch : 4/5, loss = 0.067834\n",
            "epoch : 5/5, loss = 0.067351\n",
            "Test Reconstruction Loss=0.067367\n",
            "epoch : 1/5, loss = 0.225290\n",
            "epoch : 2/5, loss = 0.160351\n",
            "epoch : 3/5, loss = 0.069570\n",
            "epoch : 4/5, loss = 0.067775\n",
            "epoch : 5/5, loss = 0.066951\n",
            "Test Reconstruction Loss=0.066800\n",
            "epoch : 1/5, loss = 0.224525\n",
            "epoch : 2/5, loss = 0.156886\n",
            "epoch : 3/5, loss = 0.069492\n",
            "epoch : 4/5, loss = 0.067700\n",
            "epoch : 5/5, loss = 0.067443\n",
            "Test Reconstruction Loss=0.067579\n",
            "epoch : 1/5, loss = 0.225420\n",
            "epoch : 2/5, loss = 0.154518\n",
            "epoch : 3/5, loss = 0.069134\n",
            "epoch : 4/5, loss = 0.067649\n",
            "epoch : 5/5, loss = 0.066923\n",
            "Test Reconstruction Loss=0.066781\n"
          ],
          "name": "stdout"
        },
        {
          "output_type": "display_data",
          "data": {
            "image/png": "[encoded data removed]",
            "text/plain": [
              "<Figure size 432x288 with 1 Axes>"
            ]
          },
          "metadata": {
            "tags": [],
            "needs_background": "light"
          }
        }
      ]
    },
    {
      "cell_type": "markdown",
      "metadata": {
        "id": "UILC5KyHYZOT"
      },
      "source": [
        "# RMSprop Optimizer"
      ]
    },
    {
      "cell_type": "code",
      "metadata": {
        "colab": {
          "base_uri": "https://localhost:8080/",
          "height": 1000
        },
        "id": "AUDd8BSTwtWx",
        "outputId": "f0cf0dc7-0e3d-48a4-dc04-3d6038eba678"
      },
      "source": [
        "lossvshiddenlayer={}\n",
        "for x in range(2,12):\n",
        "  model = Autoencoder_Linear(x)\n",
        "  # print(model)\n",
        "  optimizer = optim.RMSprop(model.parameters(), lr=0.001)\n",
        "  criterion = nn.MSELoss()\n",
        "  epochs = 5\n",
        "  for epoch in range(epochs):\n",
        "    loss = 0\n",
        "    for batch_features, _ in train_loader:\n",
        "      batch_features = batch_features.view(-1, 784)\n",
        "      optimizer.zero_grad()\n",
        "      outputs = model(batch_features)\n",
        "      train_loss = criterion(outputs, batch_features)\n",
        "      train_loss.backward()\n",
        "      optimizer.step()\n",
        "      loss += train_loss.item()\n",
        "    loss = loss / len(train_loader)\n",
        "    print(\"epoch : {}/{}, loss = {:.6f}\".format(epoch + 1, epochs, loss))\n",
        "  total_loss=0\n",
        "  with torch.no_grad():\n",
        "    for data in test_loader:\n",
        "      images, _ = data\n",
        "      images = images.view(-1, 784)\n",
        "      outputs = model(images)\n",
        "      test_loss = criterion(outputs, images)\n",
        "      total_loss += test_loss.item()\n",
        "    total_loss = total_loss / len(test_loader)\n",
        "    print(\"Test Reconstruction Loss={:.6f}\".format(total_loss))\n",
        "  lossvshiddenlayer[x]=total_loss\n",
        "plt.plot(*zip(*lossvshiddenlayer.items()))\n",
        "plt.show()"
      ],
      "execution_count": null,
      "outputs": [
        {
          "output_type": "stream",
          "text": [
            "epoch : 1/5, loss = 0.055878\n",
            "epoch : 2/5, loss = 0.046000\n",
            "epoch : 3/5, loss = 0.043412\n",
            "epoch : 4/5, loss = 0.041770\n",
            "epoch : 5/5, loss = 0.040810\n",
            "Test Reconstruction Loss=0.040486\n",
            "epoch : 1/5, loss = 0.055077\n",
            "epoch : 2/5, loss = 0.041119\n",
            "epoch : 3/5, loss = 0.038131\n",
            "epoch : 4/5, loss = 0.036565\n",
            "epoch : 5/5, loss = 0.035628\n",
            "Test Reconstruction Loss=0.035595\n",
            "epoch : 1/5, loss = 0.054161\n",
            "epoch : 2/5, loss = 0.041426\n",
            "epoch : 3/5, loss = 0.037378\n",
            "epoch : 4/5, loss = 0.035011\n",
            "epoch : 5/5, loss = 0.033275\n",
            "Test Reconstruction Loss=0.032602\n",
            "epoch : 1/5, loss = 0.053731\n",
            "epoch : 2/5, loss = 0.041784\n",
            "epoch : 3/5, loss = 0.035894\n",
            "epoch : 4/5, loss = 0.032202\n",
            "epoch : 5/5, loss = 0.030241\n",
            "Test Reconstruction Loss=0.029780\n",
            "epoch : 1/5, loss = 0.055624\n",
            "epoch : 2/5, loss = 0.041572\n",
            "epoch : 3/5, loss = 0.035567\n",
            "epoch : 4/5, loss = 0.031880\n",
            "epoch : 5/5, loss = 0.029402\n",
            "Test Reconstruction Loss=0.028004\n",
            "epoch : 1/5, loss = 0.052477\n",
            "epoch : 2/5, loss = 0.036955\n",
            "epoch : 3/5, loss = 0.032345\n",
            "epoch : 4/5, loss = 0.029532\n",
            "epoch : 5/5, loss = 0.027833\n",
            "Test Reconstruction Loss=0.027228\n",
            "epoch : 1/5, loss = 0.050602\n",
            "epoch : 2/5, loss = 0.036385\n",
            "epoch : 3/5, loss = 0.032157\n",
            "epoch : 4/5, loss = 0.029404\n",
            "epoch : 5/5, loss = 0.027725\n",
            "Test Reconstruction Loss=0.027041\n",
            "epoch : 1/5, loss = 0.054932\n",
            "epoch : 2/5, loss = 0.038807\n",
            "epoch : 3/5, loss = 0.032938\n",
            "epoch : 4/5, loss = 0.028855\n",
            "epoch : 5/5, loss = 0.026698\n",
            "Test Reconstruction Loss=0.026256\n",
            "epoch : 1/5, loss = 0.052031\n",
            "epoch : 2/5, loss = 0.037498\n",
            "epoch : 3/5, loss = 0.032381\n",
            "epoch : 4/5, loss = 0.030051\n",
            "epoch : 5/5, loss = 0.027683\n",
            "Test Reconstruction Loss=0.025821\n",
            "epoch : 1/5, loss = 0.051934\n",
            "epoch : 2/5, loss = 0.037792\n",
            "epoch : 3/5, loss = 0.032724\n",
            "epoch : 4/5, loss = 0.029483\n",
            "epoch : 5/5, loss = 0.027194\n",
            "Test Reconstruction Loss=0.026897\n"
          ],
          "name": "stdout"
        },
        {
          "output_type": "display_data",
          "data": {
            "image/png": "[encoded data removed]",
            "text/plain": [
              "<Figure size 432x288 with 1 Axes>"
            ]
          },
          "metadata": {
            "tags": [],
            "needs_background": "light"
          }
        }
      ]
    },
    {
      "cell_type": "code",
      "metadata": {
        "id": "Sp0nGWTfHZfw"
      },
      "source": [
        "import matplotlib.pyplot as plt\n",
        "\n",
        "for k in output:\n",
        "    plt.figure(figsize=(9, 2))\n",
        "    plt.gray()\n",
        "    imgs = k[1].detach().numpy()\n",
        "    recon = k[2].detach().numpy()\n",
        "    for i, item in enumerate(imgs):\n",
        "        if i >= 9: break\n",
        "        plt.subplot(2, 9, i+1)\n",
        "        item = item.reshape(-1, 28,28) # -> use for Autoencoder_Linear\n",
        "        # item: 1, 28, 28\n",
        "        plt.imshow(item[0])\n",
        "            \n",
        "    for i, item in enumerate(recon):\n",
        "        if i >= 9: break\n",
        "        plt.subplot(2, 9, 9+i+1) # row_length + i + 1\n",
        "        item = item.reshape(-1, 28,28) # -> use for Autoencoder_Linear\n",
        "        # item: 1, 28, 28\n",
        "        plt.imshow(item[0])"
      ],
      "execution_count": null,
      "outputs": []
    },
    {
      "cell_type": "markdown",
      "metadata": {
        "id": "d50SZW9IomML"
      },
      "source": [
        "#PCA Recontruction"
      ]
    },
    {
      "cell_type": "code",
      "metadata": {
        "colab": {
          "base_uri": "https://localhost:8080/"
        },
        "id": "_0s_mVdCsabU",
        "outputId": "3f93090f-7f68-4396-87c9-c8f36d100ea1"
      },
      "source": [
        "from sklearn.decomposition import PCA\n",
        "from sklearn.metrics import mean_squared_error\n",
        "import numpy as np\n",
        "images_test = [test_dataset[x][0].numpy() for x in range(len(test_dataset))]\n",
        "images_test = np.array(images_test)\n",
        "images_test = images_test.reshape(images_test.shape[0],-1)\n",
        "images_test.shape"
      ],
      "execution_count": null,
      "outputs": [
        {
          "output_type": "execute_result",
          "data": {
            "text/plain": [
              "(10000, 784)"
            ]
          },
          "metadata": {
            "tags": []
          },
          "execution_count": 7
        }
      ]
    },
    {
      "cell_type": "code",
      "metadata": {
        "id": "g_FW_6zM7eym"
      },
      "source": [
        "pca = PCA(n_components=10)\n",
        "pca_test = pca.fit_transform(images_test)"
      ],
      "execution_count": null,
      "outputs": []
    },
    {
      "cell_type": "code",
      "metadata": {
        "colab": {
          "base_uri": "https://localhost:8080/"
        },
        "id": "nmZWEExbU9w5",
        "outputId": "7a467cee-cfe7-4656-a7bf-9d5dd838ab13"
      },
      "source": [
        "pca.explained_variance_ratio_"
      ],
      "execution_count": null,
      "outputs": [
        {
          "output_type": "execute_result",
          "data": {
            "text/plain": [
              "array([0.10047685, 0.0754452 , 0.06140547, 0.05425833, 0.05031271,\n",
              "       0.04246375, 0.03311414, 0.02950301, 0.02729869, 0.02278052,\n",
              "       0.02133869, 0.0209521 , 0.01725903, 0.01685716, 0.01576046,\n",
              "       0.01494418], dtype=float32)"
            ]
          },
          "metadata": {
            "tags": []
          },
          "execution_count": 5
        }
      ]
    },
    {
      "cell_type": "code",
      "metadata": {
        "colab": {
          "base_uri": "https://localhost:8080/"
        },
        "id": "LLGJNO1dWoEv",
        "outputId": "f07b443d-9468-4c25-abdb-9a9dc0024171"
      },
      "source": [
        "reconstructed = pca.inverse_transform(pca_test)\n",
        "mean_squared_error(reconstructed,images_test)"
      ],
      "execution_count": null,
      "outputs": [
        {
          "output_type": "execute_result",
          "data": {
            "text/plain": [
              "0.033902615"
            ]
          },
          "metadata": {
            "tags": []
          },
          "execution_count": 9
        }
      ]
    }
  ]
}