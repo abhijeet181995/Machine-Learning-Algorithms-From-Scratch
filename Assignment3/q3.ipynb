{
  "nbformat": 4,
  "nbformat_minor": 0,
  "metadata": {
    "colab": {
      "name": "Assignment3(3).ipynb",
      "provenance": []
    },
    "kernelspec": {
      "name": "python3",
      "display_name": "Python 3"
    },
    "language_info": {
      "name": "python"
    },
    "widgets": {
      "application/vnd.jupyter.widget-state+json": {
        "25b62c2c7c0542359cce637be4835f3f": {
          "model_module": "@jupyter-widgets/controls",
          "model_name": "HBoxModel",
          "state": {
            "_view_name": "HBoxView",
            "_dom_classes": [],
            "_model_name": "HBoxModel",
            "_view_module": "@jupyter-widgets/controls",
            "_model_module_version": "1.5.0",
            "_view_count": null,
            "_view_module_version": "1.5.0",
            "box_style": "",
            "layout": "IPY_MODEL_0934f5f74d0947569b0e427f8cf10270",
            "_model_module": "@jupyter-widgets/controls",
            "children": [
              "IPY_MODEL_7f960c56b77548dfa98f286530a39c2f",
              "IPY_MODEL_e37f6ac44b7f4adba737e743f871b90b"
            ]
          }
        },
        "0934f5f74d0947569b0e427f8cf10270": {
          "model_module": "@jupyter-widgets/base",
          "model_name": "LayoutModel",
          "state": {
            "_view_name": "LayoutView",
            "grid_template_rows": null,
            "right": null,
            "justify_content": null,
            "_view_module": "@jupyter-widgets/base",
            "overflow": null,
            "_model_module_version": "1.2.0",
            "_view_count": null,
            "flex_flow": null,
            "width": null,
            "min_width": null,
            "border": null,
            "align_items": null,
            "bottom": null,
            "_model_module": "@jupyter-widgets/base",
            "top": null,
            "grid_column": null,
            "overflow_y": null,
            "overflow_x": null,
            "grid_auto_flow": null,
            "grid_area": null,
            "grid_template_columns": null,
            "flex": null,
            "_model_name": "LayoutModel",
            "justify_items": null,
            "grid_row": null,
            "max_height": null,
            "align_content": null,
            "visibility": null,
            "align_self": null,
            "height": null,
            "min_height": null,
            "padding": null,
            "grid_auto_rows": null,
            "grid_gap": null,
            "max_width": null,
            "order": null,
            "_view_module_version": "1.2.0",
            "grid_template_areas": null,
            "object_position": null,
            "object_fit": null,
            "grid_auto_columns": null,
            "margin": null,
            "display": null,
            "left": null
          }
        },
        "7f960c56b77548dfa98f286530a39c2f": {
          "model_module": "@jupyter-widgets/controls",
          "model_name": "FloatProgressModel",
          "state": {
            "_view_name": "ProgressView",
            "style": "IPY_MODEL_7b12f80e69024838861bab9de669d55c",
            "_dom_classes": [],
            "description": "",
            "_model_name": "FloatProgressModel",
            "bar_style": "success",
            "max": 9912422,
            "_view_module": "@jupyter-widgets/controls",
            "_model_module_version": "1.5.0",
            "value": 9912422,
            "_view_count": null,
            "_view_module_version": "1.5.0",
            "orientation": "horizontal",
            "min": 0,
            "description_tooltip": null,
            "_model_module": "@jupyter-widgets/controls",
            "layout": "IPY_MODEL_3f9a7c9b1c1f4474941e807f9581ff04"
          }
        },
        "e37f6ac44b7f4adba737e743f871b90b": {
          "model_module": "@jupyter-widgets/controls",
          "model_name": "HTMLModel",
          "state": {
            "_view_name": "HTMLView",
            "style": "IPY_MODEL_7ba9f63fd1c144348dc838f3a7af75fe",
            "_dom_classes": [],
            "description": "",
            "_model_name": "HTMLModel",
            "placeholder": "​",
            "_view_module": "@jupyter-widgets/controls",
            "_model_module_version": "1.5.0",
            "value": " 9913344/? [07:21&lt;00:00, 22438.91it/s]",
            "_view_count": null,
            "_view_module_version": "1.5.0",
            "description_tooltip": null,
            "_model_module": "@jupyter-widgets/controls",
            "layout": "IPY_MODEL_f06fa101b5364b6c957787be9b6b3c1c"
          }
        },
        "7b12f80e69024838861bab9de669d55c": {
          "model_module": "@jupyter-widgets/controls",
          "model_name": "ProgressStyleModel",
          "state": {
            "_view_name": "StyleView",
            "_model_name": "ProgressStyleModel",
            "description_width": "initial",
            "_view_module": "@jupyter-widgets/base",
            "_model_module_version": "1.5.0",
            "_view_count": null,
            "_view_module_version": "1.2.0",
            "bar_color": null,
            "_model_module": "@jupyter-widgets/controls"
          }
        },
        "3f9a7c9b1c1f4474941e807f9581ff04": {
          "model_module": "@jupyter-widgets/base",
          "model_name": "LayoutModel",
          "state": {
            "_view_name": "LayoutView",
            "grid_template_rows": null,
            "right": null,
            "justify_content": null,
            "_view_module": "@jupyter-widgets/base",
            "overflow": null,
            "_model_module_version": "1.2.0",
            "_view_count": null,
            "flex_flow": null,
            "width": null,
            "min_width": null,
            "border": null,
            "align_items": null,
            "bottom": null,
            "_model_module": "@jupyter-widgets/base",
            "top": null,
            "grid_column": null,
            "overflow_y": null,
            "overflow_x": null,
            "grid_auto_flow": null,
            "grid_area": null,
            "grid_template_columns": null,
            "flex": null,
            "_model_name": "LayoutModel",
            "justify_items": null,
            "grid_row": null,
            "max_height": null,
            "align_content": null,
            "visibility": null,
            "align_self": null,
            "height": null,
            "min_height": null,
            "padding": null,
            "grid_auto_rows": null,
            "grid_gap": null,
            "max_width": null,
            "order": null,
            "_view_module_version": "1.2.0",
            "grid_template_areas": null,
            "object_position": null,
            "object_fit": null,
            "grid_auto_columns": null,
            "margin": null,
            "display": null,
            "left": null
          }
        },
        "7ba9f63fd1c144348dc838f3a7af75fe": {
          "model_module": "@jupyter-widgets/controls",
          "model_name": "DescriptionStyleModel",
          "state": {
            "_view_name": "StyleView",
            "_model_name": "DescriptionStyleModel",
            "description_width": "",
            "_view_module": "@jupyter-widgets/base",
            "_model_module_version": "1.5.0",
            "_view_count": null,
            "_view_module_version": "1.2.0",
            "_model_module": "@jupyter-widgets/controls"
          }
        },
        "f06fa101b5364b6c957787be9b6b3c1c": {
          "model_module": "@jupyter-widgets/base",
          "model_name": "LayoutModel",
          "state": {
            "_view_name": "LayoutView",
            "grid_template_rows": null,
            "right": null,
            "justify_content": null,
            "_view_module": "@jupyter-widgets/base",
            "overflow": null,
            "_model_module_version": "1.2.0",
            "_view_count": null,
            "flex_flow": null,
            "width": null,
            "min_width": null,
            "border": null,
            "align_items": null,
            "bottom": null,
            "_model_module": "@jupyter-widgets/base",
            "top": null,
            "grid_column": null,
            "overflow_y": null,
            "overflow_x": null,
            "grid_auto_flow": null,
            "grid_area": null,
            "grid_template_columns": null,
            "flex": null,
            "_model_name": "LayoutModel",
            "justify_items": null,
            "grid_row": null,
            "max_height": null,
            "align_content": null,
            "visibility": null,
            "align_self": null,
            "height": null,
            "min_height": null,
            "padding": null,
            "grid_auto_rows": null,
            "grid_gap": null,
            "max_width": null,
            "order": null,
            "_view_module_version": "1.2.0",
            "grid_template_areas": null,
            "object_position": null,
            "object_fit": null,
            "grid_auto_columns": null,
            "margin": null,
            "display": null,
            "left": null
          }
        },
        "c83e2d19610942c89b35b5d38167e958": {
          "model_module": "@jupyter-widgets/controls",
          "model_name": "HBoxModel",
          "state": {
            "_view_name": "HBoxView",
            "_dom_classes": [],
            "_model_name": "HBoxModel",
            "_view_module": "@jupyter-widgets/controls",
            "_model_module_version": "1.5.0",
            "_view_count": null,
            "_view_module_version": "1.5.0",
            "box_style": "",
            "layout": "IPY_MODEL_8db3d2b517674210bfb34bb3fbc73c33",
            "_model_module": "@jupyter-widgets/controls",
            "children": [
              "IPY_MODEL_9158e9a43d824b91a92205e2f331ee6b",
              "IPY_MODEL_9d1722d1c4ec43df898ecf76449d0428"
            ]
          }
        },
        "8db3d2b517674210bfb34bb3fbc73c33": {
          "model_module": "@jupyter-widgets/base",
          "model_name": "LayoutModel",
          "state": {
            "_view_name": "LayoutView",
            "grid_template_rows": null,
            "right": null,
            "justify_content": null,
            "_view_module": "@jupyter-widgets/base",
            "overflow": null,
            "_model_module_version": "1.2.0",
            "_view_count": null,
            "flex_flow": null,
            "width": null,
            "min_width": null,
            "border": null,
            "align_items": null,
            "bottom": null,
            "_model_module": "@jupyter-widgets/base",
            "top": null,
            "grid_column": null,
            "overflow_y": null,
            "overflow_x": null,
            "grid_auto_flow": null,
            "grid_area": null,
            "grid_template_columns": null,
            "flex": null,
            "_model_name": "LayoutModel",
            "justify_items": null,
            "grid_row": null,
            "max_height": null,
            "align_content": null,
            "visibility": null,
            "align_self": null,
            "height": null,
            "min_height": null,
            "padding": null,
            "grid_auto_rows": null,
            "grid_gap": null,
            "max_width": null,
            "order": null,
            "_view_module_version": "1.2.0",
            "grid_template_areas": null,
            "object_position": null,
            "object_fit": null,
            "grid_auto_columns": null,
            "margin": null,
            "display": null,
            "left": null
          }
        },
        "9158e9a43d824b91a92205e2f331ee6b": {
          "model_module": "@jupyter-widgets/controls",
          "model_name": "FloatProgressModel",
          "state": {
            "_view_name": "ProgressView",
            "style": "IPY_MODEL_623f5ed23a314f1ba7805bdab63a4637",
            "_dom_classes": [],
            "description": "",
            "_model_name": "FloatProgressModel",
            "bar_style": "success",
            "max": 28881,
            "_view_module": "@jupyter-widgets/controls",
            "_model_module_version": "1.5.0",
            "value": 28881,
            "_view_count": null,
            "_view_module_version": "1.5.0",
            "orientation": "horizontal",
            "min": 0,
            "description_tooltip": null,
            "_model_module": "@jupyter-widgets/controls",
            "layout": "IPY_MODEL_91ecb75e8a834bda80e5bcfea574e431"
          }
        },
        "9d1722d1c4ec43df898ecf76449d0428": {
          "model_module": "@jupyter-widgets/controls",
          "model_name": "HTMLModel",
          "state": {
            "_view_name": "HTMLView",
            "style": "IPY_MODEL_9410f8f14cba4d228ffcce0bb986eba5",
            "_dom_classes": [],
            "description": "",
            "_model_name": "HTMLModel",
            "placeholder": "​",
            "_view_module": "@jupyter-widgets/controls",
            "_model_module_version": "1.5.0",
            "value": " 29696/? [00:00&lt;00:00, 70533.26it/s]",
            "_view_count": null,
            "_view_module_version": "1.5.0",
            "description_tooltip": null,
            "_model_module": "@jupyter-widgets/controls",
            "layout": "IPY_MODEL_4d6ed5bb2652480e9c7fca650c8ff6b6"
          }
        },
        "623f5ed23a314f1ba7805bdab63a4637": {
          "model_module": "@jupyter-widgets/controls",
          "model_name": "ProgressStyleModel",
          "state": {
            "_view_name": "StyleView",
            "_model_name": "ProgressStyleModel",
            "description_width": "initial",
            "_view_module": "@jupyter-widgets/base",
            "_model_module_version": "1.5.0",
            "_view_count": null,
            "_view_module_version": "1.2.0",
            "bar_color": null,
            "_model_module": "@jupyter-widgets/controls"
          }
        },
        "91ecb75e8a834bda80e5bcfea574e431": {
          "model_module": "@jupyter-widgets/base",
          "model_name": "LayoutModel",
          "state": {
            "_view_name": "LayoutView",
            "grid_template_rows": null,
            "right": null,
            "justify_content": null,
            "_view_module": "@jupyter-widgets/base",
            "overflow": null,
            "_model_module_version": "1.2.0",
            "_view_count": null,
            "flex_flow": null,
            "width": null,
            "min_width": null,
            "border": null,
            "align_items": null,
            "bottom": null,
            "_model_module": "@jupyter-widgets/base",
            "top": null,
            "grid_column": null,
            "overflow_y": null,
            "overflow_x": null,
            "grid_auto_flow": null,
            "grid_area": null,
            "grid_template_columns": null,
            "flex": null,
            "_model_name": "LayoutModel",
            "justify_items": null,
            "grid_row": null,
            "max_height": null,
            "align_content": null,
            "visibility": null,
            "align_self": null,
            "height": null,
            "min_height": null,
            "padding": null,
            "grid_auto_rows": null,
            "grid_gap": null,
            "max_width": null,
            "order": null,
            "_view_module_version": "1.2.0",
            "grid_template_areas": null,
            "object_position": null,
            "object_fit": null,
            "grid_auto_columns": null,
            "margin": null,
            "display": null,
            "left": null
          }
        },
        "9410f8f14cba4d228ffcce0bb986eba5": {
          "model_module": "@jupyter-widgets/controls",
          "model_name": "DescriptionStyleModel",
          "state": {
            "_view_name": "StyleView",
            "_model_name": "DescriptionStyleModel",
            "description_width": "",
            "_view_module": "@jupyter-widgets/base",
            "_model_module_version": "1.5.0",
            "_view_count": null,
            "_view_module_version": "1.2.0",
            "_model_module": "@jupyter-widgets/controls"
          }
        },
        "4d6ed5bb2652480e9c7fca650c8ff6b6": {
          "model_module": "@jupyter-widgets/base",
          "model_name": "LayoutModel",
          "state": {
            "_view_name": "LayoutView",
            "grid_template_rows": null,
            "right": null,
            "justify_content": null,
            "_view_module": "@jupyter-widgets/base",
            "overflow": null,
            "_model_module_version": "1.2.0",
            "_view_count": null,
            "flex_flow": null,
            "width": null,
            "min_width": null,
            "border": null,
            "align_items": null,
            "bottom": null,
            "_model_module": "@jupyter-widgets/base",
            "top": null,
            "grid_column": null,
            "overflow_y": null,
            "overflow_x": null,
            "grid_auto_flow": null,
            "grid_area": null,
            "grid_template_columns": null,
            "flex": null,
            "_model_name": "LayoutModel",
            "justify_items": null,
            "grid_row": null,
            "max_height": null,
            "align_content": null,
            "visibility": null,
            "align_self": null,
            "height": null,
            "min_height": null,
            "padding": null,
            "grid_auto_rows": null,
            "grid_gap": null,
            "max_width": null,
            "order": null,
            "_view_module_version": "1.2.0",
            "grid_template_areas": null,
            "object_position": null,
            "object_fit": null,
            "grid_auto_columns": null,
            "margin": null,
            "display": null,
            "left": null
          }
        },
        "ac5d2072d6ea48a8bd3e0622d6eb94f0": {
          "model_module": "@jupyter-widgets/controls",
          "model_name": "HBoxModel",
          "state": {
            "_view_name": "HBoxView",
            "_dom_classes": [],
            "_model_name": "HBoxModel",
            "_view_module": "@jupyter-widgets/controls",
            "_model_module_version": "1.5.0",
            "_view_count": null,
            "_view_module_version": "1.5.0",
            "box_style": "",
            "layout": "IPY_MODEL_de1e9a8ed855494bab30d676777378b8",
            "_model_module": "@jupyter-widgets/controls",
            "children": [
              "IPY_MODEL_172b0d72623b4293b5d6affd02817d3a",
              "IPY_MODEL_c864d85e81e34165974d6c8d541f97db"
            ]
          }
        },
        "de1e9a8ed855494bab30d676777378b8": {
          "model_module": "@jupyter-widgets/base",
          "model_name": "LayoutModel",
          "state": {
            "_view_name": "LayoutView",
            "grid_template_rows": null,
            "right": null,
            "justify_content": null,
            "_view_module": "@jupyter-widgets/base",
            "overflow": null,
            "_model_module_version": "1.2.0",
            "_view_count": null,
            "flex_flow": null,
            "width": null,
            "min_width": null,
            "border": null,
            "align_items": null,
            "bottom": null,
            "_model_module": "@jupyter-widgets/base",
            "top": null,
            "grid_column": null,
            "overflow_y": null,
            "overflow_x": null,
            "grid_auto_flow": null,
            "grid_area": null,
            "grid_template_columns": null,
            "flex": null,
            "_model_name": "LayoutModel",
            "justify_items": null,
            "grid_row": null,
            "max_height": null,
            "align_content": null,
            "visibility": null,
            "align_self": null,
            "height": null,
            "min_height": null,
            "padding": null,
            "grid_auto_rows": null,
            "grid_gap": null,
            "max_width": null,
            "order": null,
            "_view_module_version": "1.2.0",
            "grid_template_areas": null,
            "object_position": null,
            "object_fit": null,
            "grid_auto_columns": null,
            "margin": null,
            "display": null,
            "left": null
          }
        },
        "172b0d72623b4293b5d6affd02817d3a": {
          "model_module": "@jupyter-widgets/controls",
          "model_name": "FloatProgressModel",
          "state": {
            "_view_name": "ProgressView",
            "style": "IPY_MODEL_89ccf7223358437898637813aed3fff3",
            "_dom_classes": [],
            "description": "",
            "_model_name": "FloatProgressModel",
            "bar_style": "success",
            "max": 1648877,
            "_view_module": "@jupyter-widgets/controls",
            "_model_module_version": "1.5.0",
            "value": 1648877,
            "_view_count": null,
            "_view_module_version": "1.5.0",
            "orientation": "horizontal",
            "min": 0,
            "description_tooltip": null,
            "_model_module": "@jupyter-widgets/controls",
            "layout": "IPY_MODEL_2f360151d44140129c18ce4ca398fced"
          }
        },
        "c864d85e81e34165974d6c8d541f97db": {
          "model_module": "@jupyter-widgets/controls",
          "model_name": "HTMLModel",
          "state": {
            "_view_name": "HTMLView",
            "style": "IPY_MODEL_c0ab959a324b4b279c014cfeac491106",
            "_dom_classes": [],
            "description": "",
            "_model_name": "HTMLModel",
            "placeholder": "​",
            "_view_module": "@jupyter-widgets/controls",
            "_model_module_version": "1.5.0",
            "value": " 1649664/? [02:22&lt;00:00, 11608.46it/s]",
            "_view_count": null,
            "_view_module_version": "1.5.0",
            "description_tooltip": null,
            "_model_module": "@jupyter-widgets/controls",
            "layout": "IPY_MODEL_63679b11e5554a6b8f33259c09187f05"
          }
        },
        "89ccf7223358437898637813aed3fff3": {
          "model_module": "@jupyter-widgets/controls",
          "model_name": "ProgressStyleModel",
          "state": {
            "_view_name": "StyleView",
            "_model_name": "ProgressStyleModel",
            "description_width": "initial",
            "_view_module": "@jupyter-widgets/base",
            "_model_module_version": "1.5.0",
            "_view_count": null,
            "_view_module_version": "1.2.0",
            "bar_color": null,
            "_model_module": "@jupyter-widgets/controls"
          }
        },
        "2f360151d44140129c18ce4ca398fced": {
          "model_module": "@jupyter-widgets/base",
          "model_name": "LayoutModel",
          "state": {
            "_view_name": "LayoutView",
            "grid_template_rows": null,
            "right": null,
            "justify_content": null,
            "_view_module": "@jupyter-widgets/base",
            "overflow": null,
            "_model_module_version": "1.2.0",
            "_view_count": null,
            "flex_flow": null,
            "width": null,
            "min_width": null,
            "border": null,
            "align_items": null,
            "bottom": null,
            "_model_module": "@jupyter-widgets/base",
            "top": null,
            "grid_column": null,
            "overflow_y": null,
            "overflow_x": null,
            "grid_auto_flow": null,
            "grid_area": null,
            "grid_template_columns": null,
            "flex": null,
            "_model_name": "LayoutModel",
            "justify_items": null,
            "grid_row": null,
            "max_height": null,
            "align_content": null,
            "visibility": null,
            "align_self": null,
            "height": null,
            "min_height": null,
            "padding": null,
            "grid_auto_rows": null,
            "grid_gap": null,
            "max_width": null,
            "order": null,
            "_view_module_version": "1.2.0",
            "grid_template_areas": null,
            "object_position": null,
            "object_fit": null,
            "grid_auto_columns": null,
            "margin": null,
            "display": null,
            "left": null
          }
        },
        "c0ab959a324b4b279c014cfeac491106": {
          "model_module": "@jupyter-widgets/controls",
          "model_name": "DescriptionStyleModel",
          "state": {
            "_view_name": "StyleView",
            "_model_name": "DescriptionStyleModel",
            "description_width": "",
            "_view_module": "@jupyter-widgets/base",
            "_model_module_version": "1.5.0",
            "_view_count": null,
            "_view_module_version": "1.2.0",
            "_model_module": "@jupyter-widgets/controls"
          }
        },
        "63679b11e5554a6b8f33259c09187f05": {
          "model_module": "@jupyter-widgets/base",
          "model_name": "LayoutModel",
          "state": {
            "_view_name": "LayoutView",
            "grid_template_rows": null,
            "right": null,
            "justify_content": null,
            "_view_module": "@jupyter-widgets/base",
            "overflow": null,
            "_model_module_version": "1.2.0",
            "_view_count": null,
            "flex_flow": null,
            "width": null,
            "min_width": null,
            "border": null,
            "align_items": null,
            "bottom": null,
            "_model_module": "@jupyter-widgets/base",
            "top": null,
            "grid_column": null,
            "overflow_y": null,
            "overflow_x": null,
            "grid_auto_flow": null,
            "grid_area": null,
            "grid_template_columns": null,
            "flex": null,
            "_model_name": "LayoutModel",
            "justify_items": null,
            "grid_row": null,
            "max_height": null,
            "align_content": null,
            "visibility": null,
            "align_self": null,
            "height": null,
            "min_height": null,
            "padding": null,
            "grid_auto_rows": null,
            "grid_gap": null,
            "max_width": null,
            "order": null,
            "_view_module_version": "1.2.0",
            "grid_template_areas": null,
            "object_position": null,
            "object_fit": null,
            "grid_auto_columns": null,
            "margin": null,
            "display": null,
            "left": null
          }
        },
        "97aea3f13d4444a7b7a94cca1dc77216": {
          "model_module": "@jupyter-widgets/controls",
          "model_name": "HBoxModel",
          "state": {
            "_view_name": "HBoxView",
            "_dom_classes": [],
            "_model_name": "HBoxModel",
            "_view_module": "@jupyter-widgets/controls",
            "_model_module_version": "1.5.0",
            "_view_count": null,
            "_view_module_version": "1.5.0",
            "box_style": "",
            "layout": "IPY_MODEL_c8067ccf2ab044639a4c265e23246c1d",
            "_model_module": "@jupyter-widgets/controls",
            "children": [
              "IPY_MODEL_ce807820ce70451fbbab2c3d72bab25c",
              "IPY_MODEL_04a68a2ac1374b7e9db4470c1b479197"
            ]
          }
        },
        "c8067ccf2ab044639a4c265e23246c1d": {
          "model_module": "@jupyter-widgets/base",
          "model_name": "LayoutModel",
          "state": {
            "_view_name": "LayoutView",
            "grid_template_rows": null,
            "right": null,
            "justify_content": null,
            "_view_module": "@jupyter-widgets/base",
            "overflow": null,
            "_model_module_version": "1.2.0",
            "_view_count": null,
            "flex_flow": null,
            "width": null,
            "min_width": null,
            "border": null,
            "align_items": null,
            "bottom": null,
            "_model_module": "@jupyter-widgets/base",
            "top": null,
            "grid_column": null,
            "overflow_y": null,
            "overflow_x": null,
            "grid_auto_flow": null,
            "grid_area": null,
            "grid_template_columns": null,
            "flex": null,
            "_model_name": "LayoutModel",
            "justify_items": null,
            "grid_row": null,
            "max_height": null,
            "align_content": null,
            "visibility": null,
            "align_self": null,
            "height": null,
            "min_height": null,
            "padding": null,
            "grid_auto_rows": null,
            "grid_gap": null,
            "max_width": null,
            "order": null,
            "_view_module_version": "1.2.0",
            "grid_template_areas": null,
            "object_position": null,
            "object_fit": null,
            "grid_auto_columns": null,
            "margin": null,
            "display": null,
            "left": null
          }
        },
        "ce807820ce70451fbbab2c3d72bab25c": {
          "model_module": "@jupyter-widgets/controls",
          "model_name": "FloatProgressModel",
          "state": {
            "_view_name": "ProgressView",
            "style": "IPY_MODEL_9f5164c0c77c4c94be44acd87ce7fe5e",
            "_dom_classes": [],
            "description": "",
            "_model_name": "FloatProgressModel",
            "bar_style": "success",
            "max": 4542,
            "_view_module": "@jupyter-widgets/controls",
            "_model_module_version": "1.5.0",
            "value": 4542,
            "_view_count": null,
            "_view_module_version": "1.5.0",
            "orientation": "horizontal",
            "min": 0,
            "description_tooltip": null,
            "_model_module": "@jupyter-widgets/controls",
            "layout": "IPY_MODEL_5c7ad79315d7453589fa88e4cf79de71"
          }
        },
        "04a68a2ac1374b7e9db4470c1b479197": {
          "model_module": "@jupyter-widgets/controls",
          "model_name": "HTMLModel",
          "state": {
            "_view_name": "HTMLView",
            "style": "IPY_MODEL_d0f973a3359b43c3b8c8dcfe43eed4eb",
            "_dom_classes": [],
            "description": "",
            "_model_name": "HTMLModel",
            "placeholder": "​",
            "_view_module": "@jupyter-widgets/controls",
            "_model_module_version": "1.5.0",
            "value": " 5120/? [00:02&lt;00:00, 1965.85it/s]",
            "_view_count": null,
            "_view_module_version": "1.5.0",
            "description_tooltip": null,
            "_model_module": "@jupyter-widgets/controls",
            "layout": "IPY_MODEL_324d6fc86fe64978ac0be2c98061dccd"
          }
        },
        "9f5164c0c77c4c94be44acd87ce7fe5e": {
          "model_module": "@jupyter-widgets/controls",
          "model_name": "ProgressStyleModel",
          "state": {
            "_view_name": "StyleView",
            "_model_name": "ProgressStyleModel",
            "description_width": "initial",
            "_view_module": "@jupyter-widgets/base",
            "_model_module_version": "1.5.0",
            "_view_count": null,
            "_view_module_version": "1.2.0",
            "bar_color": null,
            "_model_module": "@jupyter-widgets/controls"
          }
        },
        "5c7ad79315d7453589fa88e4cf79de71": {
          "model_module": "@jupyter-widgets/base",
          "model_name": "LayoutModel",
          "state": {
            "_view_name": "LayoutView",
            "grid_template_rows": null,
            "right": null,
            "justify_content": null,
            "_view_module": "@jupyter-widgets/base",
            "overflow": null,
            "_model_module_version": "1.2.0",
            "_view_count": null,
            "flex_flow": null,
            "width": null,
            "min_width": null,
            "border": null,
            "align_items": null,
            "bottom": null,
            "_model_module": "@jupyter-widgets/base",
            "top": null,
            "grid_column": null,
            "overflow_y": null,
            "overflow_x": null,
            "grid_auto_flow": null,
            "grid_area": null,
            "grid_template_columns": null,
            "flex": null,
            "_model_name": "LayoutModel",
            "justify_items": null,
            "grid_row": null,
            "max_height": null,
            "align_content": null,
            "visibility": null,
            "align_self": null,
            "height": null,
            "min_height": null,
            "padding": null,
            "grid_auto_rows": null,
            "grid_gap": null,
            "max_width": null,
            "order": null,
            "_view_module_version": "1.2.0",
            "grid_template_areas": null,
            "object_position": null,
            "object_fit": null,
            "grid_auto_columns": null,
            "margin": null,
            "display": null,
            "left": null
          }
        },
        "d0f973a3359b43c3b8c8dcfe43eed4eb": {
          "model_module": "@jupyter-widgets/controls",
          "model_name": "DescriptionStyleModel",
          "state": {
            "_view_name": "StyleView",
            "_model_name": "DescriptionStyleModel",
            "description_width": "",
            "_view_module": "@jupyter-widgets/base",
            "_model_module_version": "1.5.0",
            "_view_count": null,
            "_view_module_version": "1.2.0",
            "_model_module": "@jupyter-widgets/controls"
          }
        },
        "324d6fc86fe64978ac0be2c98061dccd": {
          "model_module": "@jupyter-widgets/base",
          "model_name": "LayoutModel",
          "state": {
            "_view_name": "LayoutView",
            "grid_template_rows": null,
            "right": null,
            "justify_content": null,
            "_view_module": "@jupyter-widgets/base",
            "overflow": null,
            "_model_module_version": "1.2.0",
            "_view_count": null,
            "flex_flow": null,
            "width": null,
            "min_width": null,
            "border": null,
            "align_items": null,
            "bottom": null,
            "_model_module": "@jupyter-widgets/base",
            "top": null,
            "grid_column": null,
            "overflow_y": null,
            "overflow_x": null,
            "grid_auto_flow": null,
            "grid_area": null,
            "grid_template_columns": null,
            "flex": null,
            "_model_name": "LayoutModel",
            "justify_items": null,
            "grid_row": null,
            "max_height": null,
            "align_content": null,
            "visibility": null,
            "align_self": null,
            "height": null,
            "min_height": null,
            "padding": null,
            "grid_auto_rows": null,
            "grid_gap": null,
            "max_width": null,
            "order": null,
            "_view_module_version": "1.2.0",
            "grid_template_areas": null,
            "object_position": null,
            "object_fit": null,
            "grid_auto_columns": null,
            "margin": null,
            "display": null,
            "left": null
          }
        }
      }
    }
  },
  "cells": [
    {
      "cell_type": "code",
      "metadata": {
        "id": "fGGg9w3UPaYU"
      },
      "source": [
        "from __future__ import print_function\n",
        "import argparse\n",
        "import torch\n",
        "import torch.nn as nn\n",
        "import torch.nn.functional as F\n",
        "import torch.optim as optim\n",
        "from torchvision import datasets, transforms\n",
        "from torch.optim.lr_scheduler import StepLR\n",
        "import torchvision"
      ],
      "execution_count": null,
      "outputs": []
    },
    {
      "cell_type": "code",
      "metadata": {
        "id": "H9LejJaN57mx",
        "colab": {
          "base_uri": "https://localhost:8080/",
          "height": 719,
          "referenced_widgets": [
            "25b62c2c7c0542359cce637be4835f3f",
            "0934f5f74d0947569b0e427f8cf10270",
            "7f960c56b77548dfa98f286530a39c2f",
            "e37f6ac44b7f4adba737e743f871b90b",
            "7b12f80e69024838861bab9de669d55c",
            "3f9a7c9b1c1f4474941e807f9581ff04",
            "7ba9f63fd1c144348dc838f3a7af75fe",
            "f06fa101b5364b6c957787be9b6b3c1c",
            "c83e2d19610942c89b35b5d38167e958",
            "8db3d2b517674210bfb34bb3fbc73c33",
            "9158e9a43d824b91a92205e2f331ee6b",
            "9d1722d1c4ec43df898ecf76449d0428",
            "623f5ed23a314f1ba7805bdab63a4637",
            "91ecb75e8a834bda80e5bcfea574e431",
            "9410f8f14cba4d228ffcce0bb986eba5",
            "4d6ed5bb2652480e9c7fca650c8ff6b6",
            "ac5d2072d6ea48a8bd3e0622d6eb94f0",
            "de1e9a8ed855494bab30d676777378b8",
            "172b0d72623b4293b5d6affd02817d3a",
            "c864d85e81e34165974d6c8d541f97db",
            "89ccf7223358437898637813aed3fff3",
            "2f360151d44140129c18ce4ca398fced",
            "c0ab959a324b4b279c014cfeac491106",
            "63679b11e5554a6b8f33259c09187f05",
            "97aea3f13d4444a7b7a94cca1dc77216",
            "c8067ccf2ab044639a4c265e23246c1d",
            "ce807820ce70451fbbab2c3d72bab25c",
            "04a68a2ac1374b7e9db4470c1b479197",
            "9f5164c0c77c4c94be44acd87ce7fe5e",
            "5c7ad79315d7453589fa88e4cf79de71",
            "d0f973a3359b43c3b8c8dcfe43eed4eb",
            "324d6fc86fe64978ac0be2c98061dccd"
          ]
        },
        "outputId": "1d03e34d-4bb2-4efe-9aa9-93206c316b41"
      },
      "source": [
        "\n",
        "transform = transforms.Compose([transforms.ToTensor()])\n",
        "\n",
        "train_dataset = torchvision.datasets.MNIST(\n",
        "    root=\"~/torch_datasets\", train=True, transform=transform, download=True\n",
        ")\n",
        "\n",
        "test_dataset = torchvision.datasets.MNIST(\n",
        "    root=\"~/torch_datasets\", train=False, transform=transform, download=True\n",
        ")\n",
        "\n",
        "train_loader = torch.utils.data.DataLoader(\n",
        "    train_dataset, batch_size=32, shuffle=True, num_workers=2, pin_memory=True\n",
        ")\n",
        "\n",
        "test_loader = torch.utils.data.DataLoader(\n",
        "    test_dataset, batch_size=10, shuffle=False, num_workers=2\n",
        ")"
      ],
      "execution_count": null,
      "outputs": [
        {
          "output_type": "stream",
          "text": [
            "Downloading http://yann.lecun.com/exdb/mnist/train-images-idx3-ubyte.gz\n",
            "Downloading http://yann.lecun.com/exdb/mnist/train-images-idx3-ubyte.gz to /root/torch_datasets/MNIST/raw/train-images-idx3-ubyte.gz\n"
          ],
          "name": "stdout"
        },
        {
          "output_type": "display_data",
          "data": {
            "application/vnd.jupyter.widget-view+json": {
              "model_id": "25b62c2c7c0542359cce637be4835f3f",
              "version_minor": 0,
              "version_major": 2
            },
            "text/plain": [
              "HBox(children=(FloatProgress(value=0.0, max=9912422.0), HTML(value='')))"
            ]
          },
          "metadata": {
            "tags": []
          }
        },
        {
          "output_type": "stream",
          "text": [
            "\n",
            "Extracting /root/torch_datasets/MNIST/raw/train-images-idx3-ubyte.gz to /root/torch_datasets/MNIST/raw\n",
            "\n",
            "Downloading http://yann.lecun.com/exdb/mnist/train-labels-idx1-ubyte.gz\n",
            "Downloading http://yann.lecun.com/exdb/mnist/train-labels-idx1-ubyte.gz to /root/torch_datasets/MNIST/raw/train-labels-idx1-ubyte.gz\n"
          ],
          "name": "stdout"
        },
        {
          "output_type": "display_data",
          "data": {
            "application/vnd.jupyter.widget-view+json": {
              "model_id": "c83e2d19610942c89b35b5d38167e958",
              "version_minor": 0,
              "version_major": 2
            },
            "text/plain": [
              "HBox(children=(FloatProgress(value=0.0, max=28881.0), HTML(value='')))"
            ]
          },
          "metadata": {
            "tags": []
          }
        },
        {
          "output_type": "stream",
          "text": [
            "\n",
            "Extracting /root/torch_datasets/MNIST/raw/train-labels-idx1-ubyte.gz to /root/torch_datasets/MNIST/raw\n",
            "\n",
            "Downloading http://yann.lecun.com/exdb/mnist/t10k-images-idx3-ubyte.gz\n",
            "Downloading http://yann.lecun.com/exdb/mnist/t10k-images-idx3-ubyte.gz to /root/torch_datasets/MNIST/raw/t10k-images-idx3-ubyte.gz\n",
            "Failed to download (trying next):\n",
            "HTTP Error 503: Service Unavailable\n",
            "\n",
            "Downloading https://ossci-datasets.s3.amazonaws.com/mnist/t10k-images-idx3-ubyte.gz\n",
            "Downloading https://ossci-datasets.s3.amazonaws.com/mnist/t10k-images-idx3-ubyte.gz to /root/torch_datasets/MNIST/raw/t10k-images-idx3-ubyte.gz\n"
          ],
          "name": "stdout"
        },
        {
          "output_type": "display_data",
          "data": {
            "application/vnd.jupyter.widget-view+json": {
              "model_id": "ac5d2072d6ea48a8bd3e0622d6eb94f0",
              "version_minor": 0,
              "version_major": 2
            },
            "text/plain": [
              "HBox(children=(FloatProgress(value=0.0, max=1648877.0), HTML(value='')))"
            ]
          },
          "metadata": {
            "tags": []
          }
        },
        {
          "output_type": "stream",
          "text": [
            "\n",
            "Extracting /root/torch_datasets/MNIST/raw/t10k-images-idx3-ubyte.gz to /root/torch_datasets/MNIST/raw\n",
            "\n",
            "Downloading http://yann.lecun.com/exdb/mnist/t10k-labels-idx1-ubyte.gz\n",
            "Failed to download (trying next):\n",
            "HTTP Error 503: Service Unavailable\n",
            "\n",
            "Downloading https://ossci-datasets.s3.amazonaws.com/mnist/t10k-labels-idx1-ubyte.gz\n",
            "Downloading https://ossci-datasets.s3.amazonaws.com/mnist/t10k-labels-idx1-ubyte.gz to /root/torch_datasets/MNIST/raw/t10k-labels-idx1-ubyte.gz\n"
          ],
          "name": "stdout"
        },
        {
          "output_type": "display_data",
          "data": {
            "application/vnd.jupyter.widget-view+json": {
              "model_id": "97aea3f13d4444a7b7a94cca1dc77216",
              "version_minor": 0,
              "version_major": 2
            },
            "text/plain": [
              "HBox(children=(FloatProgress(value=0.0, max=4542.0), HTML(value='')))"
            ]
          },
          "metadata": {
            "tags": []
          }
        },
        {
          "output_type": "stream",
          "text": [
            "\n",
            "Extracting /root/torch_datasets/MNIST/raw/t10k-labels-idx1-ubyte.gz to /root/torch_datasets/MNIST/raw\n",
            "\n",
            "Processing...\n",
            "Done!\n"
          ],
          "name": "stdout"
        },
        {
          "output_type": "stream",
          "text": [
            "/usr/local/lib/python3.7/dist-packages/torchvision/datasets/mnist.py:502: UserWarning: The given NumPy array is not writeable, and PyTorch does not support non-writeable tensors. This means you can write to the underlying (supposedly non-writeable) NumPy array using the tensor. You may want to copy the array to protect its data or make it writeable before converting it to a tensor. This type of warning will be suppressed for the rest of this program. (Triggered internally at  /pytorch/torch/csrc/utils/tensor_numpy.cpp:143.)\n",
            "  return torch.from_numpy(parsed.astype(m[2], copy=False)).view(*s)\n"
          ],
          "name": "stderr"
        }
      ]
    },
    {
      "cell_type": "code",
      "metadata": {
        "colab": {
          "base_uri": "https://localhost:8080/"
        },
        "id": "5qm5QbI4rBik",
        "outputId": "389202f2-6575-4284-9823-e96af0ea3080"
      },
      "source": [
        "dataiter = iter(train_loader)\n",
        "images, labels = dataiter.next()\n",
        "print(images.shape)\n",
        "print(labels.shape)\n",
        "print(torch.max(images),torch.max(labels))"
      ],
      "execution_count": null,
      "outputs": [
        {
          "output_type": "stream",
          "text": [
            "torch.Size([30, 1, 28, 28])\n",
            "torch.Size([30])\n",
            "tensor(1.) tensor(9)\n"
          ],
          "name": "stdout"
        }
      ]
    },
    {
      "cell_type": "code",
      "metadata": {
        "colab": {
          "base_uri": "https://localhost:8080/"
        },
        "id": "kD2Szpo5QKuv",
        "outputId": "5adbc5f3-b20c-4efe-b8d2-c19e350c8314"
      },
      "source": [
        "len(train_loader)"
      ],
      "execution_count": null,
      "outputs": [
        {
          "output_type": "execute_result",
          "data": {
            "text/plain": [
              "2000"
            ]
          },
          "metadata": {
            "tags": []
          },
          "execution_count": 41
        }
      ]
    },
    {
      "cell_type": "code",
      "metadata": {
        "colab": {
          "base_uri": "https://localhost:8080/",
          "height": 134
        },
        "id": "_bseUmCnuk9P",
        "outputId": "cd42b852-a4b3-4b9f-8462-4ae85fc76d47"
      },
      "source": [
        "import matplotlib.pyplot as plt\n",
        "figure = plt.figure()\n",
        "num_of_images = 29\n",
        "for index in range(1, num_of_images + 1):\n",
        "    plt.subplot(6, 10, index)\n",
        "    plt.axis('off')\n",
        "    plt.imshow(images[index].numpy().squeeze(), cmap='gray_r')"
      ],
      "execution_count": null,
      "outputs": [
        {
          "output_type": "display_data",
          "data": {
            "image/png": "[encoded data removed]",
            "text/plain": [
              "<Figure size 432x288 with 29 Axes>"
            ]
          },
          "metadata": {
            "tags": [],
            "needs_background": "light"
          }
        }
      ]
    },
    {
      "cell_type": "code",
      "metadata": {
        "id": "gHa3gVnqwnwa"
      },
      "source": [
        "class classifier(nn.Module):\n",
        "    def __init__(self):\n",
        "        super(classifier, self).__init__()\n",
        "        self.fc1 = nn.Linear(784, 512)\n",
        "        self.fc2 = nn.Linear(512, 125)\n",
        "        self.fc3 = nn.Linear(125,10)\n",
        "\n",
        "    def forward(self, x):\n",
        "        x = self.fc1(x)\n",
        "        x = F.relu(x)\n",
        "        x = self.fc2(x)\n",
        "        x = F.relu(x)\n",
        "        x = self.fc3(x)\n",
        "        output = F.log_softmax(x, dim=1)\n",
        "        return output"
      ],
      "execution_count": null,
      "outputs": []
    },
    {
      "cell_type": "code",
      "metadata": {
        "colab": {
          "base_uri": "https://localhost:8080/"
        },
        "id": "Ju9p0yq_yam7",
        "outputId": "414b896a-3e4d-4104-c267-4f62d09379fe"
      },
      "source": [
        "model = classifier()\n",
        "optimizer = optim.Adadelta(model.parameters(), lr=0.01)\n",
        "model.train()\n",
        "for epoch in range(10):\n",
        "  running_loss = 0.0\n",
        "  for i, (data, target) in enumerate(train_loader):\n",
        "    optimizer.zero_grad()\n",
        "    data = data.view(-1,784)\n",
        "    output = model(data)\n",
        "    loss = F.nll_loss(output, target)\n",
        "    loss.backward()\n",
        "    optimizer.step()\n",
        "    running_loss += loss.item()\n",
        "  running_loss /= len(train_loader)\n",
        "  print('\\nTrain set: Average loss: {:.4f} , epoch: {}'.format(running_loss,epoch))\n"
      ],
      "execution_count": null,
      "outputs": [
        {
          "output_type": "stream",
          "text": [
            "\n",
            "Train set: Average loss: 1.4590 , epoch: 0\n",
            "\n",
            "Train set: Average loss: 0.5266 , epoch: 1\n",
            "\n",
            "Train set: Average loss: 0.3977 , epoch: 2\n",
            "\n",
            "Train set: Average loss: 0.3495 , epoch: 3\n",
            "\n",
            "Train set: Average loss: 0.3206 , epoch: 4\n",
            "\n",
            "Train set: Average loss: 0.2997 , epoch: 5\n",
            "\n",
            "Train set: Average loss: 0.2821 , epoch: 6\n",
            "\n",
            "Train set: Average loss: 0.2673 , epoch: 7\n",
            "\n",
            "Train set: Average loss: 0.2544 , epoch: 8\n",
            "\n",
            "Train set: Average loss: 0.2422 , epoch: 9\n"
          ],
          "name": "stdout"
        }
      ]
    },
    {
      "cell_type": "code",
      "metadata": {
        "colab": {
          "base_uri": "https://localhost:8080/"
        },
        "id": "k53PoO0NznxD",
        "outputId": "8f2ff390-d3a4-4123-9a05-c5034127f4d7"
      },
      "source": [
        "model.eval()\n",
        "test_loss = 0\n",
        "correct = 0\n",
        "with torch.no_grad():\n",
        "  for data, target in test_loader:\n",
        "    data = data.view(-1,784)\n",
        "    output = model(data)\n",
        "    test_loss += F.nll_loss(output, target, reduction='sum').item()  # sum up batch loss\n",
        "    pred = output.argmax(dim=1, keepdim=True)  # get the index of the max log-probability\n",
        "    correct += pred.eq(target.view_as(pred)).sum().item()\n",
        "  test_loss /= len(test_loader)\n",
        "  print('\\nTest set: Average loss: {:.4f}, Accuracy: {}/{} ({:.0f}%)\\n'.format(test_loss, correct, len(test_loader.dataset),100. * correct / len(test_loader.dataset)))"
      ],
      "execution_count": null,
      "outputs": [
        {
          "output_type": "stream",
          "text": [
            "\n",
            "Test set: Average loss: 7.3359, Accuracy: 9351/10000 (94%)\n",
            "\n"
          ],
          "name": "stdout"
        }
      ]
    },
    {
      "cell_type": "markdown",
      "metadata": {
        "id": "JOskzaJduh-v"
      },
      "source": [
        "# Using Adam Optimizer"
      ]
    },
    {
      "cell_type": "code",
      "metadata": {
        "colab": {
          "base_uri": "https://localhost:8080/"
        },
        "id": "3CBttlvgtTY4",
        "outputId": "fcaeffab-aa38-4039-bdd4-515c9c6c76f3"
      },
      "source": [
        "model = classifier()\n",
        "optimizer = optim.Adam(model.parameters(), lr=0.01)\n",
        "model.train()\n",
        "for epoch in range(10):\n",
        "  running_loss = 0.0\n",
        "  for i, (data, target) in enumerate(train_loader):\n",
        "    optimizer.zero_grad()\n",
        "    data = data.view(-1,784)\n",
        "    output = model(data)\n",
        "    loss = F.nll_loss(output, target)\n",
        "    loss.backward()\n",
        "    optimizer.step()\n",
        "    running_loss += loss.item()\n",
        "  running_loss /= len(train_loader)\n",
        "  print('\\nTrain set: Average loss: {:.4f} , epoch: {}'.format(running_loss,epoch))\n"
      ],
      "execution_count": null,
      "outputs": [
        {
          "output_type": "stream",
          "text": [
            "\n",
            "Train set: Average loss: 0.2761 , epoch: 0\n",
            "\n",
            "Train set: Average loss: 0.1916 , epoch: 1\n",
            "\n",
            "Train set: Average loss: 0.1579 , epoch: 2\n",
            "\n",
            "Train set: Average loss: 0.1381 , epoch: 3\n",
            "\n",
            "Train set: Average loss: 0.1390 , epoch: 4\n",
            "\n",
            "Train set: Average loss: 0.1204 , epoch: 5\n",
            "\n",
            "Train set: Average loss: 0.1207 , epoch: 6\n",
            "\n",
            "Train set: Average loss: 0.1068 , epoch: 7\n",
            "\n",
            "Train set: Average loss: 0.1032 , epoch: 8\n",
            "\n",
            "Train set: Average loss: 0.1033 , epoch: 9\n"
          ],
          "name": "stdout"
        }
      ]
    },
    {
      "cell_type": "code",
      "metadata": {
        "colab": {
          "base_uri": "https://localhost:8080/"
        },
        "id": "E4MpS4iVtVfX",
        "outputId": "647105af-06dd-4002-b71f-dce5d24d9a48"
      },
      "source": [
        "model.eval()\n",
        "test_loss = 0\n",
        "correct = 0\n",
        "with torch.no_grad():\n",
        "  for data, target in test_loader:\n",
        "    data = data.view(-1,784)\n",
        "    output = model(data)\n",
        "    test_loss += F.nll_loss(output, target, reduction='sum').item()  # sum up batch loss\n",
        "    pred = output.argmax(dim=1, keepdim=True)  # get the index of the max log-probability\n",
        "    correct += pred.eq(target.view_as(pred)).sum().item()\n",
        "  test_loss /= len(test_loader)\n",
        "  print('\\nTest set: Average loss: {:.4f}, Accuracy: {}/{} ({:.0f}%)\\n'.format(test_loss, correct, len(test_loader.dataset),100. * correct / len(test_loader.dataset)))"
      ],
      "execution_count": null,
      "outputs": [
        {
          "output_type": "stream",
          "text": [
            "\n",
            "Test set: Average loss: 5.2796, Accuracy: 9698/10000 (97%)\n",
            "\n"
          ],
          "name": "stdout"
        }
      ]
    },
    {
      "cell_type": "markdown",
      "metadata": {
        "id": "oXpUX_gQUu74"
      },
      "source": [
        "# Using SGD without momentum"
      ]
    },
    {
      "cell_type": "code",
      "metadata": {
        "colab": {
          "base_uri": "https://localhost:8080/"
        },
        "id": "gPO9ujLktui5",
        "outputId": "37870bbb-61e3-4e00-e147-299ea70f922f"
      },
      "source": [
        "model = classifier()\n",
        "optimizer = optim.SGD(model.parameters(), lr=0.01)\n",
        "model.train()\n",
        "for epoch in range(10):\n",
        "  running_loss = 0.0\n",
        "  for i, (data, target) in enumerate(train_loader):\n",
        "    optimizer.zero_grad()\n",
        "    data = data.view(-1,784)\n",
        "    output = model(data)\n",
        "    loss = F.nll_loss(output, target)\n",
        "    loss.backward()\n",
        "    optimizer.step()\n",
        "    running_loss += loss.item()\n",
        "  running_loss /= len(train_loader)\n",
        "  print('\\nTrain set: Average loss: {:.4f} , epoch: {}'.format(running_loss,epoch))\n"
      ],
      "execution_count": null,
      "outputs": [
        {
          "output_type": "stream",
          "text": [
            "\n",
            "Train set: Average loss: 1.0778 , epoch: 0\n",
            "\n",
            "Train set: Average loss: 0.3618 , epoch: 1\n",
            "\n",
            "Train set: Average loss: 0.2963 , epoch: 2\n",
            "\n",
            "Train set: Average loss: 0.2560 , epoch: 3\n",
            "\n",
            "Train set: Average loss: 0.2245 , epoch: 4\n",
            "\n",
            "Train set: Average loss: 0.1988 , epoch: 5\n",
            "\n",
            "Train set: Average loss: 0.1775 , epoch: 6\n",
            "\n",
            "Train set: Average loss: 0.1600 , epoch: 7\n",
            "\n",
            "Train set: Average loss: 0.1451 , epoch: 8\n",
            "\n",
            "Train set: Average loss: 0.1317 , epoch: 9\n"
          ],
          "name": "stdout"
        }
      ]
    },
    {
      "cell_type": "code",
      "metadata": {
        "colab": {
          "base_uri": "https://localhost:8080/"
        },
        "id": "4B19B5_st2LR",
        "outputId": "786a2e80-a91e-4255-e57b-734818e247d2"
      },
      "source": [
        "model.eval()\n",
        "test_loss = 0\n",
        "correct = 0\n",
        "with torch.no_grad():\n",
        "  for data, target in test_loader:\n",
        "    data = data.view(-1,784)\n",
        "    output = model(data)\n",
        "    test_loss += F.nll_loss(output, target, reduction='sum').item()  # sum up batch loss\n",
        "    pred = output.argmax(dim=1, keepdim=True)  # get the index of the max log-probability\n",
        "    correct += pred.eq(target.view_as(pred)).sum().item()\n",
        "  test_loss /= len(test_loader)\n",
        "  print('\\nTest set: Average loss: {:.4f}, Accuracy: {}/{} ({:.0f}%)\\n'.format(test_loss, correct, len(test_loader.dataset),100. * correct / len(test_loader.dataset)))"
      ],
      "execution_count": null,
      "outputs": [
        {
          "output_type": "stream",
          "text": [
            "\n",
            "Test set: Average loss: 4.2117, Accuracy: 9605/10000 (96%)\n",
            "\n"
          ],
          "name": "stdout"
        }
      ]
    },
    {
      "cell_type": "markdown",
      "metadata": {
        "id": "CTGyw3qJu0iC"
      },
      "source": [
        "# Using SGD with momentum "
      ]
    },
    {
      "cell_type": "code",
      "metadata": {
        "colab": {
          "base_uri": "https://localhost:8080/"
        },
        "id": "9EkAII1rvCOd",
        "outputId": "915f0448-c894-4c7f-dc3e-490831084bba"
      },
      "source": [
        "model = classifier()\n",
        "optimizer = optim.SGD(model.parameters(), lr=0.01,momentum=0.9)\n",
        "model.train()\n",
        "for epoch in range(10):\n",
        "  running_loss = 0.0\n",
        "  for i, (data, target) in enumerate(train_loader):\n",
        "    optimizer.zero_grad()\n",
        "    data = data.view(-1,784)\n",
        "    output = model(data)\n",
        "    loss = F.nll_loss(output, target)\n",
        "    loss.backward()\n",
        "    optimizer.step()\n",
        "    running_loss += loss.item()\n",
        "  running_loss /= len(train_loader)\n",
        "  print('\\nTrain set: Average loss: {:.4f} , epoch: {}'.format(running_loss,epoch))\n"
      ],
      "execution_count": null,
      "outputs": [
        {
          "output_type": "stream",
          "text": [
            "\n",
            "Train set: Average loss: 0.3610 , epoch: 0\n",
            "\n",
            "Train set: Average loss: 0.1202 , epoch: 1\n",
            "\n",
            "Train set: Average loss: 0.0779 , epoch: 2\n",
            "\n",
            "Train set: Average loss: 0.0572 , epoch: 3\n",
            "\n",
            "Train set: Average loss: 0.0416 , epoch: 4\n",
            "\n",
            "Train set: Average loss: 0.0328 , epoch: 5\n",
            "\n",
            "Train set: Average loss: 0.0244 , epoch: 6\n",
            "\n",
            "Train set: Average loss: 0.0187 , epoch: 7\n",
            "\n",
            "Train set: Average loss: 0.0133 , epoch: 8\n",
            "\n",
            "Train set: Average loss: 0.0085 , epoch: 9\n"
          ],
          "name": "stdout"
        }
      ]
    },
    {
      "cell_type": "code",
      "metadata": {
        "colab": {
          "base_uri": "https://localhost:8080/"
        },
        "id": "lLInJwh0vGUj",
        "outputId": "eb4eb46e-baf6-4c91-825f-349bcf2784c0"
      },
      "source": [
        "model.eval()\n",
        "test_loss = 0\n",
        "correct = 0\n",
        "with torch.no_grad():\n",
        "  for data, target in test_loader:\n",
        "    data = data.view(-1,784)\n",
        "    output = model(data)\n",
        "    test_loss += F.nll_loss(output, target, reduction='sum').item()  # sum up batch loss\n",
        "    pred = output.argmax(dim=1, keepdim=True)  # get the index of the max log-probability\n",
        "    correct += pred.eq(target.view_as(pred)).sum().item()\n",
        "  test_loss /= len(test_loader)\n",
        "  print('\\nTest set: Average loss: {:.4f}, Accuracy: {}/{} ({:.0f}%)\\n'.format(test_loss, correct, len(test_loader.dataset),100. * correct / len(test_loader.dataset)))"
      ],
      "execution_count": null,
      "outputs": [
        {
          "output_type": "stream",
          "text": [
            "\n",
            "Test set: Average loss: 1.9903, Accuracy: 9825/10000 (98%)\n",
            "\n"
          ],
          "name": "stdout"
        }
      ]
    },
    {
      "cell_type": "markdown",
      "metadata": {
        "id": "I5R0d-vRvMyX"
      },
      "source": [
        "# Using RMSProp"
      ]
    },
    {
      "cell_type": "code",
      "metadata": {
        "colab": {
          "base_uri": "https://localhost:8080/"
        },
        "id": "n_6aP8f6vkHS",
        "outputId": "fb0540f5-1ab5-4ed5-ac93-927b51537a08"
      },
      "source": [
        "model = classifier()\n",
        "optimizer = optim.RMSprop(model.parameters(), lr=0.01)\n",
        "model.train()\n",
        "for epoch in range(10):\n",
        "  running_loss = 0.0\n",
        "  for i, (data, target) in enumerate(train_loader):\n",
        "    optimizer.zero_grad()\n",
        "    data = data.view(-1,784)\n",
        "    output = model(data)\n",
        "    loss = F.nll_loss(output, target)\n",
        "    loss.backward()\n",
        "    optimizer.step()\n",
        "    running_loss += loss.item()\n",
        "  running_loss /= len(train_loader)\n",
        "  print('\\nTrain set: Average loss: {:.4f} , epoch: {}'.format(running_loss,epoch))\n"
      ],
      "execution_count": null,
      "outputs": [
        {
          "output_type": "stream",
          "text": [
            "\n",
            "Train set: Average loss: 0.5543 , epoch: 0\n",
            "\n",
            "Train set: Average loss: 0.2040 , epoch: 1\n",
            "\n",
            "Train set: Average loss: 0.1809 , epoch: 2\n",
            "\n",
            "Train set: Average loss: 0.1690 , epoch: 3\n",
            "\n",
            "Train set: Average loss: 0.1621 , epoch: 4\n",
            "\n",
            "Train set: Average loss: 0.1567 , epoch: 5\n",
            "\n",
            "Train set: Average loss: 0.1594 , epoch: 6\n",
            "\n",
            "Train set: Average loss: 0.1608 , epoch: 7\n",
            "\n",
            "Train set: Average loss: 0.1572 , epoch: 8\n",
            "\n",
            "Train set: Average loss: 0.1605 , epoch: 9\n"
          ],
          "name": "stdout"
        }
      ]
    },
    {
      "cell_type": "code",
      "metadata": {
        "colab": {
          "base_uri": "https://localhost:8080/"
        },
        "id": "BWzY1wMsvmRZ",
        "outputId": "8638cac3-af23-43be-eb7a-cfbf0f5380f7"
      },
      "source": [
        "model.eval()\n",
        "test_loss = 0\n",
        "correct = 0\n",
        "with torch.no_grad():\n",
        "  for data, target in test_loader:\n",
        "    data = data.view(-1,784)\n",
        "    output = model(data)\n",
        "    test_loss += F.nll_loss(output, target, reduction='sum').item()  # sum up batch loss\n",
        "    pred = output.argmax(dim=1, keepdim=True)  # get the index of the max log-probability\n",
        "    correct += pred.eq(target.view_as(pred)).sum().item()\n",
        "  test_loss /= len(test_loader)\n",
        "  print('\\nTest set: Average loss: {:.4f}, Accuracy: {}/{} ({:.0f}%)\\n'.format(test_loss, correct, len(test_loader.dataset),100. * correct / len(test_loader.dataset)))"
      ],
      "execution_count": null,
      "outputs": [
        {
          "output_type": "stream",
          "text": [
            "\n",
            "Test set: Average loss: 8.9249, Accuracy: 9563/10000 (96%)\n",
            "\n"
          ],
          "name": "stdout"
        }
      ]
    },
    {
      "cell_type": "markdown",
      "metadata": {
        "id": "wGHLMWmBvyBh"
      },
      "source": [
        "#Weight Initilization"
      ]
    },
    {
      "cell_type": "markdown",
      "metadata": {
        "id": "zVeTE34lv2bd"
      },
      "source": [
        "#Xavier"
      ]
    },
    {
      "cell_type": "code",
      "metadata": {
        "id": "3-DuOFV9xR8g"
      },
      "source": [
        "class classifierweightinit(nn.Module):\n",
        "    def __init__(self):\n",
        "        super(classifierweightinit, self).__init__()\n",
        "        self.fc1 = nn.Linear(784, 512)\n",
        "        nn.init.xavier_normal_(self.fc1.weight)\n",
        "        self.fc2 = nn.Linear(512, 125)\n",
        "        nn.init.xavier_normal_(self.fc2.weight)\n",
        "        self.fc3 = nn.Linear(125,10)\n",
        "        nn.init.xavier_normal_(self.fc3.weight)\n",
        "\n",
        "    def forward(self, x):\n",
        "        x = self.fc1(x)\n",
        "        x = F.relu(x)\n",
        "        x = self.fc2(x)\n",
        "        x = F.relu(x)\n",
        "        x = self.fc3(x)\n",
        "        output = F.log_softmax(x, dim=1)\n",
        "        return output"
      ],
      "execution_count": null,
      "outputs": []
    },
    {
      "cell_type": "code",
      "metadata": {
        "colab": {
          "base_uri": "https://localhost:8080/"
        },
        "id": "8lOqWbJFyPp-",
        "outputId": "634bb8f2-a085-41f2-f982-f99f9935c95c"
      },
      "source": [
        "model = classifierweightinit()\n",
        "optimizer = optim.Adam(model.parameters(), lr=0.01)\n",
        "model.train()\n",
        "for epoch in range(10):\n",
        "  running_loss = 0.0\n",
        "  for i, (data, target) in enumerate(train_loader):\n",
        "    optimizer.zero_grad()\n",
        "    data = data.view(-1,784)\n",
        "    output = model(data)\n",
        "    loss = F.nll_loss(output, target)\n",
        "    loss.backward()\n",
        "    optimizer.step()\n",
        "    running_loss += loss.item()\n",
        "  running_loss /= len(train_loader)\n",
        "  print('\\nTrain set: Average loss: {:.4f} , epoch: {}'.format(running_loss,epoch))\n"
      ],
      "execution_count": null,
      "outputs": [
        {
          "output_type": "stream",
          "text": [
            "\n",
            "Train set: Average loss: 0.2708 , epoch: 0\n",
            "\n",
            "Train set: Average loss: 0.1789 , epoch: 1\n",
            "\n",
            "Train set: Average loss: 0.1521 , epoch: 2\n",
            "\n",
            "Train set: Average loss: 0.1444 , epoch: 3\n",
            "\n",
            "Train set: Average loss: 0.1304 , epoch: 4\n",
            "\n",
            "Train set: Average loss: 0.1187 , epoch: 5\n",
            "\n",
            "Train set: Average loss: 0.1164 , epoch: 6\n",
            "\n",
            "Train set: Average loss: 0.1020 , epoch: 7\n",
            "\n",
            "Train set: Average loss: 0.1086 , epoch: 8\n",
            "\n",
            "Train set: Average loss: 0.1120 , epoch: 9\n"
          ],
          "name": "stdout"
        }
      ]
    },
    {
      "cell_type": "code",
      "metadata": {
        "colab": {
          "base_uri": "https://localhost:8080/"
        },
        "id": "VU-KgeyQyPqR",
        "outputId": "4cdd1d19-0cc1-4cc2-fc0b-7ef98ab55d72"
      },
      "source": [
        "model.eval()\n",
        "test_loss = 0\n",
        "correct = 0\n",
        "with torch.no_grad():\n",
        "  for data, target in test_loader:\n",
        "    data = data.view(-1,784)\n",
        "    output = model(data)\n",
        "    test_loss += F.nll_loss(output, target, reduction='sum').item()  # sum up batch loss\n",
        "    pred = output.argmax(dim=1, keepdim=True)  # get the index of the max log-probability\n",
        "    correct += pred.eq(target.view_as(pred)).sum().item()\n",
        "  test_loss /= len(test_loader)\n",
        "  print('\\nTest set: Average loss: {:.4f}, Accuracy: {}/{} ({:.0f}%)\\n'.format(test_loss, correct, len(test_loader.dataset),100. * correct / len(test_loader.dataset)))"
      ],
      "execution_count": null,
      "outputs": [
        {
          "output_type": "stream",
          "text": [
            "\n",
            "Test set: Average loss: 5.6882, Accuracy: 9677/10000 (97%)\n",
            "\n"
          ],
          "name": "stdout"
        }
      ]
    },
    {
      "cell_type": "markdown",
      "metadata": {
        "id": "Xfd0fgaWyji9"
      },
      "source": [
        "# Normal Weight Initilization"
      ]
    },
    {
      "cell_type": "code",
      "metadata": {
        "id": "GevQnYbsyxk2"
      },
      "source": [
        "class classifiernormalweightinit(nn.Module):\n",
        "    def __init__(self):\n",
        "        super(classifiernormalweightinit, self).__init__()\n",
        "        self.fc1 = nn.Linear(784, 512)\n",
        "        nn.init.normal_(self.fc1.weight, mean=0, std=1)\n",
        "        self.fc2 = nn.Linear(512, 125)\n",
        "        nn.init.normal_(self.fc2.weight, mean=0, std=1)\n",
        "        self.fc3 = nn.Linear(125,10)\n",
        "        nn.init.normal_(self.fc3.weight, mean=0, std=1)\n",
        "\n",
        "    def forward(self, x):\n",
        "        x = self.fc1(x)\n",
        "        x = F.relu(x)\n",
        "        x = self.fc2(x)\n",
        "        x = F.relu(x)\n",
        "        x = self.fc3(x)\n",
        "        output = F.log_softmax(x, dim=1)\n",
        "        return output"
      ],
      "execution_count": null,
      "outputs": []
    },
    {
      "cell_type": "code",
      "metadata": {
        "colab": {
          "base_uri": "https://localhost:8080/"
        },
        "id": "wiiMHrsNzP2H",
        "outputId": "19ac0ac0-f347-4742-ab7d-80a2ec5ad83f"
      },
      "source": [
        "model = classifiernormalweightinit()\n",
        "optimizer = optim.Adam(model.parameters(), lr=0.01)\n",
        "model.train()\n",
        "for epoch in range(10):\n",
        "  running_loss = 0.0\n",
        "  for i, (data, target) in enumerate(train_loader):\n",
        "    optimizer.zero_grad()\n",
        "    data = data.view(-1,784)\n",
        "    output = model(data)\n",
        "    loss = F.nll_loss(output, target)\n",
        "    loss.backward()\n",
        "    optimizer.step()\n",
        "    running_loss += loss.item()\n",
        "  running_loss /= len(train_loader)\n",
        "  print('\\nTrain set: Average loss: {:.4f} , epoch: {}'.format(running_loss,epoch))\n"
      ],
      "execution_count": null,
      "outputs": [
        {
          "output_type": "stream",
          "text": [
            "\n",
            "Train set: Average loss: 13.7155 , epoch: 0\n",
            "\n",
            "Train set: Average loss: 1.1047 , epoch: 1\n",
            "\n",
            "Train set: Average loss: 0.8807 , epoch: 2\n",
            "\n",
            "Train set: Average loss: 0.7787 , epoch: 3\n",
            "\n",
            "Train set: Average loss: 0.8296 , epoch: 4\n",
            "\n",
            "Train set: Average loss: 0.7243 , epoch: 5\n",
            "\n",
            "Train set: Average loss: 0.7446 , epoch: 6\n",
            "\n",
            "Train set: Average loss: 0.7346 , epoch: 7\n",
            "\n",
            "Train set: Average loss: 0.6600 , epoch: 8\n",
            "\n",
            "Train set: Average loss: 0.6168 , epoch: 9\n"
          ],
          "name": "stdout"
        }
      ]
    },
    {
      "cell_type": "code",
      "metadata": {
        "colab": {
          "base_uri": "https://localhost:8080/"
        },
        "id": "DRgmdalQzP2Y",
        "outputId": "6a5ba27b-ded8-4d68-b6e9-02b74cb4c606"
      },
      "source": [
        "model.eval()\n",
        "test_loss = 0\n",
        "correct = 0\n",
        "with torch.no_grad():\n",
        "  for data, target in test_loader:\n",
        "    data = data.view(-1,784)\n",
        "    output = model(data)\n",
        "    test_loss += F.nll_loss(output, target, reduction='sum').item()  # sum up batch loss\n",
        "    pred = output.argmax(dim=1, keepdim=True)  # get the index of the max log-probability\n",
        "    correct += pred.eq(target.view_as(pred)).sum().item()\n",
        "  test_loss /= len(test_loader)\n",
        "  print('\\nTest set: Average loss: {:.4f}, Accuracy: {}/{} ({:.0f}%)\\n'.format(test_loss, correct, len(test_loader.dataset),100. * correct / len(test_loader.dataset)))"
      ],
      "execution_count": null,
      "outputs": [
        {
          "output_type": "stream",
          "text": [
            "\n",
            "Test set: Average loss: 21.7068, Accuracy: 8419/10000 (84%)\n",
            "\n"
          ],
          "name": "stdout"
        }
      ]
    },
    {
      "cell_type": "markdown",
      "metadata": {
        "id": "nefBjG6_z51v"
      },
      "source": [
        "# Uniform Weight Initilisation"
      ]
    },
    {
      "cell_type": "code",
      "metadata": {
        "id": "pj6HFKdlz-A-"
      },
      "source": [
        "class classifieruniformweightinit(nn.Module):\n",
        "    def __init__(self):\n",
        "        super(classifieruniformweightinit, self).__init__()\n",
        "        self.fc1 = nn.Linear(784, 512)\n",
        "        nn.init.uniform_(self.fc1.weight, a=0, b=1)\n",
        "        self.fc2 = nn.Linear(512, 125)\n",
        "        nn.init.uniform_(self.fc2.weight, a=0, b=1)\n",
        "        self.fc3 = nn.Linear(125,10)\n",
        "        nn.init.uniform_(self.fc3.weight, a=0, b=1)\n",
        "\n",
        "    def forward(self, x):\n",
        "        x = self.fc1(x)\n",
        "        x = F.relu(x)\n",
        "        x = self.fc2(x)\n",
        "        x = F.relu(x)\n",
        "        x = self.fc3(x)\n",
        "        output = F.log_softmax(x, dim=1)\n",
        "        return output"
      ],
      "execution_count": null,
      "outputs": []
    },
    {
      "cell_type": "code",
      "metadata": {
        "colab": {
          "base_uri": "https://localhost:8080/"
        },
        "id": "kG-5oi12z-BA",
        "outputId": "921b156c-6be3-42c3-c4c4-4b818b5b2c25"
      },
      "source": [
        "model = classifieruniformweightinit()\n",
        "optimizer = optim.Adam(model.parameters(), lr=0.01)\n",
        "model.train()\n",
        "for epoch in range(10):\n",
        "  running_loss = 0.0\n",
        "  for i, (data, target) in enumerate(train_loader):\n",
        "    optimizer.zero_grad()\n",
        "    data = data.view(-1,784)\n",
        "    output = model(data)\n",
        "    loss = F.nll_loss(output, target)\n",
        "    loss.backward()\n",
        "    optimizer.step()\n",
        "    running_loss += loss.item()\n",
        "  running_loss /= len(train_loader)\n",
        "  print('\\nTrain set: Average loss: {:.4f} , epoch: {}'.format(running_loss,epoch))\n"
      ],
      "execution_count": null,
      "outputs": [
        {
          "output_type": "stream",
          "text": [
            "\n",
            "Train set: Average loss: 497.8061 , epoch: 0\n",
            "\n",
            "Train set: Average loss: 0.5314 , epoch: 1\n",
            "\n",
            "Train set: Average loss: 0.2822 , epoch: 2\n",
            "\n",
            "Train set: Average loss: 0.4026 , epoch: 3\n",
            "\n",
            "Train set: Average loss: 0.4748 , epoch: 4\n",
            "\n",
            "Train set: Average loss: 0.5302 , epoch: 5\n",
            "\n",
            "Train set: Average loss: 0.4973 , epoch: 6\n",
            "\n",
            "Train set: Average loss: 0.4573 , epoch: 7\n",
            "\n",
            "Train set: Average loss: 0.4239 , epoch: 8\n",
            "\n",
            "Train set: Average loss: 0.3578 , epoch: 9\n"
          ],
          "name": "stdout"
        }
      ]
    },
    {
      "cell_type": "code",
      "metadata": {
        "colab": {
          "base_uri": "https://localhost:8080/"
        },
        "id": "EB6FXe7Iz-BB",
        "outputId": "64d6f709-d43c-40c6-e4e4-0b418327f4a2"
      },
      "source": [
        "model.eval()\n",
        "test_loss = 0\n",
        "correct = 0\n",
        "with torch.no_grad():\n",
        "  for data, target in test_loader:\n",
        "    data = data.view(-1,784)\n",
        "    output = model(data)\n",
        "    test_loss += F.nll_loss(output, target, reduction='sum').item()  # sum up batch loss\n",
        "    pred = output.argmax(dim=1, keepdim=True)  # get the index of the max log-probability\n",
        "    correct += pred.eq(target.view_as(pred)).sum().item()\n",
        "  test_loss /= len(test_loader)\n",
        "  print('\\nTest set: Average loss: {:.4f}, Accuracy: {}/{} ({:.0f}%)\\n'.format(test_loss, correct, len(test_loader.dataset),100. * correct / len(test_loader.dataset)))"
      ],
      "execution_count": null,
      "outputs": [
        {
          "output_type": "stream",
          "text": [
            "\n",
            "Test set: Average loss: 13.9188, Accuracy: 9211/10000 (92%)\n",
            "\n"
          ],
          "name": "stdout"
        }
      ]
    },
    {
      "cell_type": "markdown",
      "metadata": {
        "id": "2hyKIjLN0y-p"
      },
      "source": [
        "# Different Learning Rates"
      ]
    },
    {
      "cell_type": "code",
      "metadata": {
        "id": "YhL9GjPD1BzX"
      },
      "source": [
        "class classifier(nn.Module):\n",
        "    def __init__(self):\n",
        "        super(classifier, self).__init__()\n",
        "        self.fc1 = nn.Linear(784, 512)\n",
        "        self.fc2 = nn.Linear(512, 125)\n",
        "        self.fc3 = nn.Linear(125,10)\n",
        "\n",
        "    def forward(self, x):\n",
        "        x = self.fc1(x)\n",
        "        x = F.relu(x)\n",
        "        x = self.fc2(x)\n",
        "        x = F.relu(x)\n",
        "        x = self.fc3(x)\n",
        "        output = F.log_softmax(x, dim=1)\n",
        "        return output"
      ],
      "execution_count": null,
      "outputs": []
    },
    {
      "cell_type": "code",
      "metadata": {
        "colab": {
          "base_uri": "https://localhost:8080/"
        },
        "id": "wLdrWpqG1Bzp",
        "outputId": "fbdd0b34-bb6f-433e-cd8e-03dd16ab3116"
      },
      "source": [
        "model = classifier()\n",
        "optimizer = optim.Adam(model.parameters(), lr=0.001)\n",
        "model.train()\n",
        "for epoch in range(10):\n",
        "  running_loss = 0.0\n",
        "  for i, (data, target) in enumerate(train_loader):\n",
        "    optimizer.zero_grad()\n",
        "    data = data.view(-1,784)\n",
        "    output = model(data)\n",
        "    loss = F.nll_loss(output, target)\n",
        "    loss.backward()\n",
        "    optimizer.step()\n",
        "    running_loss += loss.item()\n",
        "  running_loss /= len(train_loader)\n",
        "  print('\\nTrain set: Average loss: {:.4f} , epoch: {}'.format(running_loss,epoch))\n"
      ],
      "execution_count": null,
      "outputs": [
        {
          "output_type": "stream",
          "text": [
            "\n",
            "Train set: Average loss: 0.2182 , epoch: 0\n",
            "\n",
            "Train set: Average loss: 0.0851 , epoch: 1\n",
            "\n",
            "Train set: Average loss: 0.0564 , epoch: 2\n",
            "\n",
            "Train set: Average loss: 0.0431 , epoch: 3\n",
            "\n",
            "Train set: Average loss: 0.0313 , epoch: 4\n",
            "\n",
            "Train set: Average loss: 0.0287 , epoch: 5\n",
            "\n",
            "Train set: Average loss: 0.0213 , epoch: 6\n",
            "\n",
            "Train set: Average loss: 0.0210 , epoch: 7\n",
            "\n",
            "Train set: Average loss: 0.0168 , epoch: 8\n",
            "\n",
            "Train set: Average loss: 0.0170 , epoch: 9\n"
          ],
          "name": "stdout"
        }
      ]
    },
    {
      "cell_type": "code",
      "metadata": {
        "colab": {
          "base_uri": "https://localhost:8080/"
        },
        "id": "ZEJjFXVa1Bzr",
        "outputId": "d84f9607-d0f2-4156-99a3-0d75fbc8b7a9"
      },
      "source": [
        "model.eval()\n",
        "test_loss = 0\n",
        "correct = 0\n",
        "with torch.no_grad():\n",
        "  for data, target in test_loader:\n",
        "    data = data.view(-1,784)\n",
        "    output = model(data)\n",
        "    test_loss += F.nll_loss(output, target, reduction='sum').item()  # sum up batch loss\n",
        "    pred = output.argmax(dim=1, keepdim=True)  # get the index of the max log-probability\n",
        "    correct += pred.eq(target.view_as(pred)).sum().item()\n",
        "  test_loss /= len(test_loader)\n",
        "  print('\\nTest set: Average loss: {:.4f}, Accuracy: {}/{} ({:.0f}%)\\n'.format(test_loss, correct, len(test_loader.dataset),100. * correct / len(test_loader.dataset)))"
      ],
      "execution_count": null,
      "outputs": [
        {
          "output_type": "stream",
          "text": [
            "\n",
            "Test set: Average loss: 2.9609, Accuracy: 9807/10000 (98%)\n",
            "\n"
          ],
          "name": "stdout"
        }
      ]
    },
    {
      "cell_type": "markdown",
      "metadata": {
        "id": "vlUC4TlWYsVo"
      },
      "source": [
        "# Learning Rate scheduler StepLR"
      ]
    },
    {
      "cell_type": "code",
      "metadata": {
        "id": "U291VRBa6mIz"
      },
      "source": [
        "class classifier(nn.Module):\n",
        "    def __init__(self):\n",
        "        super(classifier, self).__init__()\n",
        "        self.fc1 = nn.Linear(784, 512)\n",
        "        self.fc2 = nn.Linear(512, 125)\n",
        "        self.fc3 = nn.Linear(125,10)\n",
        "\n",
        "    def forward(self, x):\n",
        "        x = self.fc1(x)\n",
        "        x = F.relu(x)\n",
        "        x = self.fc2(x)\n",
        "        x = F.relu(x)\n",
        "        x = self.fc3(x)\n",
        "        output = F.log_softmax(x, dim=1)\n",
        "        return output"
      ],
      "execution_count": null,
      "outputs": []
    },
    {
      "cell_type": "code",
      "metadata": {
        "colab": {
          "base_uri": "https://localhost:8080/"
        },
        "id": "FPJW13Qh6mI7",
        "outputId": "f64fb6be-5493-4492-b60f-57f89afe32c8"
      },
      "source": [
        "model = classifier()\n",
        "optimizer = optim.Adam(model.parameters(), lr=0.001)\n",
        "scheduler = optim.lr_scheduler.StepLR(optimizer, step_size=5, gamma=0.1)\n",
        "model.train()\n",
        "for epoch in range(10):\n",
        "  running_loss = 0.0\n",
        "  for i, (data, target) in enumerate(train_loader):\n",
        "    optimizer.zero_grad()\n",
        "    data = data.view(-1,784)\n",
        "    output = model(data)\n",
        "    loss = F.nll_loss(output, target)\n",
        "    loss.backward()\n",
        "    optimizer.step()\n",
        "    running_loss += loss.item()\n",
        "  running_loss /= len(train_loader)\n",
        "  print('\\nTrain set: Average loss: {:.4f} , epoch: {}'.format(running_loss,epoch))\n"
      ],
      "execution_count": null,
      "outputs": [
        {
          "output_type": "stream",
          "text": [
            "\n",
            "Train set: Average loss: 0.2184 , epoch: 0\n",
            "\n",
            "Train set: Average loss: 0.0855 , epoch: 1\n",
            "\n",
            "Train set: Average loss: 0.0568 , epoch: 2\n",
            "\n",
            "Train set: Average loss: 0.0413 , epoch: 3\n",
            "\n",
            "Train set: Average loss: 0.0317 , epoch: 4\n",
            "\n",
            "Train set: Average loss: 0.0290 , epoch: 5\n",
            "\n",
            "Train set: Average loss: 0.0217 , epoch: 6\n",
            "\n",
            "Train set: Average loss: 0.0224 , epoch: 7\n",
            "\n",
            "Train set: Average loss: 0.0158 , epoch: 8\n",
            "\n",
            "Train set: Average loss: 0.0166 , epoch: 9\n"
          ],
          "name": "stdout"
        }
      ]
    },
    {
      "cell_type": "code",
      "metadata": {
        "colab": {
          "base_uri": "https://localhost:8080/"
        },
        "id": "pZl1tC7v6mI8",
        "outputId": "3ce7c6d7-e38e-4a00-d7ef-8db0baf05e6f"
      },
      "source": [
        "model.eval()\n",
        "test_loss = 0\n",
        "correct = 0\n",
        "with torch.no_grad():\n",
        "  for data, target in test_loader:\n",
        "    data = data.view(-1,784)\n",
        "    output = model(data)\n",
        "    test_loss += F.nll_loss(output, target, reduction='sum').item()  # sum up batch loss\n",
        "    pred = output.argmax(dim=1, keepdim=True)  # get the index of the max log-probability\n",
        "    correct += pred.eq(target.view_as(pred)).sum().item()\n",
        "  test_loss /= len(test_loader)\n",
        "  print('\\nTest set: Average loss: {:.4f}, Accuracy: {}/{} ({:.0f}%)\\n'.format(test_loss, correct, len(test_loader.dataset),100. * correct / len(test_loader.dataset)))"
      ],
      "execution_count": null,
      "outputs": [
        {
          "output_type": "stream",
          "text": [
            "\n",
            "Test set: Average loss: 3.1183, Accuracy: 9780/10000 (98%)\n",
            "\n"
          ],
          "name": "stdout"
        }
      ]
    },
    {
      "cell_type": "markdown",
      "metadata": {
        "id": "36W3NsyK8QrT"
      },
      "source": [
        "# Lerning Rate Scheduler MultiStepLR"
      ]
    },
    {
      "cell_type": "code",
      "metadata": {
        "id": "mzdwtn9S9Exe"
      },
      "source": [
        "class classifier(nn.Module):\n",
        "    def __init__(self):\n",
        "        super(classifier, self).__init__()\n",
        "        self.fc1 = nn.Linear(784, 512)\n",
        "        self.fc2 = nn.Linear(512, 125)\n",
        "        self.fc3 = nn.Linear(125,10)\n",
        "\n",
        "    def forward(self, x):\n",
        "        x = self.fc1(x)\n",
        "        x = F.relu(x)\n",
        "        x = self.fc2(x)\n",
        "        x = F.relu(x)\n",
        "        x = self.fc3(x)\n",
        "        output = F.log_softmax(x, dim=1)\n",
        "        return output"
      ],
      "execution_count": null,
      "outputs": []
    },
    {
      "cell_type": "code",
      "metadata": {
        "colab": {
          "base_uri": "https://localhost:8080/"
        },
        "id": "Q778mziU9Htm",
        "outputId": "4bb38241-aa35-44b2-d4d5-b09101637fdd"
      },
      "source": [
        "model = classifier()\n",
        "optimizer = optim.Adam(model.parameters(), lr=0.001)\n",
        "scheduler = optim.lr_scheduler.MultiStepLR(optimizer, milestones=[5,9], gamma=0.1)\n",
        "model.train()\n",
        "for epoch in range(10):\n",
        "  running_loss = 0.0\n",
        "  for i, (data, target) in enumerate(train_loader):\n",
        "    optimizer.zero_grad()\n",
        "    data = data.view(-1,784)\n",
        "    output = model(data)\n",
        "    loss = F.nll_loss(output, target)\n",
        "    loss.backward()\n",
        "    optimizer.step()\n",
        "    running_loss += loss.item()\n",
        "  running_loss /= len(train_loader)\n",
        "  print('\\nTrain set: Average loss: {:.4f} , epoch: {}'.format(running_loss,epoch))\n"
      ],
      "execution_count": null,
      "outputs": [
        {
          "output_type": "stream",
          "text": [
            "\n",
            "Train set: Average loss: 0.2172 , epoch: 0\n",
            "\n",
            "Train set: Average loss: 0.0874 , epoch: 1\n",
            "\n",
            "Train set: Average loss: 0.0575 , epoch: 2\n",
            "\n",
            "Train set: Average loss: 0.0428 , epoch: 3\n",
            "\n",
            "Train set: Average loss: 0.0340 , epoch: 4\n",
            "\n",
            "Train set: Average loss: 0.0275 , epoch: 5\n",
            "\n",
            "Train set: Average loss: 0.0235 , epoch: 6\n",
            "\n",
            "Train set: Average loss: 0.0205 , epoch: 7\n",
            "\n",
            "Train set: Average loss: 0.0180 , epoch: 8\n",
            "\n",
            "Train set: Average loss: 0.0155 , epoch: 9\n"
          ],
          "name": "stdout"
        }
      ]
    },
    {
      "cell_type": "code",
      "metadata": {
        "colab": {
          "base_uri": "https://localhost:8080/"
        },
        "id": "I0BqVP6V9JrT",
        "outputId": "ff91acc8-71d1-4579-acdd-80a9737e0418"
      },
      "source": [
        "model.eval()\n",
        "test_loss = 0\n",
        "correct = 0\n",
        "with torch.no_grad():\n",
        "  for data, target in test_loader:\n",
        "    data = data.view(-1,784)\n",
        "    output = model(data)\n",
        "    test_loss += F.nll_loss(output, target, reduction='sum').item()  # sum up batch loss\n",
        "    pred = output.argmax(dim=1, keepdim=True)  # get the index of the max log-probability\n",
        "    correct += pred.eq(target.view_as(pred)).sum().item()\n",
        "  test_loss /= len(test_loader)\n",
        "  print('\\nTest set: Average loss: {:.4f}, Accuracy: {}/{} ({:.0f}%)\\n'.format(test_loss, correct, len(test_loader.dataset),100. * correct / len(test_loader.dataset)))"
      ],
      "execution_count": null,
      "outputs": [
        {
          "output_type": "stream",
          "text": [
            "\n",
            "Test set: Average loss: 1.0528, Accuracy: 9791/10000 (98%)\n",
            "\n"
          ],
          "name": "stdout"
        }
      ]
    },
    {
      "cell_type": "markdown",
      "metadata": {
        "id": "jDrHmVDyDejQ"
      },
      "source": [
        "# Saving the model"
      ]
    },
    {
      "cell_type": "code",
      "metadata": {
        "id": "7S2CdCmODqZq"
      },
      "source": [
        "torch.save(model,\"model.pt\")"
      ],
      "execution_count": null,
      "outputs": []
    },
    {
      "cell_type": "markdown",
      "metadata": {
        "id": "n0rED_rVH5ep"
      },
      "source": [
        "# Latent Space Reprentation from autoencoder"
      ]
    },
    {
      "cell_type": "code",
      "metadata": {
        "id": "1gPKiP4FuZiu"
      },
      "source": [
        "class Autoencoder_Linear(nn.Module):\n",
        "    def __init__(self):\n",
        "        super().__init__()        \n",
        "        self.encoder = nn.Sequential(\n",
        "            nn.Linear(28 * 28, 128), # (N, 784) -> (N, 128)\n",
        "            nn.ReLU(),\n",
        "            nn.Linear(128, 64),\n",
        "            nn.ReLU(),\n",
        "            nn.Linear(64, 16),\n",
        "        )\n",
        "        \n",
        "        self.decoder = nn.Sequential(\n",
        "            nn.Linear(16, 64),\n",
        "            nn.ReLU(),\n",
        "            nn.Linear(64, 128),\n",
        "            nn.ReLU(),\n",
        "            nn.Linear(128, 28 * 28),\n",
        "            nn.Sigmoid()\n",
        "        )\n",
        "\n",
        "    def forward(self, x):\n",
        "        encoded = self.encoder(x)\n",
        "        decoded = self.decoder(encoded)\n",
        "        return decoded,encoded"
      ],
      "execution_count": null,
      "outputs": []
    },
    {
      "cell_type": "code",
      "metadata": {
        "id": "oIlawRkT797a",
        "colab": {
          "base_uri": "https://localhost:8080/"
        },
        "outputId": "56d56cac-f098-45ca-da67-f52cccbd5760"
      },
      "source": [
        "modelautoencoder = Autoencoder_Linear()\n",
        "optimizer = optim.RMSprop(modelautoencoder.parameters(), lr=0.001)\n",
        "criterion = nn.MSELoss()\n",
        "epochs = 5\n",
        "output = []\n",
        "for epoch in range(epochs):\n",
        "  loss = 0\n",
        "  for batch_features, _ in train_loader:\n",
        "    batch_features = batch_features.view(-1, 784)\n",
        "    optimizer.zero_grad()\n",
        "    outputs,_ = modelautoencoder(batch_features)\n",
        "    train_loss = criterion(outputs, batch_features)\n",
        "    train_loss.backward()\n",
        "    optimizer.step()\n",
        "    loss += train_loss.item()\n",
        "  output.append([batch_features,outputs])\n",
        "  loss = loss / len(train_loader)\n",
        "  print(\"epoch : {}/{}, loss = {:.6f}\".format(epoch + 1, epochs, loss))"
      ],
      "execution_count": null,
      "outputs": [
        {
          "output_type": "stream",
          "text": [
            "epoch : 1/5, loss = 0.035780\n",
            "epoch : 2/5, loss = 0.022685\n",
            "epoch : 3/5, loss = 0.019270\n",
            "epoch : 4/5, loss = 0.017178\n",
            "epoch : 5/5, loss = 0.015786\n"
          ],
          "name": "stdout"
        }
      ]
    },
    {
      "cell_type": "code",
      "metadata": {
        "id": "Sp0nGWTfHZfw",
        "colab": {
          "base_uri": "https://localhost:8080/",
          "height": 722
        },
        "outputId": "bdf09a7e-801e-424b-fecc-3e5f2cc4d0c9"
      },
      "source": [
        "import matplotlib.pyplot as plt\n",
        "\n",
        "for k in output:\n",
        "    plt.figure(figsize=(9, 2))\n",
        "    plt.gray()\n",
        "    imgs = k[0].detach().numpy()\n",
        "    recon = k[1].detach().numpy()\n",
        "    for i, item in enumerate(imgs):\n",
        "        if i >= 9: break\n",
        "        plt.subplot(2, 9, i+1)\n",
        "        item = item.reshape(-1, 28,28) # -> use for Autoencoder_Linear\n",
        "        # item: 1, 28, 28\n",
        "        plt.imshow(item[0])\n",
        "            \n",
        "    for i, item in enumerate(recon):\n",
        "        if i >= 9: break\n",
        "        plt.subplot(2, 9, 9+i+1) # row_length + i + 1\n",
        "        item = item.reshape(-1, 28,28) # -> use for Autoencoder_Linear\n",
        "        # item: 1, 28, 28\n",
        "        plt.imshow(item[0])"
      ],
      "execution_count": null,
      "outputs": [
        {
          "output_type": "display_data",
          "data": {
            "image/png": "[encoded data removed]",
            "text/plain": [
              "<Figure size 648x144 with 18 Axes>"
            ]
          },
          "metadata": {
            "tags": [],
            "needs_background": "light"
          }
        },
        {
          "output_type": "display_data",
          "data": {
            "image/png": "[encoded data removed]",
            "text/plain": [
              "<Figure size 648x144 with 18 Axes>"
            ]
          },
          "metadata": {
            "tags": [],
            "needs_background": "light"
          }
        },
        {
          "output_type": "display_data",
          "data": {
            "image/png": "[encoded data removed]",
            "text/plain": [
              "<Figure size 648x144 with 18 Axes>"
            ]
          },
          "metadata": {
            "tags": [],
            "needs_background": "light"
          }
        },
        {
          "output_type": "display_data",
          "data": {
            "image/png": "[encoded data removed]",
            "text/plain": [
              "<Figure size 648x144 with 18 Axes>"
            ]
          },
          "metadata": {
            "tags": [],
            "needs_background": "light"
          }
        },
        {
          "output_type": "display_data",
          "data": {
            "image/png": "[encoded data removed]",
            "text/plain": [
              "<Figure size 648x144 with 18 Axes>"
            ]
          },
          "metadata": {
            "tags": [],
            "needs_background": "light"
          }
        }
      ]
    },
    {
      "cell_type": "code",
      "metadata": {
        "id": "qNyKqjluy1Qp"
      },
      "source": [
        "class classifier(nn.Module):\n",
        "    def __init__(self):\n",
        "        super(classifier, self).__init__()\n",
        "        self.fc1 = nn.Linear(16, 14)\n",
        "        self.fc2 = nn.Linear(14,10)\n",
        "\n",
        "    def forward(self, x):\n",
        "        x = self.fc1(x)\n",
        "        x = F.relu(x)\n",
        "        x = self.fc2(x)\n",
        "        output = F.log_softmax(x, dim=1)\n",
        "        return output"
      ],
      "execution_count": null,
      "outputs": []
    },
    {
      "cell_type": "code",
      "metadata": {
        "colab": {
          "base_uri": "https://localhost:8080/"
        },
        "id": "OO06qfxuTZ_o",
        "outputId": "8116b8e6-0761-422b-eb54-73b1e08f5c07"
      },
      "source": [
        "model = classifier()\n",
        "optimizer = optim.SGD(model.parameters(), lr=0.01,momentum=0.9)\n",
        "model.train()\n",
        "for epoch in range(10):\n",
        "  running_loss = 0.0\n",
        "  for i, (data, target) in enumerate(train_loader):\n",
        "    optimizer.zero_grad()\n",
        "    data = data.view(-1,784)\n",
        "    outputs,encoded_train = modelautoencoder(data)\n",
        "    output = model(encoded_train)\n",
        "    loss = F.nll_loss(output, target)\n",
        "    loss.backward()\n",
        "    optimizer.step()\n",
        "    running_loss += loss.item()\n",
        "  running_loss /= len(train_loader)\n",
        "  print('\\nTrain set: Average loss: {:.4f} , epoch: {}'.format(running_loss,epoch))"
      ],
      "execution_count": null,
      "outputs": [
        {
          "output_type": "stream",
          "text": [
            "\n",
            "Train set: Average loss: 0.3637 , epoch: 0\n",
            "\n",
            "Train set: Average loss: 0.2550 , epoch: 1\n",
            "\n",
            "Train set: Average loss: 0.2454 , epoch: 2\n",
            "\n",
            "Train set: Average loss: 0.2408 , epoch: 3\n",
            "\n",
            "Train set: Average loss: 0.2374 , epoch: 4\n",
            "\n",
            "Train set: Average loss: 0.2343 , epoch: 5\n",
            "\n",
            "Train set: Average loss: 0.2320 , epoch: 6\n",
            "\n",
            "Train set: Average loss: 0.2311 , epoch: 7\n",
            "\n",
            "Train set: Average loss: 0.2277 , epoch: 8\n",
            "\n",
            "Train set: Average loss: 0.2297 , epoch: 9\n"
          ],
          "name": "stdout"
        }
      ]
    },
    {
      "cell_type": "code",
      "metadata": {
        "colab": {
          "base_uri": "https://localhost:8080/"
        },
        "id": "GOii1BYO3rbH",
        "outputId": "e60d2d04-99c1-4857-bca7-753dafd8d1ab"
      },
      "source": [
        "model.eval()\n",
        "test_loss = 0\n",
        "correct = 0\n",
        "with torch.no_grad():\n",
        "  for data, target in test_loader:\n",
        "    data = data.view(-1,784)\n",
        "    outputs,encoded_test = modelautoencoder(data)\n",
        "    output = model(encoded_test)\n",
        "    test_loss += F.nll_loss(output, target, reduction='sum').item()  # sum up batch loss\n",
        "    pred = output.argmax(dim=1, keepdim=True)  # get the index of the max log-probability\n",
        "    correct += pred.eq(target.view_as(pred)).sum().item()\n",
        "  test_loss /= len(test_loader)\n",
        "  print('\\nTest set: Average loss: {:.4f}, Accuracy: {}/{} ({:.0f}%)\\n'.format(test_loss, correct, len(test_loader.dataset),100. * correct / len(test_loader.dataset)))"
      ],
      "execution_count": null,
      "outputs": [
        {
          "output_type": "stream",
          "text": [
            "\n",
            "Test set: Average loss: 2.3331, Accuracy: 9279/10000 (93%)\n",
            "\n"
          ],
          "name": "stdout"
        }
      ]
    }
  ]
}