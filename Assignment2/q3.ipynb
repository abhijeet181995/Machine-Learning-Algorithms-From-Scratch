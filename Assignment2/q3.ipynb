{
  "nbformat": 4,
  "nbformat_minor": 0,
  "metadata": {
    "kernelspec": {
      "display_name": "Python 3",
      "language": "python",
      "name": "python3"
    },
    "language_info": {
      "codemirror_mode": {
        "name": "ipython",
        "version": 3
      },
      "file_extension": ".py",
      "mimetype": "text/x-python",
      "name": "python",
      "nbconvert_exporter": "python",
      "pygments_lexer": "ipython3",
      "version": "3.7.6"
    },
    "colab": {
      "name": "question3.ipynb",
      "provenance": []
    }
  },
  "cells": [
    {
      "cell_type": "markdown",
      "metadata": {
        "id": "wU00wjL7ogdo"
      },
      "source": [
        "\n",
        "1. You are provided the titanic dataset. Load the dataset and perform splitting into training and test sets with 70:30 ratio randomly using test train split.\n",
        "2. Use the Logistic regression created from scratch (from the prev question) in this question as well.\n",
        "3. Data cleaning plays a major role in this question. Report all the methods used by you in the ipynb.\n",
        "\n",
        "--> \n",
        "\n",
        "i. Check for missing values\n",
        "\n",
        "ii. Drop Columns & Handle missing values\n",
        "\n",
        "iii. Create dummies for categorical features\n",
        "\n",
        "you are free to perform other data cleaning to improve your results.\n",
        "\n",
        "\n",
        "\n",
        "4. Report accuracy score, Confusion matrix, heat map, classifiaction report and any other metrics you feel useful."
      ]
    },
    {
      "cell_type": "markdown",
      "metadata": {
        "id": "-xMfYJCmogdq"
      },
      "source": [
        "dataset link : \n",
        "https://iiitaphyd-my.sharepoint.com/:f:/g/personal/apurva_jadhav_students_iiit_ac_in/Eictt5_qmoxNqezgQQiMWeIBph4sxlfA6jWAJNPnV2SF9Q?e=mQmYN0 \n",
        "\n",
        "(titanic.csv)\n"
      ]
    },
    {
      "cell_type": "code",
      "metadata": {
        "id": "Xm4hxNIsogdr",
        "colab": {
          "base_uri": "https://localhost:8080/",
          "height": 195
        },
        "outputId": "7735b9a0-b1fb-4da5-9b7a-82ee6a456fa4"
      },
      "source": [
        "import pandas as pd\r\n",
        "import numpy as np\r\n",
        "import matplotlib.pyplot as plt\r\n",
        "from sklearn.model_selection import train_test_split\r\n",
        "from sklearn.metrics import accuracy_score\r\n",
        "from sklearn.metrics import confusion_matrix\r\n",
        "from sklearn.metrics import classification_report\r\n",
        "col_names = ['PassengerId','Survived','Pclass','Name','Sex','Age','SibSp','Parch','Ticket','Fare','Cabin','Embarked']\r\n",
        "df = pd.read_csv('titanic.csv', header = None , names=col_names )\r\n",
        "df = df.reset_index(drop=True)\r\n",
        "df = df.iloc[1:]\r\n",
        "# df.columns = col_names # setting dataframe column names\r\n",
        "df = df.astype({'PassengerId':'int32','Survived':'int32','Pclass':'category','Sex':'category','Age':'float32','SibSp':'int32','Parch':'int32','Fare':'float32','Embarked':'category'})\r\n",
        "\r\n",
        "%matplotlib inline\r\n",
        "df.head()"
      ],
      "execution_count": 8,
      "outputs": [
        {
          "output_type": "execute_result",
          "data": {
            "text/html": [
              "<div>\n",
              "<style scoped>\n",
              "    .dataframe tbody tr th:only-of-type {\n",
              "        vertical-align: middle;\n",
              "    }\n",
              "\n",
              "    .dataframe tbody tr th {\n",
              "        vertical-align: top;\n",
              "    }\n",
              "\n",
              "    .dataframe thead th {\n",
              "        text-align: right;\n",
              "    }\n",
              "</style>\n",
              "<table border=\"1\" class=\"dataframe\">\n",
              "  <thead>\n",
              "    <tr style=\"text-align: right;\">\n",
              "      <th></th>\n",
              "      <th>PassengerId</th>\n",
              "      <th>Survived</th>\n",
              "      <th>Pclass</th>\n",
              "      <th>Name</th>\n",
              "      <th>Sex</th>\n",
              "      <th>Age</th>\n",
              "      <th>SibSp</th>\n",
              "      <th>Parch</th>\n",
              "      <th>Ticket</th>\n",
              "      <th>Fare</th>\n",
              "      <th>Cabin</th>\n",
              "      <th>Embarked</th>\n",
              "    </tr>\n",
              "  </thead>\n",
              "  <tbody>\n",
              "    <tr>\n",
              "      <th>1</th>\n",
              "      <td>1</td>\n",
              "      <td>0</td>\n",
              "      <td>3</td>\n",
              "      <td>Braund, Mr. Owen Harris</td>\n",
              "      <td>male</td>\n",
              "      <td>22.0</td>\n",
              "      <td>1</td>\n",
              "      <td>0</td>\n",
              "      <td>A/5 21171</td>\n",
              "      <td>7.250000</td>\n",
              "      <td>NaN</td>\n",
              "      <td>S</td>\n",
              "    </tr>\n",
              "    <tr>\n",
              "      <th>2</th>\n",
              "      <td>2</td>\n",
              "      <td>1</td>\n",
              "      <td>1</td>\n",
              "      <td>Cumings, Mrs. John Bradley (Florence Briggs Th...</td>\n",
              "      <td>female</td>\n",
              "      <td>38.0</td>\n",
              "      <td>1</td>\n",
              "      <td>0</td>\n",
              "      <td>PC 17599</td>\n",
              "      <td>71.283302</td>\n",
              "      <td>C85</td>\n",
              "      <td>C</td>\n",
              "    </tr>\n",
              "    <tr>\n",
              "      <th>3</th>\n",
              "      <td>3</td>\n",
              "      <td>1</td>\n",
              "      <td>3</td>\n",
              "      <td>Heikkinen, Miss. Laina</td>\n",
              "      <td>female</td>\n",
              "      <td>26.0</td>\n",
              "      <td>0</td>\n",
              "      <td>0</td>\n",
              "      <td>STON/O2. 3101282</td>\n",
              "      <td>7.925000</td>\n",
              "      <td>NaN</td>\n",
              "      <td>S</td>\n",
              "    </tr>\n",
              "    <tr>\n",
              "      <th>4</th>\n",
              "      <td>4</td>\n",
              "      <td>1</td>\n",
              "      <td>1</td>\n",
              "      <td>Futrelle, Mrs. Jacques Heath (Lily May Peel)</td>\n",
              "      <td>female</td>\n",
              "      <td>35.0</td>\n",
              "      <td>1</td>\n",
              "      <td>0</td>\n",
              "      <td>113803</td>\n",
              "      <td>53.099998</td>\n",
              "      <td>C123</td>\n",
              "      <td>S</td>\n",
              "    </tr>\n",
              "    <tr>\n",
              "      <th>5</th>\n",
              "      <td>5</td>\n",
              "      <td>0</td>\n",
              "      <td>3</td>\n",
              "      <td>Allen, Mr. William Henry</td>\n",
              "      <td>male</td>\n",
              "      <td>35.0</td>\n",
              "      <td>0</td>\n",
              "      <td>0</td>\n",
              "      <td>373450</td>\n",
              "      <td>8.050000</td>\n",
              "      <td>NaN</td>\n",
              "      <td>S</td>\n",
              "    </tr>\n",
              "  </tbody>\n",
              "</table>\n",
              "</div>"
            ],
            "text/plain": [
              "   PassengerId  Survived Pclass  ...       Fare Cabin  Embarked\n",
              "1            1         0      3  ...   7.250000   NaN         S\n",
              "2            2         1      1  ...  71.283302   C85         C\n",
              "3            3         1      3  ...   7.925000   NaN         S\n",
              "4            4         1      1  ...  53.099998  C123         S\n",
              "5            5         0      3  ...   8.050000   NaN         S\n",
              "\n",
              "[5 rows x 12 columns]"
            ]
          },
          "metadata": {
            "tags": []
          },
          "execution_count": 8
        }
      ]
    },
    {
      "cell_type": "code",
      "metadata": {
        "colab": {
          "base_uri": "https://localhost:8080/"
        },
        "id": "cV-Ys5AnxlnV",
        "outputId": "e5c6cfd5-4e20-4f4e-9851-c767bc1f2d51"
      },
      "source": [
        "#Dropping Cabin because of high NaN Values\r\n",
        "print(df.isnull().sum())\r\n",
        "df.drop('Cabin', axis=1, inplace=True)"
      ],
      "execution_count": 9,
      "outputs": [
        {
          "output_type": "stream",
          "text": [
            "PassengerId      0\n",
            "Survived         0\n",
            "Pclass           0\n",
            "Name             0\n",
            "Sex              0\n",
            "Age            177\n",
            "SibSp            0\n",
            "Parch            0\n",
            "Ticket           0\n",
            "Fare             0\n",
            "Cabin          687\n",
            "Embarked         2\n",
            "dtype: int64\n"
          ],
          "name": "stdout"
        }
      ]
    },
    {
      "cell_type": "code",
      "metadata": {
        "colab": {
          "base_uri": "https://localhost:8080/",
          "height": 397
        },
        "id": "LeDe4ILr0VW1",
        "outputId": "927f0fa9-2674-4633-e1dd-4f72dd02d0f5"
      },
      "source": [
        "print(df.isnull().sum())\r\n",
        "df['Age'].fillna(df['Age'].median(), inplace=True)\r\n",
        "df.head(5)"
      ],
      "execution_count": null,
      "outputs": [
        {
          "output_type": "stream",
          "text": [
            "PassengerId      0\n",
            "Survived         0\n",
            "Pclass           0\n",
            "Name             0\n",
            "Sex              0\n",
            "Age            177\n",
            "SibSp            0\n",
            "Parch            0\n",
            "Ticket           0\n",
            "Fare             0\n",
            "Embarked         2\n",
            "dtype: int64\n"
          ],
          "name": "stdout"
        },
        {
          "output_type": "execute_result",
          "data": {
            "text/html": [
              "<div>\n",
              "<style scoped>\n",
              "    .dataframe tbody tr th:only-of-type {\n",
              "        vertical-align: middle;\n",
              "    }\n",
              "\n",
              "    .dataframe tbody tr th {\n",
              "        vertical-align: top;\n",
              "    }\n",
              "\n",
              "    .dataframe thead th {\n",
              "        text-align: right;\n",
              "    }\n",
              "</style>\n",
              "<table border=\"1\" class=\"dataframe\">\n",
              "  <thead>\n",
              "    <tr style=\"text-align: right;\">\n",
              "      <th></th>\n",
              "      <th>PassengerId</th>\n",
              "      <th>Survived</th>\n",
              "      <th>Pclass</th>\n",
              "      <th>Name</th>\n",
              "      <th>Sex</th>\n",
              "      <th>Age</th>\n",
              "      <th>SibSp</th>\n",
              "      <th>Parch</th>\n",
              "      <th>Ticket</th>\n",
              "      <th>Fare</th>\n",
              "      <th>Embarked</th>\n",
              "    </tr>\n",
              "  </thead>\n",
              "  <tbody>\n",
              "    <tr>\n",
              "      <th>1</th>\n",
              "      <td>1</td>\n",
              "      <td>0</td>\n",
              "      <td>3</td>\n",
              "      <td>Braund, Mr. Owen Harris</td>\n",
              "      <td>male</td>\n",
              "      <td>22.0</td>\n",
              "      <td>1</td>\n",
              "      <td>0</td>\n",
              "      <td>A/5 21171</td>\n",
              "      <td>7.250000</td>\n",
              "      <td>S</td>\n",
              "    </tr>\n",
              "    <tr>\n",
              "      <th>2</th>\n",
              "      <td>2</td>\n",
              "      <td>1</td>\n",
              "      <td>1</td>\n",
              "      <td>Cumings, Mrs. John Bradley (Florence Briggs Th...</td>\n",
              "      <td>female</td>\n",
              "      <td>38.0</td>\n",
              "      <td>1</td>\n",
              "      <td>0</td>\n",
              "      <td>PC 17599</td>\n",
              "      <td>71.283302</td>\n",
              "      <td>C</td>\n",
              "    </tr>\n",
              "    <tr>\n",
              "      <th>3</th>\n",
              "      <td>3</td>\n",
              "      <td>1</td>\n",
              "      <td>3</td>\n",
              "      <td>Heikkinen, Miss. Laina</td>\n",
              "      <td>female</td>\n",
              "      <td>26.0</td>\n",
              "      <td>0</td>\n",
              "      <td>0</td>\n",
              "      <td>STON/O2. 3101282</td>\n",
              "      <td>7.925000</td>\n",
              "      <td>S</td>\n",
              "    </tr>\n",
              "    <tr>\n",
              "      <th>4</th>\n",
              "      <td>4</td>\n",
              "      <td>1</td>\n",
              "      <td>1</td>\n",
              "      <td>Futrelle, Mrs. Jacques Heath (Lily May Peel)</td>\n",
              "      <td>female</td>\n",
              "      <td>35.0</td>\n",
              "      <td>1</td>\n",
              "      <td>0</td>\n",
              "      <td>113803</td>\n",
              "      <td>53.099998</td>\n",
              "      <td>S</td>\n",
              "    </tr>\n",
              "    <tr>\n",
              "      <th>5</th>\n",
              "      <td>5</td>\n",
              "      <td>0</td>\n",
              "      <td>3</td>\n",
              "      <td>Allen, Mr. William Henry</td>\n",
              "      <td>male</td>\n",
              "      <td>35.0</td>\n",
              "      <td>0</td>\n",
              "      <td>0</td>\n",
              "      <td>373450</td>\n",
              "      <td>8.050000</td>\n",
              "      <td>S</td>\n",
              "    </tr>\n",
              "  </tbody>\n",
              "</table>\n",
              "</div>"
            ],
            "text/plain": [
              "   PassengerId  Survived Pclass  ...            Ticket       Fare  Embarked\n",
              "1            1         0      3  ...         A/5 21171   7.250000         S\n",
              "2            2         1      1  ...          PC 17599  71.283302         C\n",
              "3            3         1      3  ...  STON/O2. 3101282   7.925000         S\n",
              "4            4         1      1  ...            113803  53.099998         S\n",
              "5            5         0      3  ...            373450   8.050000         S\n",
              "\n",
              "[5 rows x 11 columns]"
            ]
          },
          "metadata": {
            "tags": []
          },
          "execution_count": 73
        }
      ]
    },
    {
      "cell_type": "code",
      "metadata": {
        "colab": {
          "base_uri": "https://localhost:8080/",
          "height": 465
        },
        "id": "AtEqoBFF1xq6",
        "outputId": "d87cbcd3-731f-46d2-f0b2-51519854ada8"
      },
      "source": [
        "print(df.isnull().sum())\r\n",
        "df['Embarked'].value_counts().plot(kind='bar')\r\n",
        "#Since the Maximum passenger are form S so we can fill values of S for NULL Values in Embarked\r\n",
        "df['Embarked'].fillna('S',inplace=True)"
      ],
      "execution_count": null,
      "outputs": [
        {
          "output_type": "stream",
          "text": [
            "PassengerId    0\n",
            "Survived       0\n",
            "Pclass         0\n",
            "Name           0\n",
            "Sex            0\n",
            "Age            0\n",
            "SibSp          0\n",
            "Parch          0\n",
            "Ticket         0\n",
            "Fare           0\n",
            "Embarked       2\n",
            "dtype: int64\n"
          ],
          "name": "stdout"
        },
        {
          "output_type": "display_data",
          "data": {
            "image/png": "[encoded data removed]",
            "text/plain": [
              "<Figure size 432x288 with 1 Axes>"
            ]
          },
          "metadata": {
            "tags": [],
            "needs_background": "light"
          }
        }
      ]
    },
    {
      "cell_type": "code",
      "metadata": {
        "colab": {
          "base_uri": "https://localhost:8080/"
        },
        "id": "CWLRJ83Y6FXk",
        "outputId": "e0380ff6-f4c7-4c0d-9391-380c1df676c7"
      },
      "source": [
        "#Finally Our DataFrame does not contain any NULL Values\r\n",
        "df.isnull().sum()"
      ],
      "execution_count": null,
      "outputs": [
        {
          "output_type": "execute_result",
          "data": {
            "text/plain": [
              "PassengerId    0\n",
              "Survived       0\n",
              "Pclass         0\n",
              "Name           0\n",
              "Sex            0\n",
              "Age            0\n",
              "SibSp          0\n",
              "Parch          0\n",
              "Ticket         0\n",
              "Fare           0\n",
              "Embarked       0\n",
              "dtype: int64"
            ]
          },
          "metadata": {
            "tags": []
          },
          "execution_count": 75
        }
      ]
    },
    {
      "cell_type": "code",
      "metadata": {
        "id": "txdTnttYc9rH"
      },
      "source": [
        "df['FamilyMembers'] = df['SibSp'] + df['Parch']"
      ],
      "execution_count": null,
      "outputs": []
    },
    {
      "cell_type": "code",
      "metadata": {
        "colab": {
          "base_uri": "https://localhost:8080/",
          "height": 299
        },
        "id": "atjNKBhqeYZB",
        "outputId": "04a6b9f2-cd15-4f0b-a366-e8b0d3e87f2e"
      },
      "source": [
        "df[['FamilyMembers','Survived']].groupby('FamilyMembers').mean().plot(kind='bar')\r\n",
        "#Familty of size 3 has the highest chances of survival"
      ],
      "execution_count": null,
      "outputs": [
        {
          "output_type": "execute_result",
          "data": {
            "text/plain": [
              "<matplotlib.axes._subplots.AxesSubplot at 0x7f4863820c10>"
            ]
          },
          "metadata": {
            "tags": []
          },
          "execution_count": 77
        },
        {
          "output_type": "display_data",
          "data": {
            "image/png": "[encoded data removed]",
            "text/plain": [
              "<Figure size 432x288 with 1 Axes>"
            ]
          },
          "metadata": {
            "tags": [],
            "needs_background": "light"
          }
        }
      ]
    },
    {
      "cell_type": "code",
      "metadata": {
        "id": "2i26FVLb6fBQ"
      },
      "source": [
        "df=pd.get_dummies(df, columns=[\"Pclass\",\"Embarked\",\"Sex\"])"
      ],
      "execution_count": null,
      "outputs": []
    },
    {
      "cell_type": "code",
      "metadata": {
        "colab": {
          "base_uri": "https://localhost:8080/"
        },
        "id": "cqWL2uxTHc5v",
        "outputId": "6d7dd453-7336-4e45-91c3-010612f3b896"
      },
      "source": [
        "df.info()"
      ],
      "execution_count": null,
      "outputs": [
        {
          "output_type": "stream",
          "text": [
            "<class 'pandas.core.frame.DataFrame'>\n",
            "RangeIndex: 891 entries, 1 to 891\n",
            "Data columns (total 17 columns):\n",
            " #   Column         Non-Null Count  Dtype  \n",
            "---  ------         --------------  -----  \n",
            " 0   PassengerId    891 non-null    int32  \n",
            " 1   Survived       891 non-null    int32  \n",
            " 2   Name           891 non-null    object \n",
            " 3   Age            891 non-null    float32\n",
            " 4   SibSp          891 non-null    int32  \n",
            " 5   Parch          891 non-null    int32  \n",
            " 6   Ticket         891 non-null    object \n",
            " 7   Fare           891 non-null    float32\n",
            " 8   FamilyMembers  891 non-null    int32  \n",
            " 9   Pclass_1       891 non-null    uint8  \n",
            " 10  Pclass_2       891 non-null    uint8  \n",
            " 11  Pclass_3       891 non-null    uint8  \n",
            " 12  Embarked_C     891 non-null    uint8  \n",
            " 13  Embarked_Q     891 non-null    uint8  \n",
            " 14  Embarked_S     891 non-null    uint8  \n",
            " 15  Sex_female     891 non-null    uint8  \n",
            " 16  Sex_male       891 non-null    uint8  \n",
            "dtypes: float32(2), int32(5), object(2), uint8(8)\n",
            "memory usage: 45.4+ KB\n"
          ],
          "name": "stdout"
        }
      ]
    },
    {
      "cell_type": "code",
      "metadata": {
        "id": "DXGp1FzV8Onq"
      },
      "source": [
        "#Dropping Columns that are not required\r\n",
        "#Name does not affect the whether the passenger survived/not survived\r\n",
        "#Sex_female as Sex_male is already present\r\n",
        "df.drop('Sex_female', axis=1, inplace=True)\r\n",
        "df.drop('PassengerId', axis=1, inplace=True)\r\n",
        "df.drop('Name', axis=1, inplace=True)\r\n",
        "df.drop('Ticket', axis=1, inplace=True)\r\n",
        "df.drop('SibSp', axis=1, inplace=True)\r\n",
        "df.drop('Parch', axis=1, inplace=True)"
      ],
      "execution_count": null,
      "outputs": []
    },
    {
      "cell_type": "code",
      "metadata": {
        "colab": {
          "base_uri": "https://localhost:8080/",
          "height": 284
        },
        "id": "f_Wby0UscuzG",
        "outputId": "9a0ccd7c-3cf4-473c-cbbe-23b26416175d"
      },
      "source": [
        "df.describe()"
      ],
      "execution_count": null,
      "outputs": [
        {
          "output_type": "execute_result",
          "data": {
            "text/html": [
              "<div>\n",
              "<style scoped>\n",
              "    .dataframe tbody tr th:only-of-type {\n",
              "        vertical-align: middle;\n",
              "    }\n",
              "\n",
              "    .dataframe tbody tr th {\n",
              "        vertical-align: top;\n",
              "    }\n",
              "\n",
              "    .dataframe thead th {\n",
              "        text-align: right;\n",
              "    }\n",
              "</style>\n",
              "<table border=\"1\" class=\"dataframe\">\n",
              "  <thead>\n",
              "    <tr style=\"text-align: right;\">\n",
              "      <th></th>\n",
              "      <th>Survived</th>\n",
              "      <th>Age</th>\n",
              "      <th>Fare</th>\n",
              "      <th>FamilyMembers</th>\n",
              "      <th>Pclass_1</th>\n",
              "      <th>Pclass_2</th>\n",
              "      <th>Pclass_3</th>\n",
              "      <th>Embarked_C</th>\n",
              "      <th>Embarked_Q</th>\n",
              "      <th>Embarked_S</th>\n",
              "      <th>Sex_male</th>\n",
              "    </tr>\n",
              "  </thead>\n",
              "  <tbody>\n",
              "    <tr>\n",
              "      <th>count</th>\n",
              "      <td>891.000000</td>\n",
              "      <td>891.000000</td>\n",
              "      <td>891.000000</td>\n",
              "      <td>891.000000</td>\n",
              "      <td>891.000000</td>\n",
              "      <td>891.000000</td>\n",
              "      <td>891.000000</td>\n",
              "      <td>891.000000</td>\n",
              "      <td>891.000000</td>\n",
              "      <td>891.000000</td>\n",
              "      <td>891.000000</td>\n",
              "    </tr>\n",
              "    <tr>\n",
              "      <th>mean</th>\n",
              "      <td>0.383838</td>\n",
              "      <td>29.361582</td>\n",
              "      <td>32.204247</td>\n",
              "      <td>0.904602</td>\n",
              "      <td>0.242424</td>\n",
              "      <td>0.206510</td>\n",
              "      <td>0.551066</td>\n",
              "      <td>0.188552</td>\n",
              "      <td>0.086420</td>\n",
              "      <td>0.725028</td>\n",
              "      <td>0.647587</td>\n",
              "    </tr>\n",
              "    <tr>\n",
              "      <th>std</th>\n",
              "      <td>0.486592</td>\n",
              "      <td>13.019696</td>\n",
              "      <td>49.693409</td>\n",
              "      <td>1.613459</td>\n",
              "      <td>0.428790</td>\n",
              "      <td>0.405028</td>\n",
              "      <td>0.497665</td>\n",
              "      <td>0.391372</td>\n",
              "      <td>0.281141</td>\n",
              "      <td>0.446751</td>\n",
              "      <td>0.477990</td>\n",
              "    </tr>\n",
              "    <tr>\n",
              "      <th>min</th>\n",
              "      <td>0.000000</td>\n",
              "      <td>0.420000</td>\n",
              "      <td>0.000000</td>\n",
              "      <td>0.000000</td>\n",
              "      <td>0.000000</td>\n",
              "      <td>0.000000</td>\n",
              "      <td>0.000000</td>\n",
              "      <td>0.000000</td>\n",
              "      <td>0.000000</td>\n",
              "      <td>0.000000</td>\n",
              "      <td>0.000000</td>\n",
              "    </tr>\n",
              "    <tr>\n",
              "      <th>25%</th>\n",
              "      <td>0.000000</td>\n",
              "      <td>22.000000</td>\n",
              "      <td>7.910400</td>\n",
              "      <td>0.000000</td>\n",
              "      <td>0.000000</td>\n",
              "      <td>0.000000</td>\n",
              "      <td>0.000000</td>\n",
              "      <td>0.000000</td>\n",
              "      <td>0.000000</td>\n",
              "      <td>0.000000</td>\n",
              "      <td>0.000000</td>\n",
              "    </tr>\n",
              "    <tr>\n",
              "      <th>50%</th>\n",
              "      <td>0.000000</td>\n",
              "      <td>28.000000</td>\n",
              "      <td>14.454200</td>\n",
              "      <td>0.000000</td>\n",
              "      <td>0.000000</td>\n",
              "      <td>0.000000</td>\n",
              "      <td>1.000000</td>\n",
              "      <td>0.000000</td>\n",
              "      <td>0.000000</td>\n",
              "      <td>1.000000</td>\n",
              "      <td>1.000000</td>\n",
              "    </tr>\n",
              "    <tr>\n",
              "      <th>75%</th>\n",
              "      <td>1.000000</td>\n",
              "      <td>35.000000</td>\n",
              "      <td>31.000000</td>\n",
              "      <td>1.000000</td>\n",
              "      <td>0.000000</td>\n",
              "      <td>0.000000</td>\n",
              "      <td>1.000000</td>\n",
              "      <td>0.000000</td>\n",
              "      <td>0.000000</td>\n",
              "      <td>1.000000</td>\n",
              "      <td>1.000000</td>\n",
              "    </tr>\n",
              "    <tr>\n",
              "      <th>max</th>\n",
              "      <td>1.000000</td>\n",
              "      <td>80.000000</td>\n",
              "      <td>512.329224</td>\n",
              "      <td>10.000000</td>\n",
              "      <td>1.000000</td>\n",
              "      <td>1.000000</td>\n",
              "      <td>1.000000</td>\n",
              "      <td>1.000000</td>\n",
              "      <td>1.000000</td>\n",
              "      <td>1.000000</td>\n",
              "      <td>1.000000</td>\n",
              "    </tr>\n",
              "  </tbody>\n",
              "</table>\n",
              "</div>"
            ],
            "text/plain": [
              "         Survived         Age        Fare  ...  Embarked_Q  Embarked_S    Sex_male\n",
              "count  891.000000  891.000000  891.000000  ...  891.000000  891.000000  891.000000\n",
              "mean     0.383838   29.361582   32.204247  ...    0.086420    0.725028    0.647587\n",
              "std      0.486592   13.019696   49.693409  ...    0.281141    0.446751    0.477990\n",
              "min      0.000000    0.420000    0.000000  ...    0.000000    0.000000    0.000000\n",
              "25%      0.000000   22.000000    7.910400  ...    0.000000    0.000000    0.000000\n",
              "50%      0.000000   28.000000   14.454200  ...    0.000000    1.000000    1.000000\n",
              "75%      1.000000   35.000000   31.000000  ...    0.000000    1.000000    1.000000\n",
              "max      1.000000   80.000000  512.329224  ...    1.000000    1.000000    1.000000\n",
              "\n",
              "[8 rows x 11 columns]"
            ]
          },
          "metadata": {
            "tags": []
          },
          "execution_count": 81
        }
      ]
    },
    {
      "cell_type": "code",
      "metadata": {
        "colab": {
          "base_uri": "https://localhost:8080/"
        },
        "id": "5EzuxCkzRQ6s",
        "outputId": "e8eefb51-8757-4d92-b780-05eb263b3060"
      },
      "source": [
        "df.info()"
      ],
      "execution_count": null,
      "outputs": [
        {
          "output_type": "stream",
          "text": [
            "<class 'pandas.core.frame.DataFrame'>\n",
            "RangeIndex: 891 entries, 1 to 891\n",
            "Data columns (total 11 columns):\n",
            " #   Column         Non-Null Count  Dtype  \n",
            "---  ------         --------------  -----  \n",
            " 0   Survived       891 non-null    int32  \n",
            " 1   Age            891 non-null    float32\n",
            " 2   Fare           891 non-null    float32\n",
            " 3   FamilyMembers  891 non-null    int32  \n",
            " 4   Pclass_1       891 non-null    uint8  \n",
            " 5   Pclass_2       891 non-null    uint8  \n",
            " 6   Pclass_3       891 non-null    uint8  \n",
            " 7   Embarked_C     891 non-null    uint8  \n",
            " 8   Embarked_Q     891 non-null    uint8  \n",
            " 9   Embarked_S     891 non-null    uint8  \n",
            " 10  Sex_male       891 non-null    uint8  \n",
            "dtypes: float32(2), int32(2), uint8(7)\n",
            "memory usage: 20.1 KB\n"
          ],
          "name": "stdout"
        }
      ]
    },
    {
      "cell_type": "code",
      "metadata": {
        "id": "K6SLBp2H9uYT"
      },
      "source": [
        "x = df[['Age','Fare','FamilyMembers','Pclass_1','Pclass_2','Embarked_C','Embarked_Q','Embarked_S','Sex_male']].to_numpy()\r\n",
        "y = df[['Survived']].to_numpy()"
      ],
      "execution_count": null,
      "outputs": []
    },
    {
      "cell_type": "code",
      "metadata": {
        "colab": {
          "base_uri": "https://localhost:8080/"
        },
        "id": "FgB_BjvqRD9a",
        "outputId": "3a5e175e-df97-4834-894d-391bd393192a"
      },
      "source": [
        "print(x.shape)\r\n",
        "print(y.shape)"
      ],
      "execution_count": null,
      "outputs": [
        {
          "output_type": "stream",
          "text": [
            "(891, 9)\n",
            "(891, 1)\n"
          ],
          "name": "stdout"
        }
      ]
    },
    {
      "cell_type": "code",
      "metadata": {
        "colab": {
          "base_uri": "https://localhost:8080/"
        },
        "id": "hYQjAhb6P4gs",
        "outputId": "510ec653-ceb7-4744-d1e2-19dd0365187c"
      },
      "source": [
        "X_train, X_test, y_train, y_test = train_test_split(x, y,test_size=0.3,random_state=1)\r\n",
        "print(X_train.shape)\r\n",
        "print(y_train.shape)\r\n",
        "print(X_test.shape)\r\n",
        "print(y_test.shape)"
      ],
      "execution_count": null,
      "outputs": [
        {
          "output_type": "stream",
          "text": [
            "(623, 9)\n",
            "(623, 1)\n",
            "(268, 9)\n",
            "(268, 1)\n"
          ],
          "name": "stdout"
        }
      ]
    },
    {
      "cell_type": "code",
      "metadata": {
        "id": "Pg8g6_lEG_CW"
      },
      "source": [
        "class LogisticRegression:\r\n",
        "  def __init__(self):\r\n",
        "    pass\r\n",
        "  def train(self,X_train,y_train):\r\n",
        "    self.y = y_train\r\n",
        "    self.X = X_train\r\n",
        "    self.m ,self.n = X_train.shape\r\n",
        "    self.X = np.hstack((np.ones((self.m,1)),self.X))\r\n",
        "    self.m ,self.n = self.X.shape\r\n",
        "    self.theta = np.ones((self.n,1))\r\n",
        "    self.h = self.sigmoid(self.X@self.theta)\r\n",
        "\r\n",
        "  def compute(self,alpha,iter):\r\n",
        "    epsilon = 1e-5\r\n",
        "    self.cost = np.ones((iter,1))\r\n",
        "    # self.w = np.ones((iter,self.n))\r\n",
        "    for i in range(iter):\r\n",
        "      self.theta = self.theta - ( alpha/self.m ) * self.X.T@(self.h-self.y)\r\n",
        "      self.h = self.sigmoid(self.X@self.theta)\r\n",
        "      self.cost[i] = (1/self.m)*(((-self.y).T @ np.log(self.h + epsilon))-((1-self.y).T @ np.log((1-self.h) + epsilon)))\r\n",
        "      # self.w[i] = self.theta.T\r\n",
        "    return self.cost\r\n",
        "\r\n",
        "  def sigmoid(self,X):\r\n",
        "    return 1 / (1 + np.exp(-X))\r\n",
        "\r\n",
        "  def predict(self,X_test):\r\n",
        "    h = self.sigmoid(X_test@self.theta)\r\n",
        "    return np.rint(h)\r\n",
        "    # return np.rint(h)\r\n",
        "\r\n"
      ],
      "execution_count": null,
      "outputs": []
    },
    {
      "cell_type": "code",
      "metadata": {
        "id": "Q-XnuIosSayn"
      },
      "source": [
        "l = LogisticRegression()\r\n",
        "l.train(X_train,y_train)"
      ],
      "execution_count": null,
      "outputs": []
    },
    {
      "cell_type": "code",
      "metadata": {
        "colab": {
          "base_uri": "https://localhost:8080/",
          "height": 265
        },
        "id": "eGM4IJktVNZm",
        "outputId": "4cdbabb8-4d40-4933-ce1a-e6d2f3806d25"
      },
      "source": [
        "cost = l.compute(0.001,100000)\r\n",
        "plt.figure()\r\n",
        "plt.plot(range(100000),cost)\r\n",
        "plt.show()"
      ],
      "execution_count": null,
      "outputs": [
        {
          "output_type": "display_data",
          "data": {
            "image/png": "[encoded data removed]",
            "text/plain": [
              "<Figure size 432x288 with 1 Axes>"
            ]
          },
          "metadata": {
            "tags": [],
            "needs_background": "light"
          }
        }
      ]
    },
    {
      "cell_type": "code",
      "metadata": {
        "colab": {
          "base_uri": "https://localhost:8080/"
        },
        "id": "Ya7FKDM_VkGv",
        "outputId": "e775a368-df47-44bf-e852-6036426dbf96"
      },
      "source": [
        "xtest = np.hstack((np.ones((X_test.shape[0],1)),X_test))\r\n",
        "ypredict = l.predict(xtest)\r\n",
        "print(accuracy_score(y_test, ypredict))\r\n",
        "print(confusion_matrix(y_test,ypredict))\r\n",
        "print(classification_report(y_test,ypredict))"
      ],
      "execution_count": null,
      "outputs": [
        {
          "output_type": "stream",
          "text": [
            "0.7835820895522388\n",
            "[[133  20]\n",
            " [ 38  77]]\n",
            "              precision    recall  f1-score   support\n",
            "\n",
            "           0       0.78      0.87      0.82       153\n",
            "           1       0.79      0.67      0.73       115\n",
            "\n",
            "    accuracy                           0.78       268\n",
            "   macro avg       0.79      0.77      0.77       268\n",
            "weighted avg       0.78      0.78      0.78       268\n",
            "\n"
          ],
          "name": "stdout"
        }
      ]
    }
  ]
}