{
  "nbformat": 4,
  "nbformat_minor": 0,
  "metadata": {
    "colab": {
      "name": "question1.ipynb",
      "provenance": [],
      "collapsed_sections": []
    },
    "kernelspec": {
      "display_name": "Python 3",
      "name": "python3"
    }
  },
  "cells": [
    {
      "cell_type": "markdown",
      "metadata": {
        "id": "vpWQigP0msj9"
      },
      "source": [
        "**Part 1:** \n",
        "\n",
        "Use the **Fashion-MNIST** dataset for this question.\n",
        "\n",
        "1) Load the dataset and perform splitting into training and validation sets with 70:30 ratio.\n",
        "\n",
        "> Do we need to normalise data? [If so Does it make any difference?]\n",
        "\n",
        "2) Implement the K Means algorithm. You need to find the optimal number of clusters using the\n",
        "    elbow method and silhouette method. \n",
        "\n",
        "3) Define the initial clusters’ centroids using:</br>\n",
        "> i) Forgy</br>\n",
        "\n",
        "> ii) Random Partition\n",
        "\n",
        "4) Experiment with different distance measures[Euclidean distance, Manhattan distance].\n",
        "\n",
        "5) Plot the error vs number of clusters graph while using the elbow method and silhouette \n",
        "    method. Report the optimal number of clusters found.\n",
        "\n",
        "6) Report the training and the validation accuracy and Compare your trained model with a model trained by the scikit-learn\n",
        "\n",
        "7) Visualize the dataset to depict the clusters formed. #Prefer T-SNE\n",
        "\n",
        "8) Implement K-means++, and repeat task 1 to task 7 again.</br>\n",
        "</br>\n",
        "</br>\n",
        "</br>\n",
        "</br>\n",
        "**Part 2:**\n",
        "</br>\n",
        "In this task, you will perform operations on `[data.csv](https://drive.google.com/file/d/15NPkfXFoTkiRBlcI4ffe_Lp_BFOyf8UY/view?usp=sharing)`, data.csv is a  latent space representation of  Fashion-MNIST, before doing this task please read about latent space representation.\n",
        "\n",
        "9) Load the data.csv file and apply Kmeans and Kmeans++, You need to find the optimal number of clusters using the elbow method and silhouette method.\n",
        "\n",
        "10) Visualize the dataset to depict the clusters formed. # Prefer T-SNE\n",
        "\n",
        "11) From these experiments(Part 1 and Part 2), compare accuracy or error, and report which one is better and why?\n",
        "</br>\n",
        "</br>\n",
        "**Note:** If the model takes a lot of time to train you can use MiniBatchKMeans.\n",
        " \n",
        "\n",
        "\n"
      ]
    },
    {
      "cell_type": "code",
      "metadata": {
        "id": "6j7nYmipmrC6",
        "colab": {
          "base_uri": "https://localhost:8080/"
        },
        "outputId": "51f7dd75-aab0-4150-d43f-30c501d494b6"
      },
      "source": [
        "from keras.datasets import fashion_mnist\n",
        "from sklearn.model_selection import train_test_split\n",
        "from sklearn.metrics.cluster import homogeneity_completeness_v_measure\n",
        "from sklearn.manifold import TSNE\n",
        "import pandas as pd\n",
        "import numpy as np\n",
        "import matplotlib.pyplot as plt\n",
        "%matplotlib inline\n",
        "(trainX, trainy), (testX, testy) = fashion_mnist.load_data()"
      ],
      "execution_count": 1,
      "outputs": [
        {
          "output_type": "stream",
          "text": [
            "Downloading data from https://storage.googleapis.com/tensorflow/tf-keras-datasets/train-labels-idx1-ubyte.gz\n",
            "32768/29515 [=================================] - 0s 0us/step\n",
            "Downloading data from https://storage.googleapis.com/tensorflow/tf-keras-datasets/train-images-idx3-ubyte.gz\n",
            "26427392/26421880 [==============================] - 0s 0us/step\n",
            "Downloading data from https://storage.googleapis.com/tensorflow/tf-keras-datasets/t10k-labels-idx1-ubyte.gz\n",
            "8192/5148 [===============================================] - 0s 0us/step\n",
            "Downloading data from https://storage.googleapis.com/tensorflow/tf-keras-datasets/t10k-images-idx3-ubyte.gz\n",
            "4423680/4422102 [==============================] - 0s 0us/step\n"
          ],
          "name": "stdout"
        }
      ]
    },
    {
      "cell_type": "code",
      "metadata": {
        "colab": {
          "base_uri": "https://localhost:8080/"
        },
        "id": "3DKlen3hVu1l",
        "outputId": "26475149-9378-4ba5-83a3-8b9aa5226b3a"
      },
      "source": [
        "X = np.append(trainX , testX,axis=0)\r\n",
        "y = np.append(trainy , testy,axis=0)\r\n",
        "n1 , n2 , n3 = X.shape\r\n",
        "X = X.flatten().reshape(n1,n2*n3)\r\n",
        "print(X.shape)\r\n",
        "print(y.shape)"
      ],
      "execution_count": 2,
      "outputs": [
        {
          "output_type": "stream",
          "text": [
            "(70000, 784)\n",
            "(70000,)\n"
          ],
          "name": "stdout"
        }
      ]
    },
    {
      "cell_type": "code",
      "metadata": {
        "colab": {
          "base_uri": "https://localhost:8080/"
        },
        "id": "73n8AlCeqGEF",
        "outputId": "d9672c69-2c74-4186-c647-ae8ca8be547c"
      },
      "source": [
        "#Splitting The Datasets\r\n",
        "X_train , X_test , y_train , y_test = train_test_split(X , y , test_size=0.3 , random_state=1)\r\n",
        "print(X_train.shape)\r\n",
        "print(X_test.shape)\r\n",
        "print(y_train.shape)\r\n",
        "print(y_test.shape)"
      ],
      "execution_count": 3,
      "outputs": [
        {
          "output_type": "stream",
          "text": [
            "(49000, 784)\n",
            "(21000, 784)\n",
            "(49000,)\n",
            "(21000,)\n"
          ],
          "name": "stdout"
        }
      ]
    },
    {
      "cell_type": "code",
      "metadata": {
        "colab": {
          "base_uri": "https://localhost:8080/",
          "height": 333
        },
        "id": "rbPMEISGr6Wd",
        "outputId": "bfc79dfe-daf9-4eaf-872c-ede2ac1977d7"
      },
      "source": [
        "df  = pd.DataFrame(X_train)\r\n",
        "df.describe()\r\n",
        "# Since the data is already uniformly distributed in range(0,255) so normalising the dataset won't make a much difference"
      ],
      "execution_count": 4,
      "outputs": [
        {
          "output_type": "execute_result",
          "data": {
            "text/html": [
              "<div>\n",
              "<style scoped>\n",
              "    .dataframe tbody tr th:only-of-type {\n",
              "        vertical-align: middle;\n",
              "    }\n",
              "\n",
              "    .dataframe tbody tr th {\n",
              "        vertical-align: top;\n",
              "    }\n",
              "\n",
              "    .dataframe thead th {\n",
              "        text-align: right;\n",
              "    }\n",
              "</style>\n",
              "<table border=\"1\" class=\"dataframe\">\n",
              "  <thead>\n",
              "    <tr style=\"text-align: right;\">\n",
              "      <th></th>\n",
              "      <th>0</th>\n",
              "      <th>1</th>\n",
              "      <th>2</th>\n",
              "      <th>3</th>\n",
              "      <th>4</th>\n",
              "      <th>5</th>\n",
              "      <th>6</th>\n",
              "      <th>7</th>\n",
              "      <th>8</th>\n",
              "      <th>9</th>\n",
              "      <th>10</th>\n",
              "      <th>11</th>\n",
              "      <th>12</th>\n",
              "      <th>13</th>\n",
              "      <th>14</th>\n",
              "      <th>15</th>\n",
              "      <th>16</th>\n",
              "      <th>17</th>\n",
              "      <th>18</th>\n",
              "      <th>19</th>\n",
              "      <th>20</th>\n",
              "      <th>21</th>\n",
              "      <th>22</th>\n",
              "      <th>23</th>\n",
              "      <th>24</th>\n",
              "      <th>25</th>\n",
              "      <th>26</th>\n",
              "      <th>27</th>\n",
              "      <th>28</th>\n",
              "      <th>29</th>\n",
              "      <th>30</th>\n",
              "      <th>31</th>\n",
              "      <th>32</th>\n",
              "      <th>33</th>\n",
              "      <th>34</th>\n",
              "      <th>35</th>\n",
              "      <th>36</th>\n",
              "      <th>37</th>\n",
              "      <th>38</th>\n",
              "      <th>39</th>\n",
              "      <th>...</th>\n",
              "      <th>744</th>\n",
              "      <th>745</th>\n",
              "      <th>746</th>\n",
              "      <th>747</th>\n",
              "      <th>748</th>\n",
              "      <th>749</th>\n",
              "      <th>750</th>\n",
              "      <th>751</th>\n",
              "      <th>752</th>\n",
              "      <th>753</th>\n",
              "      <th>754</th>\n",
              "      <th>755</th>\n",
              "      <th>756</th>\n",
              "      <th>757</th>\n",
              "      <th>758</th>\n",
              "      <th>759</th>\n",
              "      <th>760</th>\n",
              "      <th>761</th>\n",
              "      <th>762</th>\n",
              "      <th>763</th>\n",
              "      <th>764</th>\n",
              "      <th>765</th>\n",
              "      <th>766</th>\n",
              "      <th>767</th>\n",
              "      <th>768</th>\n",
              "      <th>769</th>\n",
              "      <th>770</th>\n",
              "      <th>771</th>\n",
              "      <th>772</th>\n",
              "      <th>773</th>\n",
              "      <th>774</th>\n",
              "      <th>775</th>\n",
              "      <th>776</th>\n",
              "      <th>777</th>\n",
              "      <th>778</th>\n",
              "      <th>779</th>\n",
              "      <th>780</th>\n",
              "      <th>781</th>\n",
              "      <th>782</th>\n",
              "      <th>783</th>\n",
              "    </tr>\n",
              "  </thead>\n",
              "  <tbody>\n",
              "    <tr>\n",
              "      <th>count</th>\n",
              "      <td>49000.000000</td>\n",
              "      <td>49000.000000</td>\n",
              "      <td>49000.000000</td>\n",
              "      <td>49000.000000</td>\n",
              "      <td>49000.000000</td>\n",
              "      <td>49000.000000</td>\n",
              "      <td>49000.000000</td>\n",
              "      <td>49000.000000</td>\n",
              "      <td>49000.000000</td>\n",
              "      <td>49000.000000</td>\n",
              "      <td>49000.000000</td>\n",
              "      <td>49000.000000</td>\n",
              "      <td>49000.000000</td>\n",
              "      <td>49000.000000</td>\n",
              "      <td>49000.000000</td>\n",
              "      <td>49000.000000</td>\n",
              "      <td>49000.000000</td>\n",
              "      <td>49000.000000</td>\n",
              "      <td>49000.000000</td>\n",
              "      <td>49000.000000</td>\n",
              "      <td>49000.000000</td>\n",
              "      <td>49000.000000</td>\n",
              "      <td>49000.000000</td>\n",
              "      <td>49000.000000</td>\n",
              "      <td>49000.000000</td>\n",
              "      <td>49000.000000</td>\n",
              "      <td>49000.000000</td>\n",
              "      <td>49000.000000</td>\n",
              "      <td>49000.000000</td>\n",
              "      <td>49000.000000</td>\n",
              "      <td>49000.000000</td>\n",
              "      <td>49000.000000</td>\n",
              "      <td>49000.000000</td>\n",
              "      <td>49000.000000</td>\n",
              "      <td>49000.000000</td>\n",
              "      <td>49000.00000</td>\n",
              "      <td>49000.000000</td>\n",
              "      <td>49000.000000</td>\n",
              "      <td>49000.000000</td>\n",
              "      <td>49000.000000</td>\n",
              "      <td>...</td>\n",
              "      <td>49000.000000</td>\n",
              "      <td>49000.000000</td>\n",
              "      <td>49000.000000</td>\n",
              "      <td>49000.000000</td>\n",
              "      <td>49000.000000</td>\n",
              "      <td>49000.000000</td>\n",
              "      <td>49000.000000</td>\n",
              "      <td>49000.000000</td>\n",
              "      <td>49000.000000</td>\n",
              "      <td>49000.000000</td>\n",
              "      <td>49000.000000</td>\n",
              "      <td>49000.000000</td>\n",
              "      <td>49000.000000</td>\n",
              "      <td>49000.000000</td>\n",
              "      <td>49000.000000</td>\n",
              "      <td>49000.000000</td>\n",
              "      <td>49000.000000</td>\n",
              "      <td>49000.000000</td>\n",
              "      <td>49000.000000</td>\n",
              "      <td>49000.000000</td>\n",
              "      <td>49000.000000</td>\n",
              "      <td>49000.000000</td>\n",
              "      <td>49000.000000</td>\n",
              "      <td>49000.000000</td>\n",
              "      <td>49000.000000</td>\n",
              "      <td>49000.000000</td>\n",
              "      <td>49000.000000</td>\n",
              "      <td>49000.000000</td>\n",
              "      <td>49000.000000</td>\n",
              "      <td>49000.000000</td>\n",
              "      <td>49000.000000</td>\n",
              "      <td>49000.000000</td>\n",
              "      <td>49000.000000</td>\n",
              "      <td>49000.000000</td>\n",
              "      <td>49000.000000</td>\n",
              "      <td>49000.000000</td>\n",
              "      <td>49000.000000</td>\n",
              "      <td>49000.000000</td>\n",
              "      <td>49000.000000</td>\n",
              "      <td>49000.000000</td>\n",
              "    </tr>\n",
              "    <tr>\n",
              "      <th>mean</th>\n",
              "      <td>0.000592</td>\n",
              "      <td>0.007265</td>\n",
              "      <td>0.038633</td>\n",
              "      <td>0.102653</td>\n",
              "      <td>0.255551</td>\n",
              "      <td>0.409469</td>\n",
              "      <td>0.788082</td>\n",
              "      <td>2.186388</td>\n",
              "      <td>5.684184</td>\n",
              "      <td>14.417163</td>\n",
              "      <td>32.924388</td>\n",
              "      <td>45.915020</td>\n",
              "      <td>52.196061</td>\n",
              "      <td>50.997143</td>\n",
              "      <td>50.700551</td>\n",
              "      <td>54.162633</td>\n",
              "      <td>51.650286</td>\n",
              "      <td>40.639347</td>\n",
              "      <td>26.146959</td>\n",
              "      <td>10.407429</td>\n",
              "      <td>4.065265</td>\n",
              "      <td>1.945265</td>\n",
              "      <td>1.178347</td>\n",
              "      <td>0.848265</td>\n",
              "      <td>0.477429</td>\n",
              "      <td>0.265816</td>\n",
              "      <td>0.100918</td>\n",
              "      <td>0.020122</td>\n",
              "      <td>0.006592</td>\n",
              "      <td>0.025265</td>\n",
              "      <td>0.112347</td>\n",
              "      <td>0.366408</td>\n",
              "      <td>0.776327</td>\n",
              "      <td>2.021796</td>\n",
              "      <td>7.219082</td>\n",
              "      <td>17.42598</td>\n",
              "      <td>31.970816</td>\n",
              "      <td>52.812408</td>\n",
              "      <td>79.730980</td>\n",
              "      <td>100.227714</td>\n",
              "      <td>...</td>\n",
              "      <td>92.618388</td>\n",
              "      <td>90.648980</td>\n",
              "      <td>79.297143</td>\n",
              "      <td>62.609204</td>\n",
              "      <td>46.116837</td>\n",
              "      <td>44.127571</td>\n",
              "      <td>47.876571</td>\n",
              "      <td>38.739857</td>\n",
              "      <td>22.203041</td>\n",
              "      <td>9.079612</td>\n",
              "      <td>3.783714</td>\n",
              "      <td>0.621939</td>\n",
              "      <td>0.026286</td>\n",
              "      <td>0.219653</td>\n",
              "      <td>1.008490</td>\n",
              "      <td>4.359673</td>\n",
              "      <td>12.599041</td>\n",
              "      <td>20.809510</td>\n",
              "      <td>21.131122</td>\n",
              "      <td>17.275857</td>\n",
              "      <td>22.306735</td>\n",
              "      <td>30.603265</td>\n",
              "      <td>41.875653</td>\n",
              "      <td>51.697816</td>\n",
              "      <td>52.795878</td>\n",
              "      <td>46.451469</td>\n",
              "      <td>42.512041</td>\n",
              "      <td>45.260204</td>\n",
              "      <td>50.197469</td>\n",
              "      <td>46.536367</td>\n",
              "      <td>34.622980</td>\n",
              "      <td>23.314184</td>\n",
              "      <td>16.708449</td>\n",
              "      <td>17.840755</td>\n",
              "      <td>22.915041</td>\n",
              "      <td>18.011939</td>\n",
              "      <td>8.519327</td>\n",
              "      <td>2.787102</td>\n",
              "      <td>0.863714</td>\n",
              "      <td>0.076837</td>\n",
              "    </tr>\n",
              "    <tr>\n",
              "      <th>std</th>\n",
              "      <td>0.079922</td>\n",
              "      <td>0.340214</td>\n",
              "      <td>1.408733</td>\n",
              "      <td>2.520925</td>\n",
              "      <td>4.502132</td>\n",
              "      <td>5.956605</td>\n",
              "      <td>8.136210</td>\n",
              "      <td>13.999075</td>\n",
              "      <td>23.741946</td>\n",
              "      <td>38.124541</td>\n",
              "      <td>57.586130</td>\n",
              "      <td>66.108156</td>\n",
              "      <td>68.743552</td>\n",
              "      <td>68.036585</td>\n",
              "      <td>67.529555</td>\n",
              "      <td>69.738158</td>\n",
              "      <td>68.142218</td>\n",
              "      <td>62.860422</td>\n",
              "      <td>51.764977</td>\n",
              "      <td>32.511753</td>\n",
              "      <td>19.992891</td>\n",
              "      <td>13.873937</td>\n",
              "      <td>10.781300</td>\n",
              "      <td>9.225849</td>\n",
              "      <td>7.109163</td>\n",
              "      <td>5.246815</td>\n",
              "      <td>2.982701</td>\n",
              "      <td>1.273656</td>\n",
              "      <td>0.543781</td>\n",
              "      <td>1.282189</td>\n",
              "      <td>3.293089</td>\n",
              "      <td>6.418040</td>\n",
              "      <td>9.943302</td>\n",
              "      <td>15.601259</td>\n",
              "      <td>29.770186</td>\n",
              "      <td>47.95779</td>\n",
              "      <td>65.548630</td>\n",
              "      <td>81.953206</td>\n",
              "      <td>95.380068</td>\n",
              "      <td>99.839695</td>\n",
              "      <td>...</td>\n",
              "      <td>100.959986</td>\n",
              "      <td>99.845508</td>\n",
              "      <td>95.254768</td>\n",
              "      <td>88.936088</td>\n",
              "      <td>78.746716</td>\n",
              "      <td>77.006471</td>\n",
              "      <td>83.254417</td>\n",
              "      <td>74.352265</td>\n",
              "      <td>55.731472</td>\n",
              "      <td>37.615230</td>\n",
              "      <td>24.459985</td>\n",
              "      <td>8.250189</td>\n",
              "      <td>1.068809</td>\n",
              "      <td>4.510720</td>\n",
              "      <td>9.966929</td>\n",
              "      <td>20.759868</td>\n",
              "      <td>36.812501</td>\n",
              "      <td>48.744523</td>\n",
              "      <td>48.134392</td>\n",
              "      <td>42.364551</td>\n",
              "      <td>48.505545</td>\n",
              "      <td>54.988593</td>\n",
              "      <td>62.111179</td>\n",
              "      <td>68.500296</td>\n",
              "      <td>69.879112</td>\n",
              "      <td>67.431286</td>\n",
              "      <td>66.263181</td>\n",
              "      <td>66.730044</td>\n",
              "      <td>68.736883</td>\n",
              "      <td>66.101237</td>\n",
              "      <td>57.594809</td>\n",
              "      <td>48.940424</td>\n",
              "      <td>42.200677</td>\n",
              "      <td>43.856442</td>\n",
              "      <td>51.843586</td>\n",
              "      <td>45.241650</td>\n",
              "      <td>29.431486</td>\n",
              "      <td>17.600896</td>\n",
              "      <td>9.435678</td>\n",
              "      <td>2.179648</td>\n",
              "    </tr>\n",
              "    <tr>\n",
              "      <th>min</th>\n",
              "      <td>0.000000</td>\n",
              "      <td>0.000000</td>\n",
              "      <td>0.000000</td>\n",
              "      <td>0.000000</td>\n",
              "      <td>0.000000</td>\n",
              "      <td>0.000000</td>\n",
              "      <td>0.000000</td>\n",
              "      <td>0.000000</td>\n",
              "      <td>0.000000</td>\n",
              "      <td>0.000000</td>\n",
              "      <td>0.000000</td>\n",
              "      <td>0.000000</td>\n",
              "      <td>0.000000</td>\n",
              "      <td>0.000000</td>\n",
              "      <td>0.000000</td>\n",
              "      <td>0.000000</td>\n",
              "      <td>0.000000</td>\n",
              "      <td>0.000000</td>\n",
              "      <td>0.000000</td>\n",
              "      <td>0.000000</td>\n",
              "      <td>0.000000</td>\n",
              "      <td>0.000000</td>\n",
              "      <td>0.000000</td>\n",
              "      <td>0.000000</td>\n",
              "      <td>0.000000</td>\n",
              "      <td>0.000000</td>\n",
              "      <td>0.000000</td>\n",
              "      <td>0.000000</td>\n",
              "      <td>0.000000</td>\n",
              "      <td>0.000000</td>\n",
              "      <td>0.000000</td>\n",
              "      <td>0.000000</td>\n",
              "      <td>0.000000</td>\n",
              "      <td>0.000000</td>\n",
              "      <td>0.000000</td>\n",
              "      <td>0.00000</td>\n",
              "      <td>0.000000</td>\n",
              "      <td>0.000000</td>\n",
              "      <td>0.000000</td>\n",
              "      <td>0.000000</td>\n",
              "      <td>...</td>\n",
              "      <td>0.000000</td>\n",
              "      <td>0.000000</td>\n",
              "      <td>0.000000</td>\n",
              "      <td>0.000000</td>\n",
              "      <td>0.000000</td>\n",
              "      <td>0.000000</td>\n",
              "      <td>0.000000</td>\n",
              "      <td>0.000000</td>\n",
              "      <td>0.000000</td>\n",
              "      <td>0.000000</td>\n",
              "      <td>0.000000</td>\n",
              "      <td>0.000000</td>\n",
              "      <td>0.000000</td>\n",
              "      <td>0.000000</td>\n",
              "      <td>0.000000</td>\n",
              "      <td>0.000000</td>\n",
              "      <td>0.000000</td>\n",
              "      <td>0.000000</td>\n",
              "      <td>0.000000</td>\n",
              "      <td>0.000000</td>\n",
              "      <td>0.000000</td>\n",
              "      <td>0.000000</td>\n",
              "      <td>0.000000</td>\n",
              "      <td>0.000000</td>\n",
              "      <td>0.000000</td>\n",
              "      <td>0.000000</td>\n",
              "      <td>0.000000</td>\n",
              "      <td>0.000000</td>\n",
              "      <td>0.000000</td>\n",
              "      <td>0.000000</td>\n",
              "      <td>0.000000</td>\n",
              "      <td>0.000000</td>\n",
              "      <td>0.000000</td>\n",
              "      <td>0.000000</td>\n",
              "      <td>0.000000</td>\n",
              "      <td>0.000000</td>\n",
              "      <td>0.000000</td>\n",
              "      <td>0.000000</td>\n",
              "      <td>0.000000</td>\n",
              "      <td>0.000000</td>\n",
              "    </tr>\n",
              "    <tr>\n",
              "      <th>25%</th>\n",
              "      <td>0.000000</td>\n",
              "      <td>0.000000</td>\n",
              "      <td>0.000000</td>\n",
              "      <td>0.000000</td>\n",
              "      <td>0.000000</td>\n",
              "      <td>0.000000</td>\n",
              "      <td>0.000000</td>\n",
              "      <td>0.000000</td>\n",
              "      <td>0.000000</td>\n",
              "      <td>0.000000</td>\n",
              "      <td>0.000000</td>\n",
              "      <td>0.000000</td>\n",
              "      <td>0.000000</td>\n",
              "      <td>0.000000</td>\n",
              "      <td>0.000000</td>\n",
              "      <td>0.000000</td>\n",
              "      <td>0.000000</td>\n",
              "      <td>0.000000</td>\n",
              "      <td>0.000000</td>\n",
              "      <td>0.000000</td>\n",
              "      <td>0.000000</td>\n",
              "      <td>0.000000</td>\n",
              "      <td>0.000000</td>\n",
              "      <td>0.000000</td>\n",
              "      <td>0.000000</td>\n",
              "      <td>0.000000</td>\n",
              "      <td>0.000000</td>\n",
              "      <td>0.000000</td>\n",
              "      <td>0.000000</td>\n",
              "      <td>0.000000</td>\n",
              "      <td>0.000000</td>\n",
              "      <td>0.000000</td>\n",
              "      <td>0.000000</td>\n",
              "      <td>0.000000</td>\n",
              "      <td>0.000000</td>\n",
              "      <td>0.00000</td>\n",
              "      <td>0.000000</td>\n",
              "      <td>0.000000</td>\n",
              "      <td>0.000000</td>\n",
              "      <td>0.000000</td>\n",
              "      <td>...</td>\n",
              "      <td>0.000000</td>\n",
              "      <td>0.000000</td>\n",
              "      <td>0.000000</td>\n",
              "      <td>0.000000</td>\n",
              "      <td>0.000000</td>\n",
              "      <td>0.000000</td>\n",
              "      <td>0.000000</td>\n",
              "      <td>0.000000</td>\n",
              "      <td>0.000000</td>\n",
              "      <td>0.000000</td>\n",
              "      <td>0.000000</td>\n",
              "      <td>0.000000</td>\n",
              "      <td>0.000000</td>\n",
              "      <td>0.000000</td>\n",
              "      <td>0.000000</td>\n",
              "      <td>0.000000</td>\n",
              "      <td>0.000000</td>\n",
              "      <td>0.000000</td>\n",
              "      <td>0.000000</td>\n",
              "      <td>0.000000</td>\n",
              "      <td>0.000000</td>\n",
              "      <td>0.000000</td>\n",
              "      <td>0.000000</td>\n",
              "      <td>0.000000</td>\n",
              "      <td>0.000000</td>\n",
              "      <td>0.000000</td>\n",
              "      <td>0.000000</td>\n",
              "      <td>0.000000</td>\n",
              "      <td>0.000000</td>\n",
              "      <td>0.000000</td>\n",
              "      <td>0.000000</td>\n",
              "      <td>0.000000</td>\n",
              "      <td>0.000000</td>\n",
              "      <td>0.000000</td>\n",
              "      <td>0.000000</td>\n",
              "      <td>0.000000</td>\n",
              "      <td>0.000000</td>\n",
              "      <td>0.000000</td>\n",
              "      <td>0.000000</td>\n",
              "      <td>0.000000</td>\n",
              "    </tr>\n",
              "    <tr>\n",
              "      <th>50%</th>\n",
              "      <td>0.000000</td>\n",
              "      <td>0.000000</td>\n",
              "      <td>0.000000</td>\n",
              "      <td>0.000000</td>\n",
              "      <td>0.000000</td>\n",
              "      <td>0.000000</td>\n",
              "      <td>0.000000</td>\n",
              "      <td>0.000000</td>\n",
              "      <td>0.000000</td>\n",
              "      <td>0.000000</td>\n",
              "      <td>0.000000</td>\n",
              "      <td>0.000000</td>\n",
              "      <td>0.000000</td>\n",
              "      <td>0.000000</td>\n",
              "      <td>0.000000</td>\n",
              "      <td>0.000000</td>\n",
              "      <td>0.000000</td>\n",
              "      <td>0.000000</td>\n",
              "      <td>0.000000</td>\n",
              "      <td>0.000000</td>\n",
              "      <td>0.000000</td>\n",
              "      <td>0.000000</td>\n",
              "      <td>0.000000</td>\n",
              "      <td>0.000000</td>\n",
              "      <td>0.000000</td>\n",
              "      <td>0.000000</td>\n",
              "      <td>0.000000</td>\n",
              "      <td>0.000000</td>\n",
              "      <td>0.000000</td>\n",
              "      <td>0.000000</td>\n",
              "      <td>0.000000</td>\n",
              "      <td>0.000000</td>\n",
              "      <td>0.000000</td>\n",
              "      <td>0.000000</td>\n",
              "      <td>0.000000</td>\n",
              "      <td>0.00000</td>\n",
              "      <td>0.000000</td>\n",
              "      <td>0.000000</td>\n",
              "      <td>4.000000</td>\n",
              "      <td>81.000000</td>\n",
              "      <td>...</td>\n",
              "      <td>39.000000</td>\n",
              "      <td>32.000000</td>\n",
              "      <td>3.000000</td>\n",
              "      <td>0.000000</td>\n",
              "      <td>0.000000</td>\n",
              "      <td>0.000000</td>\n",
              "      <td>0.000000</td>\n",
              "      <td>0.000000</td>\n",
              "      <td>0.000000</td>\n",
              "      <td>0.000000</td>\n",
              "      <td>0.000000</td>\n",
              "      <td>0.000000</td>\n",
              "      <td>0.000000</td>\n",
              "      <td>0.000000</td>\n",
              "      <td>0.000000</td>\n",
              "      <td>0.000000</td>\n",
              "      <td>0.000000</td>\n",
              "      <td>0.000000</td>\n",
              "      <td>0.000000</td>\n",
              "      <td>0.000000</td>\n",
              "      <td>0.000000</td>\n",
              "      <td>0.000000</td>\n",
              "      <td>0.000000</td>\n",
              "      <td>0.000000</td>\n",
              "      <td>0.000000</td>\n",
              "      <td>0.000000</td>\n",
              "      <td>0.000000</td>\n",
              "      <td>0.000000</td>\n",
              "      <td>0.000000</td>\n",
              "      <td>0.000000</td>\n",
              "      <td>0.000000</td>\n",
              "      <td>0.000000</td>\n",
              "      <td>0.000000</td>\n",
              "      <td>0.000000</td>\n",
              "      <td>0.000000</td>\n",
              "      <td>0.000000</td>\n",
              "      <td>0.000000</td>\n",
              "      <td>0.000000</td>\n",
              "      <td>0.000000</td>\n",
              "      <td>0.000000</td>\n",
              "    </tr>\n",
              "    <tr>\n",
              "      <th>75%</th>\n",
              "      <td>0.000000</td>\n",
              "      <td>0.000000</td>\n",
              "      <td>0.000000</td>\n",
              "      <td>0.000000</td>\n",
              "      <td>0.000000</td>\n",
              "      <td>0.000000</td>\n",
              "      <td>0.000000</td>\n",
              "      <td>0.000000</td>\n",
              "      <td>0.000000</td>\n",
              "      <td>0.000000</td>\n",
              "      <td>49.000000</td>\n",
              "      <td>91.000000</td>\n",
              "      <td>106.000000</td>\n",
              "      <td>104.000000</td>\n",
              "      <td>103.000000</td>\n",
              "      <td>109.000000</td>\n",
              "      <td>103.000000</td>\n",
              "      <td>77.000000</td>\n",
              "      <td>21.000000</td>\n",
              "      <td>0.000000</td>\n",
              "      <td>0.000000</td>\n",
              "      <td>0.000000</td>\n",
              "      <td>0.000000</td>\n",
              "      <td>0.000000</td>\n",
              "      <td>0.000000</td>\n",
              "      <td>0.000000</td>\n",
              "      <td>0.000000</td>\n",
              "      <td>0.000000</td>\n",
              "      <td>0.000000</td>\n",
              "      <td>0.000000</td>\n",
              "      <td>0.000000</td>\n",
              "      <td>0.000000</td>\n",
              "      <td>0.000000</td>\n",
              "      <td>0.000000</td>\n",
              "      <td>0.000000</td>\n",
              "      <td>0.00000</td>\n",
              "      <td>8.000000</td>\n",
              "      <td>100.000000</td>\n",
              "      <td>177.000000</td>\n",
              "      <td>203.000000</td>\n",
              "      <td>...</td>\n",
              "      <td>201.000000</td>\n",
              "      <td>197.000000</td>\n",
              "      <td>176.000000</td>\n",
              "      <td>134.000000</td>\n",
              "      <td>70.000000</td>\n",
              "      <td>61.000000</td>\n",
              "      <td>70.000000</td>\n",
              "      <td>22.000000</td>\n",
              "      <td>0.000000</td>\n",
              "      <td>0.000000</td>\n",
              "      <td>0.000000</td>\n",
              "      <td>0.000000</td>\n",
              "      <td>0.000000</td>\n",
              "      <td>0.000000</td>\n",
              "      <td>0.000000</td>\n",
              "      <td>0.000000</td>\n",
              "      <td>0.000000</td>\n",
              "      <td>0.000000</td>\n",
              "      <td>0.000000</td>\n",
              "      <td>0.000000</td>\n",
              "      <td>3.000000</td>\n",
              "      <td>42.250000</td>\n",
              "      <td>81.000000</td>\n",
              "      <td>106.000000</td>\n",
              "      <td>109.000000</td>\n",
              "      <td>94.000000</td>\n",
              "      <td>83.000000</td>\n",
              "      <td>91.000000</td>\n",
              "      <td>104.000000</td>\n",
              "      <td>93.000000</td>\n",
              "      <td>57.250000</td>\n",
              "      <td>9.000000</td>\n",
              "      <td>0.000000</td>\n",
              "      <td>0.000000</td>\n",
              "      <td>1.000000</td>\n",
              "      <td>0.000000</td>\n",
              "      <td>0.000000</td>\n",
              "      <td>0.000000</td>\n",
              "      <td>0.000000</td>\n",
              "      <td>0.000000</td>\n",
              "    </tr>\n",
              "    <tr>\n",
              "      <th>max</th>\n",
              "      <td>16.000000</td>\n",
              "      <td>45.000000</td>\n",
              "      <td>218.000000</td>\n",
              "      <td>185.000000</td>\n",
              "      <td>227.000000</td>\n",
              "      <td>230.000000</td>\n",
              "      <td>224.000000</td>\n",
              "      <td>225.000000</td>\n",
              "      <td>243.000000</td>\n",
              "      <td>255.000000</td>\n",
              "      <td>255.000000</td>\n",
              "      <td>255.000000</td>\n",
              "      <td>255.000000</td>\n",
              "      <td>255.000000</td>\n",
              "      <td>255.000000</td>\n",
              "      <td>255.000000</td>\n",
              "      <td>255.000000</td>\n",
              "      <td>255.000000</td>\n",
              "      <td>255.000000</td>\n",
              "      <td>255.000000</td>\n",
              "      <td>251.000000</td>\n",
              "      <td>240.000000</td>\n",
              "      <td>222.000000</td>\n",
              "      <td>220.000000</td>\n",
              "      <td>224.000000</td>\n",
              "      <td>255.000000</td>\n",
              "      <td>185.000000</td>\n",
              "      <td>140.000000</td>\n",
              "      <td>105.000000</td>\n",
              "      <td>167.000000</td>\n",
              "      <td>248.000000</td>\n",
              "      <td>255.000000</td>\n",
              "      <td>255.000000</td>\n",
              "      <td>255.000000</td>\n",
              "      <td>255.000000</td>\n",
              "      <td>255.00000</td>\n",
              "      <td>255.000000</td>\n",
              "      <td>255.000000</td>\n",
              "      <td>255.000000</td>\n",
              "      <td>255.000000</td>\n",
              "      <td>...</td>\n",
              "      <td>255.000000</td>\n",
              "      <td>255.000000</td>\n",
              "      <td>255.000000</td>\n",
              "      <td>255.000000</td>\n",
              "      <td>255.000000</td>\n",
              "      <td>255.000000</td>\n",
              "      <td>255.000000</td>\n",
              "      <td>255.000000</td>\n",
              "      <td>255.000000</td>\n",
              "      <td>255.000000</td>\n",
              "      <td>255.000000</td>\n",
              "      <td>237.000000</td>\n",
              "      <td>103.000000</td>\n",
              "      <td>229.000000</td>\n",
              "      <td>230.000000</td>\n",
              "      <td>252.000000</td>\n",
              "      <td>250.000000</td>\n",
              "      <td>255.000000</td>\n",
              "      <td>255.000000</td>\n",
              "      <td>255.000000</td>\n",
              "      <td>255.000000</td>\n",
              "      <td>255.000000</td>\n",
              "      <td>255.000000</td>\n",
              "      <td>255.000000</td>\n",
              "      <td>255.000000</td>\n",
              "      <td>255.000000</td>\n",
              "      <td>255.000000</td>\n",
              "      <td>255.000000</td>\n",
              "      <td>255.000000</td>\n",
              "      <td>255.000000</td>\n",
              "      <td>255.000000</td>\n",
              "      <td>255.000000</td>\n",
              "      <td>255.000000</td>\n",
              "      <td>255.000000</td>\n",
              "      <td>255.000000</td>\n",
              "      <td>255.000000</td>\n",
              "      <td>255.000000</td>\n",
              "      <td>255.000000</td>\n",
              "      <td>255.000000</td>\n",
              "      <td>170.000000</td>\n",
              "    </tr>\n",
              "  </tbody>\n",
              "</table>\n",
              "<p>8 rows × 784 columns</p>\n",
              "</div>"
            ],
            "text/plain": [
              "                0             1    ...           782           783\n",
              "count  49000.000000  49000.000000  ...  49000.000000  49000.000000\n",
              "mean       0.000592      0.007265  ...      0.863714      0.076837\n",
              "std        0.079922      0.340214  ...      9.435678      2.179648\n",
              "min        0.000000      0.000000  ...      0.000000      0.000000\n",
              "25%        0.000000      0.000000  ...      0.000000      0.000000\n",
              "50%        0.000000      0.000000  ...      0.000000      0.000000\n",
              "75%        0.000000      0.000000  ...      0.000000      0.000000\n",
              "max       16.000000     45.000000  ...    255.000000    170.000000\n",
              "\n",
              "[8 rows x 784 columns]"
            ]
          },
          "metadata": {
            "tags": []
          },
          "execution_count": 4
        }
      ]
    },
    {
      "cell_type": "code",
      "metadata": {
        "colab": {
          "base_uri": "https://localhost:8080/",
          "height": 594
        },
        "id": "yY8uMDe9quTE",
        "outputId": "7d95482e-7504-4696-ad8b-39b045fbb68f"
      },
      "source": [
        "#implement elbow method from scratch\n",
        "def elbow():\n",
        "  distances = np.zeros((14,X_train.shape[0]))\n",
        "  for c in range(1,14):\n",
        "    k = Kmeans()\n",
        "    k.fit(X_train,y_train,c)\n",
        "    k.train(10)\n",
        "    centers = k.get_centers()\n",
        "    \n",
        "    j=0\n",
        "    for x in X_train:\n",
        "      i=0\n",
        "      dist = np.zeros(centers.shape[0])\n",
        "      for y in centers:\n",
        "        dist[i] = np.sum((x-y)**2)**0.5\n",
        "        i=i+1\n",
        "      distances[c][j] = np.min(dist)\n",
        "      j=j+1\n",
        "  mean_dist = np.mean(distances,axis=1)\n",
        "  plt.figure(figsize=(16,10))\n",
        "  x_axis = [x for x in range(1,14)]\n",
        "  plt.plot(x_axis,mean_dist[1:])\n",
        "  plt.show()\n",
        "  \n",
        "  \n",
        "\n",
        "elbow()"
      ],
      "execution_count": null,
      "outputs": [
        {
          "output_type": "display_data",
          "data": {
            "image/png": "[encoded data removed]",
            "text/plain": [
              "<Figure size 1152x720 with 1 Axes>"
            ]
          },
          "metadata": {
            "tags": [],
            "needs_background": "light"
          }
        }
      ]
    },
    {
      "cell_type": "code",
      "metadata": {
        "colab": {
          "background_save": true
        },
        "id": "cCgVnY4_a8Gr",
        "outputId": "045ed290-728e-47db-eadf-3ad4f494bfa3"
      },
      "source": [
        "#implement silhouette method from scratch\r\n",
        "def compute_distances(b,a):\r\n",
        "  distances = -2 * b@a.T + np.sum(a**2,axis=1) +np.sum(b**2,axis=1)[:,np.newaxis]\r\n",
        "  return distances\r\n",
        "\r\n",
        "\r\n",
        "def get_dist(X_train,indices1,indices2):\r\n",
        "  dist = compute_distances(X_train[indices1, :] , X_train[indices2,:])\r\n",
        "  return np.mean(np.mean(dist,axis=1))\r\n",
        "  \r\n",
        "\r\n",
        "def silhouette():\r\n",
        "  silhouette_scores = []\r\n",
        "  for c in range(2,12):\r\n",
        "    k = Kmeans()\r\n",
        "    k.fit(X_train,y_train,c)\r\n",
        "    k.train(10)\r\n",
        "    centers = k.get_centers()\r\n",
        "    nearest_centers = np.zeros((c,c))\r\n",
        "    for i in range(c):\r\n",
        "      for j in range(c):\r\n",
        "        nearest_centers[i][j] = np.sum((centers[i]-centers[j])**2)**0.5\r\n",
        "        if nearest_centers[i][j] ==0:\r\n",
        "          nearest_centers[i][j]=2333332323232 #Random Large Number INT_MAX\r\n",
        "\r\n",
        "    nearest_centers = np.argmin(nearest_centers,1)\r\n",
        "    labels = k.get_labels()\r\n",
        "    coeffi = np.zeros(X_train.shape[0])\r\n",
        "    indices = []\r\n",
        "    for i in range(c):\r\n",
        "      indices.append(np.argwhere(labels==i).flatten())\r\n",
        "    \r\n",
        "    for i in range(c):\r\n",
        "      a = get_dist(X_train,indices[i],indices[i])\r\n",
        "      b = get_dist(X_train,indices[nearest_centers[i]],indices[i])\r\n",
        "      coeffi[i] = (b - a) / max(b,a)\r\n",
        "\r\n",
        "    silhouette_scores.append(np.mean(coeffi))\r\n",
        "  plt.figure()\r\n",
        "  plt.plot([x for x in range(2,12)],silhouette_scores)\r\n",
        "  plt.show()\r\n",
        "\r\n",
        "silhouette()"
      ],
      "execution_count": null,
      "outputs": [
        {
          "output_type": "display_data",
          "data": {
            "image/png": "[encoded data removed]",
            "text/plain": [
              "<Figure size 432x288 with 1 Axes>"
            ]
          },
          "metadata": {
            "tags": []
          }
        }
      ]
    },
    {
      "cell_type": "code",
      "metadata": {
        "id": "96a5vVyfEU_9"
      },
      "source": [
        "#implement Kmeans from scratch\n",
        "class Kmeans:\n",
        "  def __init__(self):\n",
        "    pass\n",
        "\n",
        "  def forgy_method(self):\n",
        "    indices = np.random.randint(self.m,size=self.K)\n",
        "    return self.X_train[indices,:]\n",
        "\n",
        "  def random_partition(self):\n",
        "    labels = np.random.randint(self.K,size=self.m)\n",
        "    centers = np.ones((self.K,self.n))\n",
        "    for i in range(self.K):\n",
        "      indices = np.argwhere(labels==i).flatten()\n",
        "      centers[i] = np.mean(X_train[indices,:],axis=0)\n",
        "    return centers\n",
        "\n",
        "  def fit(self,X_train,y_train,K,init='kmeanplusplus'):\n",
        "    self.X_train = X_train\n",
        "    self.y_train = y_train\n",
        "    self.m , self.n = self.X_train.shape\n",
        "    self.K = K\n",
        "    if init == 'forgy':\n",
        "      self.centers = self.forgy_method()\n",
        "    elif init == 'random-partition':\n",
        "      self.centers = self.random_partition()\n",
        "    else:\n",
        "      self.centers = np.ones((self.K ,self.n))\n",
        "      self.centers[0] = self.X_train[np.random.randint(self.m),:] \n",
        "      for k in range(self.K-1):\n",
        "        i=0\n",
        "        distances = np.ones(self.m)\n",
        "        for x in self.X_train:\n",
        "          dist = np.ones(k+1)\n",
        "          j=0\n",
        "          for y in range(k+1):\n",
        "            dist[j] = np.sum((x-self.centers[y])**2)\n",
        "            j=j+1\n",
        "          distances[i] = np.min(dist)\n",
        "          i=i+1\n",
        "        prob = np.cumsum(distances/np.sum(distances))\n",
        "        r = np.random.rand(1)\n",
        "        indice = np.searchsorted(prob,r,side='left')\n",
        "        self.centers[k+1] = self.X_train[indice,:]\n",
        "    \n",
        "    # print(self.centers.shape)\n",
        "    # self.centers = np.random.randint(256,size=(self.K,self.m)) #Random Intilization for centers\n",
        "  \n",
        "  def train(self,iter,d='euclidean'):\n",
        "    self.ypredicted = np.ones(self.m)\n",
        "    \n",
        "    for k in range(iter):\n",
        "      distances = np.zeros((self.m,self.K))\n",
        "      i=0\n",
        "      for x in self.X_train:\n",
        "        j=0\n",
        "        for y in self.centers:\n",
        "          if d=='euclidean':\n",
        "            distances[i][j] = np.sum((x-y)**2)\n",
        "          else:\n",
        "            distances[i][j] = np.sum(abs(x-y))\n",
        "          j=j+1\n",
        "        i=i+1\n",
        "      self.labels = np.argmin(distances,1)\n",
        "      old_center = np.copy(self.centers)\n",
        "      for i in range(self.K):\n",
        "        indices = np.argwhere(self.labels==i).flatten()\n",
        "        self.ypredicted[indices] = i\n",
        "        self.centers[i] = np.mean(self.X_train[indices,:],axis=0)\n",
        "\n",
        "      if np.all(old_center==self.centers):\n",
        "        break\n",
        "      \n",
        "      homogeneity_completeness_v_measure(self.y_train,self.ypredicted)\n",
        "\n",
        "  def get_prediction(self):\n",
        "    return self.ypredicted\n",
        "  def get_centers(self):\n",
        "    return self.centers\n",
        "  def get_labels(self):\n",
        "    return self.labels\n",
        "\n",
        "\n",
        "  "
      ],
      "execution_count": null,
      "outputs": []
    },
    {
      "cell_type": "code",
      "metadata": {
        "colab": {
          "base_uri": "https://localhost:8080/"
        },
        "id": "QtvCAQAINEBt",
        "outputId": "40499a89-7974-4898-fae0-c8252c32300e"
      },
      "source": [
        "#Random Partition\r\n",
        "k = Kmeans()\r\n",
        "k.fit(X_train,y_train,10,init='random-partition')\r\n",
        "k.train(10)\r\n",
        "ypredict = k.get_prediction()\r\n",
        "homogeneity_completeness_v_measure(y_train,ypredict)"
      ],
      "execution_count": null,
      "outputs": [
        {
          "output_type": "execute_result",
          "data": {
            "text/plain": [
              "(0.4885363579091503, 0.4972838518447486, 0.4928712952393522)"
            ]
          },
          "metadata": {
            "tags": []
          },
          "execution_count": 12
        }
      ]
    },
    {
      "cell_type": "code",
      "metadata": {
        "colab": {
          "base_uri": "https://localhost:8080/"
        },
        "id": "L-h_igC5KBmL",
        "outputId": "e9f0cff1-7124-401c-9a2c-f84df0b20fd9"
      },
      "source": [
        "#Forgy Method\r\n",
        "k = Kmeans()\r\n",
        "k.fit(X_train,y_train,10,init='forgy')\r\n",
        "k.train(10)\r\n",
        "ypredict = k.get_prediction()\r\n",
        "homogeneity_completeness_v_measure(y_train,ypredict)"
      ],
      "execution_count": null,
      "outputs": [
        {
          "output_type": "execute_result",
          "data": {
            "text/plain": [
              "(0.13782487786151898, 0.28336797071773423, 0.18545023300265953)"
            ]
          },
          "metadata": {
            "tags": []
          },
          "execution_count": 28
        }
      ]
    },
    {
      "cell_type": "code",
      "metadata": {
        "colab": {
          "base_uri": "https://localhost:8080/"
        },
        "id": "3mB5PRK2VIFW",
        "outputId": "d92b9a66-fad2-4f98-f290-1c1b1dae781b"
      },
      "source": [
        "#Kmeanplusplus\r\n",
        "k = Kmeans()\r\n",
        "k.fit(X_train,y_train,10)\r\n",
        "k.train(10)\r\n",
        "ypredict = k.get_prediction()\r\n",
        "homogeneity_completeness_v_measure(y_train,ypredict)"
      ],
      "execution_count": null,
      "outputs": [
        {
          "output_type": "execute_result",
          "data": {
            "text/plain": [
              "(0.5267984265739365, 0.5568952501697049, 0.5414289071750287)"
            ]
          },
          "metadata": {
            "tags": []
          },
          "execution_count": 13
        }
      ]
    },
    {
      "cell_type": "code",
      "metadata": {
        "colab": {
          "base_uri": "https://localhost:8080/"
        },
        "id": "m9XQyz4NQko_",
        "outputId": "7e3d1ac4-1d9c-42b8-f8da-352d782145a8"
      },
      "source": [
        "#Kmeans on test Data\r\n",
        "kt = Kmeans()\r\n",
        "kt.fit(X_test,y_test,10,init='random-partition')\r\n",
        "kt.train(10)\r\n",
        "ypredict = kt.get_prediction()\r\n",
        "homogeneity_completeness_v_measure(y_test,ypredict)"
      ],
      "execution_count": null,
      "outputs": [
        {
          "output_type": "execute_result",
          "data": {
            "text/plain": [
              "(0.4961968196302049, 0.5200867448043707, 0.5078609902489828)"
            ]
          },
          "metadata": {
            "tags": []
          },
          "execution_count": 29
        }
      ]
    },
    {
      "cell_type": "code",
      "metadata": {
        "colab": {
          "base_uri": "https://localhost:8080/"
        },
        "id": "EFgCYNg80QOM",
        "outputId": "2eac2262-1683-4276-bdcf-e8cab1339dbb"
      },
      "source": [
        "#Kmeans with manhattan\r\n",
        "k = Kmeans()\r\n",
        "k.fit(X_train,y_train,10,init='random-partition')\r\n",
        "k.train(10,'manhattan')\r\n",
        "ypredict = k.get_prediction()\r\n",
        "homogeneity_completeness_v_measure(y_train,ypredict)"
      ],
      "execution_count": null,
      "outputs": [
        {
          "output_type": "execute_result",
          "data": {
            "text/plain": [
              "(0.5050450266561571, 0.5434888012311748, 0.5235621566128736)"
            ]
          },
          "metadata": {
            "tags": []
          },
          "execution_count": 190
        }
      ]
    },
    {
      "cell_type": "code",
      "metadata": {
        "colab": {
          "base_uri": "https://localhost:8080/"
        },
        "id": "nDujM0gLF3Wa",
        "outputId": "bd72cb37-0aea-47a0-fb6c-087d09c3e381"
      },
      "source": [
        "#Kmeans with manhattan\r\n",
        "k = Kmeans()\r\n",
        "k.fit(X_train,y_train,10)\r\n",
        "k.train(10,'manhattan')\r\n",
        "ypredict = k.get_prediction()\r\n",
        "homogeneity_completeness_v_measure(y_train,ypredict)"
      ],
      "execution_count": null,
      "outputs": [
        {
          "output_type": "execute_result",
          "data": {
            "text/plain": [
              "(0.4914151112190731, 0.5261559189303235, 0.5081924735647347)"
            ]
          },
          "metadata": {
            "tags": []
          },
          "execution_count": 180
        }
      ]
    },
    {
      "cell_type": "code",
      "metadata": {
        "colab": {
          "base_uri": "https://localhost:8080/"
        },
        "id": "8i6KD0RQX57v",
        "outputId": "8a994bc7-a6a9-4621-eb9d-8175d0cda8e4"
      },
      "source": [
        "t = TSNE(learning_rate=50)\r\n",
        "t_features = t.fit_transform(X_train)\r\n",
        "t_features"
      ],
      "execution_count": null,
      "outputs": [
        {
          "output_type": "execute_result",
          "data": {
            "text/plain": [
              "array([[ 25.592583  ,  15.855554  ],\n",
              "       [ -6.1632986 ,   9.076665  ],\n",
              "       [  4.7809    , -29.34535   ],\n",
              "       ...,\n",
              "       [ -0.31554958,  32.114822  ],\n",
              "       [ -2.7385201 , -17.819986  ],\n",
              "       [  1.9321216 , -16.338081  ]], dtype=float32)"
            ]
          },
          "metadata": {
            "tags": []
          },
          "execution_count": 45
        }
      ]
    },
    {
      "cell_type": "code",
      "metadata": {
        "colab": {
          "base_uri": "https://localhost:8080/",
          "height": 265
        },
        "id": "h08FX5CLszEc",
        "outputId": "4d55d6c4-5964-48d0-bca7-d06a2cbb0050"
      },
      "source": [
        "x = t_features[:,0]\r\n",
        "y = t_features[:,1]\r\n",
        "plt.figure()\r\n",
        "plt.scatter(x,y,c=y_train)\r\n",
        "plt.show()"
      ],
      "execution_count": null,
      "outputs": [
        {
          "output_type": "display_data",
          "data": {
            "image/png": "[encoded data removed]",
            "text/plain": [
              "<Figure size 432x288 with 1 Axes>"
            ]
          },
          "metadata": {
            "tags": [],
            "needs_background": "light"
          }
        }
      ]
    },
    {
      "cell_type": "code",
      "metadata": {
        "id": "FQd_iVKjtQju"
      },
      "source": [
        "x = t_features[:,0]\r\n",
        "y = t_features[:,1]\r\n",
        "plt.figure()\r\n",
        "plt.scatter(x,y,c=y_)\r\n",
        "plt.show()"
      ],
      "execution_count": null,
      "outputs": []
    },
    {
      "cell_type": "code",
      "metadata": {
        "id": "mtG2GCYsRkoe",
        "colab": {
          "base_uri": "https://localhost:8080/"
        },
        "outputId": "00f4c524-10e2-4b78-ef0e-c48d9288be5c"
      },
      "source": [
        "#sklearn Implementation Kmeans\r\n",
        "\r\n",
        "from sklearn.cluster import KMeans\r\n",
        "from sklearn.metrics import confusion_matrix\r\n",
        "kmeans = KMeans(n_clusters=10)\r\n",
        "kmeans.fit(X)\r\n",
        "y_kmeans = kmeans.predict(X)\r\n",
        "print(kmeans.cluster_centers_)\r\n",
        "print(homogeneity_completeness_v_measure(y,y_kmeans))\r\n",
        "confusion_matrix(y, y_kmeans)\r\n"
      ],
      "execution_count": null,
      "outputs": [
        {
          "output_type": "stream",
          "text": [
            "[[ 1.08420217e-17  1.82252764e-02  1.82252764e-02 ...  1.21819540e+01\n",
            "   5.59635494e+00  4.26650732e-01]\n",
            " [ 2.00400802e-03  2.30460922e-02  9.88643955e-02 ...  9.01636607e+00\n",
            "   3.80427522e+00  4.84635939e-01]\n",
            " [ 4.44286476e-04  9.33001599e-03  5.21592323e-02 ...  6.36866892e+00\n",
            "   8.93193531e-01  5.06486583e-02]\n",
            " ...\n",
            " [ 8.81456366e-17  2.02962647e-16 -2.73392420e-15 ...  5.41788836e-14\n",
            "  -1.13242749e-13  6.70297151e-15]\n",
            " [ 1.56372166e-03  3.01574891e-03  1.99932983e-02 ...  3.13950631e+00\n",
            "   1.34312521e+00  8.47760527e-02]\n",
            " [ 3.40947835e-04  8.63734515e-03  6.23934538e-02 ...  2.56836004e+00\n",
            "   5.49607910e-01  5.79611319e-02]]\n",
            "(0.5008219374443051, 0.524233562045191, 0.5122603963347495)\n"
          ],
          "name": "stdout"
        },
        {
          "output_type": "execute_result",
          "data": {
            "text/plain": [
              "array([[   0,   33,  202,  229, 3999,   27,    0,    3,  670, 1837],\n",
              "       [   0,    0,   72, 6307,  288,    3,    0,    0,  173,  157],\n",
              "       [   1,   30, 4090,   13,  136,   30,    0,    1,  562, 2137],\n",
              "       [   0,   10,   59, 3712, 1962,    7,    0,    0,  609,  641],\n",
              "       [   0,   34, 4223,  182, 1016,   19,    0,    0,  289, 1237],\n",
              "       [ 298,   13,    0,    1,    2,    4,  542, 1669, 4435,   36],\n",
              "       [   1,   17, 2270,   72, 1248,   76,    0,    6,  874, 2436],\n",
              "       [  24,    0,    0,    0,    0,    1,  911, 5490,  574,    0],\n",
              "       [   7, 2855,  336,   32,   26, 2555,   63,  277,  568,  281],\n",
              "       [3016,    2,    1,    2,    2,    4, 3533,  203,  199,   38]])"
            ]
          },
          "metadata": {
            "tags": []
          },
          "execution_count": 9
        }
      ]
    },
    {
      "cell_type": "code",
      "metadata": {
        "id": "7kIB_Obh_NWs",
        "colab": {
          "base_uri": "https://localhost:8080/"
        },
        "outputId": "6f84d10e-c043-4e01-d7aa-1a3c08f63ceb"
      },
      "source": [
        "#sklearn Implementation Kmeans++\r\n",
        "\r\n",
        "from sklearn.cluster import KMeans\r\n",
        "from sklearn.metrics import confusion_matrix\r\n",
        "kmeans = KMeans(n_clusters=10, init='k-means++')\r\n",
        "kmeans.fit(X)\r\n",
        "y_kmeans = kmeans.predict(X)\r\n",
        "print(kmeans.cluster_centers_)\r\n",
        "print(homogeneity_completeness_v_measure(y,y_kmeans))\r\n",
        "confusion_matrix(y, y_kmeans)"
      ],
      "execution_count": null,
      "outputs": [
        {
          "output_type": "stream",
          "text": [
            "[[ 2.99539171e-03  1.08294931e-02  7.75345622e-02 ...  8.26036866e-02\n",
            "   2.21198157e-02  2.64976959e-03]\n",
            " [ 8.81456366e-17  2.02962647e-16 -2.73392420e-15 ...  5.41788836e-14\n",
            "  -1.13242749e-13  6.70297151e-15]\n",
            " [ 4.44286476e-04  9.33001599e-03  5.21592323e-02 ...  6.36866892e+00\n",
            "   8.93193531e-01  5.06486583e-02]\n",
            " ...\n",
            " [-2.04914211e-17  1.46735143e-03  2.05429200e-02 ...  6.31327953e-01\n",
            "   4.84592810e-01  1.33162142e-01]\n",
            " [ 1.56372166e-03  3.01574891e-03  1.99932983e-02 ...  3.13950631e+00\n",
            "   1.34312521e+00  8.47760527e-02]\n",
            " [ 8.97719399e-17  2.10768902e-16 -4.16333634e-15 ... -2.38919995e-13\n",
            "  -1.26787469e-13 -4.23272528e-15]]\n",
            "(0.5008219374443051, 0.5242335620451909, 0.5122603963347494)\n"
          ],
          "name": "stdout"
        },
        {
          "output_type": "execute_result",
          "data": {
            "text/plain": [
              "array([[3999,    3,  202,    0,   33,    0, 1837,   27,  670,  229],\n",
              "       [ 288,    0,   72,    0,    0,    0,  157,    3,  173, 6307],\n",
              "       [ 136,    1, 4090,    1,   30,    0, 2137,   30,  562,   13],\n",
              "       [1962,    0,   59,    0,   10,    0,  641,    7,  609, 3712],\n",
              "       [1016,    0, 4223,    0,   34,    0, 1237,   19,  289,  182],\n",
              "       [   2, 1669,    0,  298,   13,  542,   36,    4, 4435,    1],\n",
              "       [1248,    6, 2270,    1,   17,    0, 2436,   76,  874,   72],\n",
              "       [   0, 5490,    0,   24,    0,  911,    0,    1,  574,    0],\n",
              "       [  26,  277,  336,    7, 2855,   63,  281, 2555,  568,   32],\n",
              "       [   2,  203,    1, 3016,    2, 3533,   38,    4,  199,    2]])"
            ]
          },
          "metadata": {
            "tags": []
          },
          "execution_count": 10
        }
      ]
    },
    {
      "cell_type": "markdown",
      "metadata": {
        "id": "hUZ-2cs44VTi"
      },
      "source": [
        "# PART 2"
      ]
    },
    {
      "cell_type": "code",
      "metadata": {
        "colab": {
          "base_uri": "https://localhost:8080/"
        },
        "id": "mWO10Lapx7jx",
        "outputId": "c14d2f5f-a59a-46d0-b323-a40d77e66aef"
      },
      "source": [
        "import pandas as pd\r\n",
        "\r\n",
        "!gdown --id 15NPkfXFoTkiRBlcI4ffe_Lp_BFOyf8UY"
      ],
      "execution_count": null,
      "outputs": [
        {
          "output_type": "stream",
          "text": [
            "Downloading...\n",
            "From: https://drive.google.com/uc?id=15NPkfXFoTkiRBlcI4ffe_Lp_BFOyf8UY\n",
            "To: /content/data.csv\n",
            "191MB [00:01, 122MB/s]\n"
          ],
          "name": "stdout"
        }
      ]
    },
    {
      "cell_type": "code",
      "metadata": {
        "colab": {
          "base_uri": "https://localhost:8080/"
        },
        "id": "9XC62k6J5qsK",
        "outputId": "eda70024-b740-4290-f9e4-445e4da1813a"
      },
      "source": [
        "# Loading and Cleaning The Dataset\r\n",
        "df = pd.read_csv('data.csv', header=None)\r\n",
        "df = df.reset_index(drop=True)\r\n",
        "df[0] = df[0].apply(lambda x: x.strip('['))\r\n",
        "df[191] = df[191].apply(lambda x: x.strip(']'))\r\n",
        "df = df.astype({0:'float64',191:'float64', 192:'category'})\r\n",
        "df[192] = df[192].cat.codes\r\n",
        "df.info()"
      ],
      "execution_count": null,
      "outputs": [
        {
          "output_type": "stream",
          "text": [
            "<class 'pandas.core.frame.DataFrame'>\n",
            "RangeIndex: 60000 entries, 0 to 59999\n",
            "Columns: 193 entries, 0 to 192\n",
            "dtypes: float64(192), int8(1)\n",
            "memory usage: 87.9 MB\n"
          ],
          "name": "stdout"
        }
      ]
    },
    {
      "cell_type": "code",
      "metadata": {
        "id": "6u3fTLiOSb7h"
      },
      "source": [
        "X = df[[x for x in df.columns if x is not 192]].to_numpy()\r\n",
        "y = df[192].to_numpy()"
      ],
      "execution_count": null,
      "outputs": []
    },
    {
      "cell_type": "code",
      "metadata": {
        "colab": {
          "base_uri": "https://localhost:8080/"
        },
        "id": "xWEDWIaRSuJb",
        "outputId": "46577e61-346b-43da-ee86-04b86088dce3"
      },
      "source": [
        "#Splitting The Datasets\r\n",
        "X_train , X_test , y_train , y_test = train_test_split(X , y , test_size=0.3 , random_state=1)\r\n",
        "print(X_train.shape)\r\n",
        "print(X_test.shape)\r\n",
        "print(y_train.shape)\r\n",
        "print(y_test.shape)"
      ],
      "execution_count": null,
      "outputs": [
        {
          "output_type": "stream",
          "text": [
            "(42000, 192)\n",
            "(18000, 192)\n",
            "(42000,)\n",
            "(18000,)\n"
          ],
          "name": "stdout"
        }
      ]
    },
    {
      "cell_type": "code",
      "metadata": {
        "colab": {
          "base_uri": "https://localhost:8080/",
          "height": 592
        },
        "id": "LZdRggRoS95b",
        "outputId": "aa8a7146-230a-4515-80a8-e5223b54d411"
      },
      "source": [
        "#implement elbow method from scratch\r\n",
        "\r\n",
        "def elbow():\r\n",
        "  distances = np.zeros((13,X_train.shape[0]))\r\n",
        "  for c in range(1,13):\r\n",
        "    k = Kmeans()\r\n",
        "    k.fit(X_train,y_train,c)\r\n",
        "    k.train(10)\r\n",
        "    centers = k.get_centers()\r\n",
        "    \r\n",
        "    j=0\r\n",
        "    for x in X_train:\r\n",
        "      i=0\r\n",
        "      dist = np.zeros(centers.shape[0])\r\n",
        "      for y in centers:\r\n",
        "        dist[i] = np.sum((x-y)**2)**0.5\r\n",
        "        i=i+1\r\n",
        "      distances[c][j] = np.min(dist)\r\n",
        "      j=j+1\r\n",
        "  mean_dist = np.mean(distances,axis=1)\r\n",
        "  plt.figure(figsize=(16,10))\r\n",
        "  x_axis = [x for x in range(1,13)]\r\n",
        "  plt.plot(x_axis,mean_dist[1:])\r\n",
        "  plt.show()\r\n",
        "  \r\n",
        "  \r\n",
        "elbow()"
      ],
      "execution_count": null,
      "outputs": [
        {
          "output_type": "display_data",
          "data": {
            "image/png": "[encoded data removed]",
            "text/plain": [
              "<Figure size 1152x720 with 1 Axes>"
            ]
          },
          "metadata": {
            "tags": [],
            "needs_background": "light"
          }
        }
      ]
    },
    {
      "cell_type": "code",
      "metadata": {
        "colab": {
          "base_uri": "https://localhost:8080/",
          "height": 433
        },
        "id": "86pXclT_udhR",
        "outputId": "92a6b613-56a0-478b-ac31-e85339cfad26"
      },
      "source": [
        "#implement silhouette method from scratch\r\n",
        "def compute_distances(b,a):\r\n",
        "  distances = -2 * b@a.T + np.sum(a**2,axis=1) +np.sum(b**2,axis=1)[:,np.newaxis]\r\n",
        "  return distances\r\n",
        "\r\n",
        "\r\n",
        "def get_dist(X_train,indices1,indices2):\r\n",
        "  dist = compute_distances(X_train[indices1, :] , X_train[indices2,:])\r\n",
        "  return np.mean(np.mean(dist,axis=1))\r\n",
        "\r\n",
        "def silhouette():\r\n",
        "  silhouette_scores = []\r\n",
        "  for c in range(2,12):\r\n",
        "    k = Kmeans()\r\n",
        "    k.fit(X_train,y_train,c,init='random-partition')\r\n",
        "    k.train(10)\r\n",
        "    centers = k.get_centers()\r\n",
        "    nearest_centers = np.zeros((c,c))\r\n",
        "    for i in range(c):\r\n",
        "      for j in range(c):\r\n",
        "        nearest_centers[i][j] = np.sum((centers[i]-centers[j])**2)**0.5\r\n",
        "        if nearest_centers[i][j] ==0:\r\n",
        "          nearest_centers[i][j]=2333332323232 #Random Large Number INT_MAX\r\n",
        "\r\n",
        "    nearest_centers = np.argmin(nearest_centers,1)\r\n",
        "    labels = k.get_labels()\r\n",
        "    coeffi = np.zeros(X_train.shape[0])\r\n",
        "    indices = []\r\n",
        "    for i in range(c):\r\n",
        "      indices.append(np.argwhere(labels==i).flatten())\r\n",
        "    \r\n",
        "    for i in range(c):\r\n",
        "      a = get_dist(X_train,indices[i],indices[i])\r\n",
        "      b = get_dist(X_train,indices[nearest_centers[i]],indices[i])\r\n",
        "      coeffi[i] = (b - a) / max(b,a)\r\n",
        "\r\n",
        "    print(np.mean(coeffi))\r\n",
        "    silhouette_scores.append(np.mean(coeffi))\r\n",
        "  plt.figure()\r\n",
        "  plt.plot([x for x in range(2,12)],silhouette_scores)\r\n",
        "  plt.show()\r\n",
        "\r\n",
        "silhouette()"
      ],
      "execution_count": null,
      "outputs": [
        {
          "output_type": "stream",
          "text": [
            "2.4548095946215548e-05\n",
            "3.479207295085549e-05\n",
            "5.495609353229765e-05\n",
            "6.039747103686669e-05\n",
            "7.769110790368249e-05\n",
            "8.661167127476462e-05\n",
            "9.450115233881285e-05\n",
            "0.00010402045464427443\n",
            "0.00011567524520191232\n",
            "0.0001316033473946406\n"
          ],
          "name": "stdout"
        },
        {
          "output_type": "display_data",
          "data": {
            "image/png": "[encoded data removed]",
            "text/plain": [
              "<Figure size 432x288 with 1 Axes>"
            ]
          },
          "metadata": {
            "tags": [],
            "needs_background": "light"
          }
        }
      ]
    },
    {
      "cell_type": "code",
      "metadata": {
        "id": "jl8hQgCh46l5",
        "colab": {
          "base_uri": "https://localhost:8080/"
        },
        "outputId": "0ab3d61e-91d5-4589-8026-3d92144bbdb9"
      },
      "source": [
        "k = Kmeans()\r\n",
        "k.fit(X_train,y_train,10,init='random-partition')\r\n",
        "k.train(10)\r\n",
        "ypredict = k.get_prediction()\r\n",
        "homogeneity_completeness_v_measure(y_train,ypredict)"
      ],
      "execution_count": null,
      "outputs": [
        {
          "output_type": "execute_result",
          "data": {
            "text/plain": [
              "(0.4625515180174657, 0.46817270885167894, 0.4653451385963321)"
            ]
          },
          "metadata": {
            "tags": []
          },
          "execution_count": 124
        }
      ]
    },
    {
      "cell_type": "code",
      "metadata": {
        "id": "6SjLb4bN5axv",
        "colab": {
          "base_uri": "https://localhost:8080/"
        },
        "outputId": "10160731-78e5-4352-b002-6c484218ce3d"
      },
      "source": [
        "k = Kmeans()\r\n",
        "k.fit(X_train,y_train,10)\r\n",
        "k.train(10)\r\n",
        "ypredict = k.get_prediction()\r\n",
        "homogeneity_completeness_v_measure(y_train,ypredict)"
      ],
      "execution_count": null,
      "outputs": [
        {
          "output_type": "execute_result",
          "data": {
            "text/plain": [
              "(0.47106006626634156, 0.48684329262946074, 0.4788216505508751)"
            ]
          },
          "metadata": {
            "tags": []
          },
          "execution_count": 125
        }
      ]
    },
    {
      "cell_type": "code",
      "metadata": {
        "id": "CwMv-BE87A9E",
        "colab": {
          "base_uri": "https://localhost:8080/"
        },
        "outputId": "1f50b891-9687-4ca9-e935-c75203e6deb5"
      },
      "source": [
        "k = Kmeans()\r\n",
        "k.fit(X_train,y_train,10,init='forgy')\r\n",
        "k.train(10)\r\n",
        "ypredict = k.get_prediction()\r\n",
        "homogeneity_completeness_v_measure(y_train,ypredict)"
      ],
      "execution_count": null,
      "outputs": [
        {
          "output_type": "execute_result",
          "data": {
            "text/plain": [
              "(0.44684470109494456, 0.4524852269462897, 0.44964727555563466)"
            ]
          },
          "metadata": {
            "tags": []
          },
          "execution_count": 126
        }
      ]
    },
    {
      "cell_type": "code",
      "metadata": {
        "id": "7iCafViD85-e",
        "colab": {
          "base_uri": "https://localhost:8080/"
        },
        "outputId": "5c3aa6d3-69bc-4bd9-f711-92e68a97d436"
      },
      "source": [
        "k = Kmeans()\r\n",
        "k.fit(X_train,y_train,10,init='forgy')\r\n",
        "k.train(10,'manhattan')\r\n",
        "ypredict = k.get_prediction()\r\n",
        "homogeneity_completeness_v_measure(y_train,ypredict)"
      ],
      "execution_count": null,
      "outputs": [
        {
          "output_type": "execute_result",
          "data": {
            "text/plain": [
              "(0.47933068550978325, 0.4854225415421429, 0.48235738026046143)"
            ]
          },
          "metadata": {
            "tags": []
          },
          "execution_count": 172
        }
      ]
    },
    {
      "cell_type": "code",
      "metadata": {
        "colab": {
          "base_uri": "https://localhost:8080/"
        },
        "id": "ppSFFWEdEAk3",
        "outputId": "dc3dca95-44c0-4252-f65b-302897c78e29"
      },
      "source": [
        "k = Kmeans()\r\n",
        "k.fit(X_train,y_train,10)\r\n",
        "k.train(10,'manhattan')\r\n",
        "ypredict = k.get_prediction()\r\n",
        "homogeneity_completeness_v_measure(y_train,ypredict)"
      ],
      "execution_count": null,
      "outputs": [
        {
          "output_type": "execute_result",
          "data": {
            "text/plain": [
              "(0.5069746098816242, 0.5129104984703547, 0.5099252802825631)"
            ]
          },
          "metadata": {
            "tags": []
          },
          "execution_count": 173
        }
      ]
    },
    {
      "cell_type": "code",
      "metadata": {
        "colab": {
          "base_uri": "https://localhost:8080/"
        },
        "id": "QE6MXAkcfFsw",
        "outputId": "9414c181-cfae-4a8d-e1fe-39d6be41bee7"
      },
      "source": [
        "t = TSNE(learning_rate=50)\r\n",
        "t_features = t.fit_transform(X_train)\r\n",
        "t_features"
      ],
      "execution_count": null,
      "outputs": [
        {
          "output_type": "execute_result",
          "data": {
            "text/plain": [
              "array([[ 29.246138 ,  -7.9011917],\n",
              "       [ 25.275558 , -19.052498 ],\n",
              "       [  6.506582 ,  -9.317986 ],\n",
              "       ...,\n",
              "       [ 17.82467  ,   4.722626 ],\n",
              "       [-17.018122 , -11.653462 ],\n",
              "       [-20.08117  , -19.735788 ]], dtype=float32)"
            ]
          },
          "metadata": {
            "tags": []
          },
          "execution_count": 22
        }
      ]
    },
    {
      "cell_type": "code",
      "metadata": {
        "colab": {
          "base_uri": "https://localhost:8080/",
          "height": 265
        },
        "id": "aQKTy1exgUW8",
        "outputId": "9ec39271-cdeb-486c-ea9d-e4d2f922b31a"
      },
      "source": [
        "x = t_features[:,0]\r\n",
        "y = t_features[:,1]\r\n",
        "plt.figure()\r\n",
        "plt.scatter(x,y ,c=y_train)\r\n",
        "plt.show()"
      ],
      "execution_count": null,
      "outputs": [
        {
          "output_type": "display_data",
          "data": {
            "image/png": "[encoded data removed]",
            "text/plain": [
              "<Figure size 432x288 with 1 Axes>"
            ]
          },
          "metadata": {
            "tags": [],
            "needs_background": "light"
          }
        }
      ]
    },
    {
      "cell_type": "markdown",
      "metadata": {
        "id": "sLki59LAsuAm"
      },
      "source": [
        "# OBSERVATION\r\n",
        "- We can observe from the elbow method and silhouette method that k=10 can be choosen as optimal cluster number . This is be observed in both the latent space as well as actual data set.\r\n",
        "- From the above homogeneity_completeness_v_measure score we can conclude that the latent space has slightly less accuracy than the acutual dataset but it takes much less time in computation."
      ]
    }
  ]
}